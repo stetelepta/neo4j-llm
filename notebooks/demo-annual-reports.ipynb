{
 "cells": [
  {
   "cell_type": "markdown",
   "id": "8e7e7b80-d626-4094-86e9-c62bca2c997c",
   "metadata": {},
   "source": [
    "# Demo - Annual Reports\n",
    "\n",
    "* Read page from Annual Report of Rabobank and ING\n",
    "* Prompt LLM to Extract financial KPIs\n",
    "* output as JSON to create a DataFrame\n",
    "* Compare results for the two reports\n",
    "\n",
    "### Sources:\n",
    "* https://learn.deeplearning.ai/langchain\n",
    "* https://python.langchain.com/docs/get_started/quickstart"
   ]
  },
  {
   "cell_type": "markdown",
   "id": "c8b93c37-f0a9-46c8-82e9-dd7ff1f6f2f0",
   "metadata": {},
   "source": [
    "### Requirements"
   ]
  },
  {
   "cell_type": "code",
   "execution_count": 1,
   "id": "722da72e-0aaf-4023-bdc4-22853d1c9cb8",
   "metadata": {
    "tags": []
   },
   "outputs": [],
   "source": [
    "!pip install pypdf langchain openai langchain-openai neo4j python-dotenv langchainhub langchain-community --quiet"
   ]
  },
  {
   "cell_type": "code",
   "execution_count": 2,
   "id": "d91031e7-9e19-4834-8e2e-6a6c688a3b61",
   "metadata": {
    "tags": []
   },
   "outputs": [
    {
     "name": "stdout",
     "output_type": "stream",
     "text": [
      "langchain          : 0.1.5\n",
      "langchainhub       : 0.1.14\n",
      "langchain_community: 0.0.17\n",
      "pypdf              : 4.0.1\n",
      "\n"
     ]
    }
   ],
   "source": [
    "%load_ext watermark\n",
    "%watermark -p langchain,langchainhub,langchain_community,pypdf"
   ]
  },
  {
   "cell_type": "markdown",
   "id": "9f718c68-90df-407e-87e3-8235c2f06180",
   "metadata": {},
   "source": [
    "### Imports"
   ]
  },
  {
   "cell_type": "code",
   "execution_count": 3,
   "id": "b3a5300d-35fe-4929-b7a8-ded5d5d64a1c",
   "metadata": {
    "tags": []
   },
   "outputs": [],
   "source": [
    "import os\n",
    "from graphdatascience import GraphDataScience\n",
    "from dotenv import load_dotenv, find_dotenv, dotenv_values\n",
    "from pathlib import Path\n",
    "import neo4j\n",
    "import json\n",
    "\n",
    "from langchain_openai import ChatOpenAI\n",
    "\n",
    "from langchain.agents import AgentExecutor, create_react_agent\n",
    "from langchain.chains import LLMChain\n",
    "from langchain.chains.conversation.memory import ConversationBufferMemory\n",
    "from langchain.chains.combine_documents import create_stuff_documents_chain\n",
    "from langchain.output_parsers.json import SimpleJsonOutputParser\n",
    "from langchain.prompts import PromptTemplate\n",
    "from langchain.tools import Tool\n",
    "\n",
    "from langchain_community.graphs import Neo4jGraph\n",
    "from langchain.chains import GraphCypherQAChain\n",
    "\n",
    "from langchain import hub\n",
    "from langchain_community.document_loaders import PyPDFLoader"
   ]
  },
  {
   "cell_type": "markdown",
   "id": "9836fbd4-fa26-49c7-b758-d01d2fc2e97c",
   "metadata": {},
   "source": [
    "### Settings"
   ]
  },
  {
   "cell_type": "code",
   "execution_count": 4,
   "id": "41d7b49c-ce17-42d0-85cc-fe21f86a8318",
   "metadata": {
    "tags": []
   },
   "outputs": [],
   "source": [
    "project_path = Path(os.getcwd()).parent\n",
    "data_path = project_path / \"data\"\n",
    "model_path = project_path / \"models\"\n",
    "output_path = project_path / \"output\"\n",
    "\n",
    "llm_model = \"gpt-4\"\n",
    "\n",
    "# load env settings\n",
    "load_dotenv(\"../.env.lotr\")\n",
    "\n",
    "openai_api_key = os.getenv('OPENAI_API_KEY')"
   ]
  },
  {
   "cell_type": "markdown",
   "id": "8dfbe0a7-229a-47b5-8f9c-88bb567b0889",
   "metadata": {},
   "source": [
    "### 1. Read pdf\n",
    "\n",
    "* Picked PyMyPDF because of this article: https://medium.com/social-impact-analytics/comparing-4-methods-for-pdf-text-extraction-in-python-fd34531034f"
   ]
  },
  {
   "cell_type": "code",
   "execution_count": 5,
   "id": "28d3c50b",
   "metadata": {},
   "outputs": [
    {
     "data": {
      "text/plain": [
       "['JRR Tolkien - Lord of the Rings Collection.pdf',\n",
       " '2023-ING-Groep-NV-annual-report.pdf',\n",
       " 'Annual Report 2023.pdf',\n",
       " 'recommendations-50.dump']"
      ]
     },
     "execution_count": 5,
     "metadata": {},
     "output_type": "execute_result"
    }
   ],
   "source": [
    "os.listdir(data_path)"
   ]
  },
  {
   "cell_type": "code",
   "execution_count": 6,
   "id": "974f8de6",
   "metadata": {},
   "outputs": [],
   "source": [
    "filename = \"Annual Report 2023.pdf\""
   ]
  },
  {
   "cell_type": "code",
   "execution_count": 7,
   "id": "362d3968",
   "metadata": {},
   "outputs": [
    {
     "name": "stdout",
     "output_type": "stream",
     "text": [
      "CPU times: user 13.9 s, sys: 60.8 ms, total: 13.9 s\n",
      "Wall time: 13.9 s\n"
     ]
    }
   ],
   "source": [
    "%%time\n",
    "# Wall time: 4.18 s\n",
    "\n",
    "loader = PyPDFLoader(str(data_path / filename))\n",
    "pages = loader.load_and_split()"
   ]
  },
  {
   "cell_type": "markdown",
   "id": "0941072f",
   "metadata": {},
   "source": [
    "### 2. Extract financial KPIs from selected pages "
   ]
  },
  {
   "cell_type": "code",
   "execution_count": 8,
   "id": "e8daedda",
   "metadata": {},
   "outputs": [],
   "source": [
    "selected_page_numbers = [50, 51, 52]\n",
    "selected_pages = [page for page in pages if page.metadata['page'] in selected_page_numbers]"
   ]
  },
  {
   "cell_type": "code",
   "execution_count": 9,
   "id": "a19f482d",
   "metadata": {},
   "outputs": [
    {
     "name": "stdout",
     "output_type": "stream",
     "text": [
      "llm.temperature: 0.0\n",
      "{\n",
      "    \"financial_KPIs\": {\n",
      "        \"Net Interest Income\": \"EUR 11,712 million\",\n",
      "        \"Net Fee and Commission Income\": \"EUR 2,091 million\",\n",
      "        \"Other Results\": \"EUR 1,602 million\",\n",
      "        \"Operating Expenses\": \"EUR 8,057 million\",\n",
      "        \"Operating Profit before tax\": \"EUR 5,962 million\",\n",
      "        \"Taxes\": \"EUR 1,585 million\"\n",
      "    },\n",
      "    \"summary\": \"The financial performance of Rabobank in 2023 showed improvements in key financial indicators such as Net Interest Income, Net Fee and Commission Income, and Other Results. Operating Expenses increased due to higher staff costs. Operating Profit before tax also increased significantly compared to the previous year. Overall, the performance seems better than expected.\",\n",
      "    \"performance\": \"better\"\n",
      "}\n",
      "CPU times: user 35.1 ms, sys: 15.4 ms, total: 50.5 ms\n",
      "Wall time: 3.63 s\n"
     ]
    }
   ],
   "source": [
    "%%time\n",
    "\n",
    "llm = ChatOpenAI(openai_api_key=openai_api_key, temperature=0)\n",
    "print(\"llm.temperature:\", llm.temperature)\n",
    "\n",
    "prompt = PromptTemplate(template=\"\"\"Extract financial KPIs out this text from an annual report and return them as as list of key value pairs\n",
    "\n",
    "<context>\n",
    "{context}\n",
    "</context>\n",
    "\n",
    "In addition, provide a summary for the text and estimate wheter the performance is better or worse than expected if you can find this from the text.\n",
    "\n",
    "{output}\n",
    "l\"\"\", input_variables=[\"context\", \"output\"])\n",
    "\n",
    "\n",
    "document_chain = create_stuff_documents_chain(llm, prompt)\n",
    "\n",
    "response = document_chain.invoke({\n",
    "    \"context\": [selected_pages[1]], \"output\": \"Output the response as valid JSON!\"\n",
    "})\n",
    "print(response)"
   ]
  },
  {
   "cell_type": "markdown",
   "id": "acdb991a",
   "metadata": {},
   "source": [
    "### 3. parse response as json and create dataframe"
   ]
  },
  {
   "cell_type": "code",
   "execution_count": 10,
   "id": "74508640",
   "metadata": {},
   "outputs": [
    {
     "data": {
      "text/html": [
       "<div>\n",
       "<style scoped>\n",
       "    .dataframe tbody tr th:only-of-type {\n",
       "        vertical-align: middle;\n",
       "    }\n",
       "\n",
       "    .dataframe tbody tr th {\n",
       "        vertical-align: top;\n",
       "    }\n",
       "\n",
       "    .dataframe thead th {\n",
       "        text-align: right;\n",
       "    }\n",
       "</style>\n",
       "<table border=\"1\" class=\"dataframe\">\n",
       "  <thead>\n",
       "    <tr style=\"text-align: right;\">\n",
       "      <th></th>\n",
       "      <th>0</th>\n",
       "    </tr>\n",
       "  </thead>\n",
       "  <tbody>\n",
       "    <tr>\n",
       "      <th>Net Interest Income</th>\n",
       "      <td>EUR 11,712 million</td>\n",
       "    </tr>\n",
       "    <tr>\n",
       "      <th>Net Fee and Commission Income</th>\n",
       "      <td>EUR 2,091 million</td>\n",
       "    </tr>\n",
       "    <tr>\n",
       "      <th>Other Results</th>\n",
       "      <td>EUR 1,602 million</td>\n",
       "    </tr>\n",
       "    <tr>\n",
       "      <th>Operating Expenses</th>\n",
       "      <td>EUR 8,057 million</td>\n",
       "    </tr>\n",
       "    <tr>\n",
       "      <th>Operating Profit before tax</th>\n",
       "      <td>EUR 5,962 million</td>\n",
       "    </tr>\n",
       "    <tr>\n",
       "      <th>Taxes</th>\n",
       "      <td>EUR 1,585 million</td>\n",
       "    </tr>\n",
       "  </tbody>\n",
       "</table>\n",
       "</div>"
      ],
      "text/plain": [
       "                                                0\n",
       "Net Interest Income            EUR 11,712 million\n",
       "Net Fee and Commission Income   EUR 2,091 million\n",
       "Other Results                   EUR 1,602 million\n",
       "Operating Expenses              EUR 8,057 million\n",
       "Operating Profit before tax     EUR 5,962 million\n",
       "Taxes                           EUR 1,585 million"
      ]
     },
     "metadata": {},
     "output_type": "display_data"
    },
    {
     "name": "stdout",
     "output_type": "stream",
     "text": [
      "The financial performance of Rabobank in 2023 showed improvements in key financial indicators such as Net Interest Income, Net Fee and Commission Income, and Other Results. Operating Expenses increased due to higher staff costs. Operating Profit before tax also increased significantly compared to the previous year. Overall, the performance seems better than expected.\n"
     ]
    }
   ],
   "source": [
    "response_json = json.loads(response)\n",
    "\n",
    "import pandas as pd\n",
    "display(pd.DataFrame([response_json['financial_KPIs']]).T)\n",
    "print(response_json['summary'])"
   ]
  },
  {
   "cell_type": "markdown",
   "id": "f628fdfa",
   "metadata": {},
   "source": [
    "### 4. Read multiple reports"
   ]
  },
  {
   "cell_type": "code",
   "execution_count": 11,
   "id": "ec8435f4",
   "metadata": {},
   "outputs": [],
   "source": [
    "annual_reports = [\n",
    "    {'company': 'Rabobank', 'filename': 'Annual Report 2023.pdf', 'selected_pages': [50, 51, 52]},\n",
    "    {'company': 'ING', 'filename': '2023-ING-Groep-NV-annual-report.pdf', 'selected_pages': [207, 208, 209]}\n",
    "]"
   ]
  },
  {
   "cell_type": "code",
   "execution_count": 12,
   "id": "6279d874",
   "metadata": {},
   "outputs": [
    {
     "name": "stdout",
     "output_type": "stream",
     "text": [
      "Annual Report 2023.pdf\n",
      "2023-ING-Groep-NV-annual-report.pdf\n",
      "CPU times: user 27.2 s, sys: 95.1 ms, total: 27.3 s\n",
      "Wall time: 27.3 s\n"
     ]
    }
   ],
   "source": [
    "%%time\n",
    "\n",
    "for report in annual_reports:\n",
    "    print(report['filename'])\n",
    "    \n",
    "    # load pdf\n",
    "    loader = PyPDFLoader(str(data_path / report['filename']))\n",
    "    report['pages'] = loader.load_and_split()"
   ]
  },
  {
   "cell_type": "markdown",
   "id": "bdc2ea5b-df63-4a2a-b053-218bf4a69619",
   "metadata": {},
   "source": [
    "#### 4.1 Response as text"
   ]
  },
  {
   "cell_type": "code",
   "execution_count": 13,
   "id": "c929a3c1-3572-460e-9a92-0ff015d68203",
   "metadata": {
    "tags": []
   },
   "outputs": [
    {
     "name": "stdout",
     "output_type": "stream",
     "text": [
      "llm.temperature: 0.0\n"
     ]
    }
   ],
   "source": [
    "llm = ChatOpenAI(openai_api_key=openai_api_key, temperature=0)\n",
    "print(\"llm.temperature:\", llm.temperature)\n",
    "\n",
    "prompt = PromptTemplate(template=\"\"\"Extract financial KPIs out this text from an annual report and return them as as list of key value pairs\n",
    "\n",
    "<context>\n",
    "{context}\n",
    "</context>\n",
    "\n",
    "In addition, provide a summary for the text and estimate wheter the performance is better or worse than expected if you can find this from the text.\n",
    "\n",
    "{output}\n",
    "l\"\"\", input_variables=[\"context\", \"output\"])"
   ]
  },
  {
   "cell_type": "markdown",
   "id": "1fc2dc8a",
   "metadata": {},
   "source": [
    "#### 4.2 Parse selected pages"
   ]
  },
  {
   "cell_type": "code",
   "execution_count": 14,
   "id": "a33c5ded",
   "metadata": {},
   "outputs": [
    {
     "name": "stdout",
     "output_type": "stream",
     "text": [
      "===\n",
      "Annual Report 2023.pdf\n",
      "{'source': '/Users/stetelepta/work/neo4j-llm/data/Annual Report 2023.pdf', 'page': 50}\n",
      "{'source': '/Users/stetelepta/work/neo4j-llm/data/Annual Report 2023.pdf', 'page': 51}\n",
      "{'source': '/Users/stetelepta/work/neo4j-llm/data/Annual Report 2023.pdf', 'page': 52}\n",
      "===\n",
      "2023-ING-Groep-NV-annual-report.pdf\n",
      "{'source': '/Users/stetelepta/work/neo4j-llm/data/2023-ING-Groep-NV-annual-report.pdf', 'page': 207}\n",
      "{'source': '/Users/stetelepta/work/neo4j-llm/data/2023-ING-Groep-NV-annual-report.pdf', 'page': 208}\n",
      "{'source': '/Users/stetelepta/work/neo4j-llm/data/2023-ING-Groep-NV-annual-report.pdf', 'page': 209}\n",
      "error getting json, skip page\n",
      "CPU times: user 344 ms, sys: 20.9 ms, total: 365 ms\n",
      "Wall time: 56.6 s\n"
     ]
    }
   ],
   "source": [
    "%%time\n",
    "\n",
    "document_chain = create_stuff_documents_chain(llm, prompt)\n",
    "document_json_chain = create_stuff_documents_chain(llm, prompt, output_parser=SimpleJsonOutputParser())\n",
    "\n",
    "for report in annual_reports:\n",
    "    print(\"===\")\n",
    "    print(report['filename'])\n",
    "    \n",
    "    output = []\n",
    "    output_json = []\n",
    "    for i, page in enumerate(report['pages']):\n",
    "        if page.metadata['page'] in report['selected_pages']:\n",
    "            print(page.metadata)\n",
    "            \n",
    "            response = document_chain.invoke({\n",
    "                \"context\": [page], \"output\": \"\"\n",
    "            })\n",
    "\n",
    "            output.append({'page_index': i, 'page': page.metadata['page'], 'response': response})\n",
    "            \n",
    "            try:\n",
    "                # as valid JSON\n",
    "                response_json = document_json_chain.invoke({\n",
    "                    \"context\": [page], \"output\": \"Very important is that you output the response as valid JSON!\"\n",
    "                })\n",
    "                output_json.append({'page_index': i, 'page': page.metadata['page'], 'response': response_json})\n",
    "            except Exception as e:\n",
    "                print(\"error getting json, skip page\")\n",
    "        \n",
    "    report['responses'] = output\n",
    "    report['responses_json'] = output_json"
   ]
  },
  {
   "cell_type": "code",
   "execution_count": 15,
   "id": "e097135e",
   "metadata": {},
   "outputs": [
    {
     "name": "stdout",
     "output_type": "stream",
     "text": [
      "Rabobank\n",
      "page_index 69\n",
      "page 50\n"
     ]
    },
    {
     "data": {
      "text/html": [
       "<div>\n",
       "<style scoped>\n",
       "    .dataframe tbody tr th:only-of-type {\n",
       "        vertical-align: middle;\n",
       "    }\n",
       "\n",
       "    .dataframe tbody tr th {\n",
       "        vertical-align: top;\n",
       "    }\n",
       "\n",
       "    .dataframe thead th {\n",
       "        text-align: right;\n",
       "    }\n",
       "</style>\n",
       "<table border=\"1\" class=\"dataframe\">\n",
       "  <thead>\n",
       "    <tr style=\"text-align: right;\">\n",
       "      <th></th>\n",
       "      <th>0</th>\n",
       "    </tr>\n",
       "  </thead>\n",
       "  <tbody>\n",
       "    <tr>\n",
       "      <th>Net interest income</th>\n",
       "      <td>11712</td>\n",
       "    </tr>\n",
       "    <tr>\n",
       "      <th>Net fee and commission income</th>\n",
       "      <td>2091</td>\n",
       "    </tr>\n",
       "    <tr>\n",
       "      <th>Other results</th>\n",
       "      <td>1602</td>\n",
       "    </tr>\n",
       "    <tr>\n",
       "      <th>Total income</th>\n",
       "      <td>15405</td>\n",
       "    </tr>\n",
       "    <tr>\n",
       "      <th>Staff costs</th>\n",
       "      <td>5858</td>\n",
       "    </tr>\n",
       "    <tr>\n",
       "      <th>Other administrative expenses</th>\n",
       "      <td>1851</td>\n",
       "    </tr>\n",
       "    <tr>\n",
       "      <th>Depreciation and amortization</th>\n",
       "      <td>348</td>\n",
       "    </tr>\n",
       "    <tr>\n",
       "      <th>Total operating expenses</th>\n",
       "      <td>8057</td>\n",
       "    </tr>\n",
       "    <tr>\n",
       "      <th>Gross result</th>\n",
       "      <td>7348</td>\n",
       "    </tr>\n",
       "    <tr>\n",
       "      <th>Impairment losses on goodwill and associates</th>\n",
       "      <td>105</td>\n",
       "    </tr>\n",
       "    <tr>\n",
       "      <th>Impairment charges on financial assets</th>\n",
       "      <td>727</td>\n",
       "    </tr>\n",
       "    <tr>\n",
       "      <th>Regulatory levies</th>\n",
       "      <td>554</td>\n",
       "    </tr>\n",
       "    <tr>\n",
       "      <th>Operating profit before tax</th>\n",
       "      <td>5962</td>\n",
       "    </tr>\n",
       "    <tr>\n",
       "      <th>Income tax</th>\n",
       "      <td>1585</td>\n",
       "    </tr>\n",
       "    <tr>\n",
       "      <th>Net profit</th>\n",
       "      <td>4377</td>\n",
       "    </tr>\n",
       "    <tr>\n",
       "      <th>Impairment charges on financial assets (in basis points)</th>\n",
       "      <td>17</td>\n",
       "    </tr>\n",
       "    <tr>\n",
       "      <th>Cost/income ratio including regulatory levies</th>\n",
       "      <td>55.9%</td>\n",
       "    </tr>\n",
       "    <tr>\n",
       "      <th>Underlying cost/income ratio including regulatory levies</th>\n",
       "      <td>57.4%</td>\n",
       "    </tr>\n",
       "    <tr>\n",
       "      <th>RoE</th>\n",
       "      <td>9.1%</td>\n",
       "    </tr>\n",
       "    <tr>\n",
       "      <th>Total assets</th>\n",
       "      <td>613.8</td>\n",
       "    </tr>\n",
       "    <tr>\n",
       "      <th>Private sector loan portfolio</th>\n",
       "      <td>434.0</td>\n",
       "    </tr>\n",
       "    <tr>\n",
       "      <th>Deposits from customers</th>\n",
       "      <td>391.4</td>\n",
       "    </tr>\n",
       "    <tr>\n",
       "      <th>Number of internal employees (in FTEs)</th>\n",
       "      <td>40467</td>\n",
       "    </tr>\n",
       "    <tr>\n",
       "      <th>Number of external employees (in FTEs)</th>\n",
       "      <td>8665</td>\n",
       "    </tr>\n",
       "    <tr>\n",
       "      <th>Total number of employees (in FTEs)</th>\n",
       "      <td>49132</td>\n",
       "    </tr>\n",
       "  </tbody>\n",
       "</table>\n",
       "</div>"
      ],
      "text/plain": [
       "                                                        0\n",
       "Net interest income                                 11712\n",
       "Net fee and commission income                        2091\n",
       "Other results                                        1602\n",
       "Total income                                        15405\n",
       "Staff costs                                          5858\n",
       "Other administrative expenses                        1851\n",
       "Depreciation and amortization                         348\n",
       "Total operating expenses                             8057\n",
       "Gross result                                         7348\n",
       "Impairment losses on goodwill and associates          105\n",
       "Impairment charges on financial assets                727\n",
       "Regulatory levies                                     554\n",
       "Operating profit before tax                          5962\n",
       "Income tax                                           1585\n",
       "Net profit                                           4377\n",
       "Impairment charges on financial assets (in basi...     17\n",
       "Cost/income ratio including regulatory levies       55.9%\n",
       "Underlying cost/income ratio including regulato...  57.4%\n",
       "RoE                                                  9.1%\n",
       "Total assets                                        613.8\n",
       "Private sector loan portfolio                       434.0\n",
       "Deposits from customers                             391.4\n",
       "Number of internal employees (in FTEs)              40467\n",
       "Number of external employees (in FTEs)               8665\n",
       "Total number of employees (in FTEs)                 49132"
      ]
     },
     "metadata": {},
     "output_type": "display_data"
    },
    {
     "name": "stdout",
     "output_type": "stream",
     "text": [
      "response {'Net interest income': 11712, 'Net fee and commission income': 2091, 'Other results': 1602, 'Total income': 15405, 'Staff costs': 5858, 'Other administrative expenses': 1851, 'Depreciation and amortization': 348, 'Total operating expenses': 8057, 'Gross result': 7348, 'Impairment losses on goodwill and associates': 105, 'Impairment charges on financial assets': 727, 'Regulatory levies': 554, 'Operating profit before tax': 5962, 'Income tax': 1585, 'Net profit': 4377, 'Impairment charges on financial assets (in basis points)': 17, 'Cost/income ratio including regulatory levies': '55.9%', 'Underlying cost/income ratio including regulatory levies': '57.4%', 'RoE': '9.1%', 'Total assets': 613.8, 'Private sector loan portfolio': 434.0, 'Deposits from customers': 391.4, 'Number of internal employees (in FTEs)': 40467, 'Number of external employees (in FTEs)': 8665, 'Total number of employees (in FTEs)': 49132}\n",
      "page_index 70\n",
      "page 51\n"
     ]
    },
    {
     "data": {
      "text/html": [
       "<div>\n",
       "<style scoped>\n",
       "    .dataframe tbody tr th:only-of-type {\n",
       "        vertical-align: middle;\n",
       "    }\n",
       "\n",
       "    .dataframe tbody tr th {\n",
       "        vertical-align: top;\n",
       "    }\n",
       "\n",
       "    .dataframe thead th {\n",
       "        text-align: right;\n",
       "    }\n",
       "</style>\n",
       "<table border=\"1\" class=\"dataframe\">\n",
       "  <thead>\n",
       "    <tr style=\"text-align: right;\">\n",
       "      <th></th>\n",
       "      <th>0</th>\n",
       "    </tr>\n",
       "  </thead>\n",
       "  <tbody>\n",
       "    <tr>\n",
       "      <th>financial_KPIs</th>\n",
       "      <td>{'Net Interest Income': 'EUR 11,712 million', ...</td>\n",
       "    </tr>\n",
       "    <tr>\n",
       "      <th>summary</th>\n",
       "      <td>The financial performance of Rabobank in 2023 ...</td>\n",
       "    </tr>\n",
       "    <tr>\n",
       "      <th>performance</th>\n",
       "      <td>Better than expected</td>\n",
       "    </tr>\n",
       "  </tbody>\n",
       "</table>\n",
       "</div>"
      ],
      "text/plain": [
       "                                                                0\n",
       "financial_KPIs  {'Net Interest Income': 'EUR 11,712 million', ...\n",
       "summary         The financial performance of Rabobank in 2023 ...\n",
       "performance                                  Better than expected"
      ]
     },
     "metadata": {},
     "output_type": "display_data"
    },
    {
     "name": "stdout",
     "output_type": "stream",
     "text": [
      "response {'financial_KPIs': {'Net Interest Income': 'EUR 11,712 million', 'Net Fee and Commission Income': 'EUR 2,091 million', 'Other Results': 'EUR 1,602 million', 'Operating Expenses': 'EUR 8,057 million', 'Operating Profit before tax': 'EUR 5,962 million', 'Taxes': 'EUR 1,585 million', 'Net Profit Retained': 'EUR 3,575 million'}, 'summary': 'The financial performance of Rabobank in 2023 showed an increase in net interest income, stable net fee and commission income, and higher other results. Operating expenses also increased, leading to an operating profit before tax of EUR 5,962 million. Taxes amounted to EUR 1,585 million, resulting in a net profit retained of EUR 3,575 million.', 'performance': 'Better than expected'}\n",
      "page_index 71\n",
      "page 52\n"
     ]
    },
    {
     "data": {
      "text/html": [
       "<div>\n",
       "<style scoped>\n",
       "    .dataframe tbody tr th:only-of-type {\n",
       "        vertical-align: middle;\n",
       "    }\n",
       "\n",
       "    .dataframe tbody tr th {\n",
       "        vertical-align: top;\n",
       "    }\n",
       "\n",
       "    .dataframe thead th {\n",
       "        text-align: right;\n",
       "    }\n",
       "</style>\n",
       "<table border=\"1\" class=\"dataframe\">\n",
       "  <thead>\n",
       "    <tr style=\"text-align: right;\">\n",
       "      <th></th>\n",
       "      <th>0</th>\n",
       "    </tr>\n",
       "  </thead>\n",
       "  <tbody>\n",
       "    <tr>\n",
       "      <th>financial_KPIs</th>\n",
       "      <td>{'Total staff costs': 'EUR 5,858 million', 'To...</td>\n",
       "    </tr>\n",
       "    <tr>\n",
       "      <th>summary</th>\n",
       "      <td>In 2023, total staff costs, total other admini...</td>\n",
       "    </tr>\n",
       "  </tbody>\n",
       "</table>\n",
       "</div>"
      ],
      "text/plain": [
       "                                                                0\n",
       "financial_KPIs  {'Total staff costs': 'EUR 5,858 million', 'To...\n",
       "summary         In 2023, total staff costs, total other admini..."
      ]
     },
     "metadata": {},
     "output_type": "display_data"
    },
    {
     "name": "stdout",
     "output_type": "stream",
     "text": [
      "response {'financial_KPIs': {'Total staff costs': 'EUR 5,858 million', 'Total other administrative expenses': 'EUR 1,851 million', 'Depreciation and amortization': 'EUR 348 million', 'Impairment charges on financial assets': 'EUR 727 million', 'Non-performing loans (NPL)': 'EUR 9.0 billion', 'Regulatory levies': 'EUR 554 million', 'Total assets (12-31-2023)': 'EUR 613.8 billion', 'Total liabilities (12-31-2023)': 'EUR 564.2 billion', 'Equity (12-31-2023)': 'EUR 49.6 billion'}, 'summary': 'In 2023, total staff costs, total other administrative expenses, depreciation and amortization, impairment charges on financial assets, non-performing loans, and regulatory levies all increased compared to 2022. However, regulatory levies decreased. The total assets, total liabilities, and equity also increased in 2023 compared to 2022. Overall, the performance seems to be in line with expectations as the increase in costs and liabilities is balanced by an increase in assets and equity.'}\n",
      "ING\n",
      "page_index 317\n",
      "page 207\n"
     ]
    },
    {
     "data": {
      "text/html": [
       "<div>\n",
       "<style scoped>\n",
       "    .dataframe tbody tr th:only-of-type {\n",
       "        vertical-align: middle;\n",
       "    }\n",
       "\n",
       "    .dataframe tbody tr th {\n",
       "        vertical-align: top;\n",
       "    }\n",
       "\n",
       "    .dataframe thead th {\n",
       "        text-align: right;\n",
       "    }\n",
       "</style>\n",
       "<table border=\"1\" class=\"dataframe\">\n",
       "  <thead>\n",
       "    <tr style=\"text-align: right;\">\n",
       "      <th></th>\n",
       "      <th>0</th>\n",
       "    </tr>\n",
       "  </thead>\n",
       "  <tbody>\n",
       "    <tr>\n",
       "      <th>financial_KPIs</th>\n",
       "      <td>{'Total interest income': '52,227', 'Total exp...</td>\n",
       "    </tr>\n",
       "    <tr>\n",
       "      <th>summary</th>\n",
       "      <td>The financial performance of the company in 20...</td>\n",
       "    </tr>\n",
       "  </tbody>\n",
       "</table>\n",
       "</div>"
      ],
      "text/plain": [
       "                                                                0\n",
       "financial_KPIs  {'Total interest income': '52,227', 'Total exp...\n",
       "summary         The financial performance of the company in 20..."
      ]
     },
     "metadata": {},
     "output_type": "display_data"
    },
    {
     "name": "stdout",
     "output_type": "stream",
     "text": [
      "response {'financial_KPIs': {'Total interest income': '52,227', 'Total expenses': '12,084', 'Net interest income': '15,976', 'Net result': '7,521', 'Net fee and commission income': '3,595', 'Total income': '22,575'}, 'summary': 'The financial performance of the company in 2023 shows an increase in total interest income, net interest income, net result, net fee and commission income, and total income compared to the previous years. This indicates a positive performance that is better than expected.'}\n",
      "page_index 318\n",
      "page 208\n"
     ]
    },
    {
     "data": {
      "text/html": [
       "<div>\n",
       "<style scoped>\n",
       "    .dataframe tbody tr th:only-of-type {\n",
       "        vertical-align: middle;\n",
       "    }\n",
       "\n",
       "    .dataframe tbody tr th {\n",
       "        vertical-align: top;\n",
       "    }\n",
       "\n",
       "    .dataframe thead th {\n",
       "        text-align: right;\n",
       "    }\n",
       "</style>\n",
       "<table border=\"1\" class=\"dataframe\">\n",
       "  <thead>\n",
       "    <tr style=\"text-align: right;\">\n",
       "      <th></th>\n",
       "      <th>0</th>\n",
       "    </tr>\n",
       "  </thead>\n",
       "  <tbody>\n",
       "    <tr>\n",
       "      <th>financial_KPIs</th>\n",
       "      <td>{'Net result (before non-controlling interests...</td>\n",
       "    </tr>\n",
       "    <tr>\n",
       "      <th>summary</th>\n",
       "      <td>The financial performance of the company has s...</td>\n",
       "    </tr>\n",
       "    <tr>\n",
       "      <th>performance</th>\n",
       "      <td>better than expected</td>\n",
       "    </tr>\n",
       "  </tbody>\n",
       "</table>\n",
       "</div>"
      ],
      "text/plain": [
       "                                                                0\n",
       "financial_KPIs  {'Net result (before non-controlling interests...\n",
       "summary         The financial performance of the company has s...\n",
       "performance                                  better than expected"
      ]
     },
     "metadata": {},
     "output_type": "display_data"
    },
    {
     "name": "stdout",
     "output_type": "stream",
     "text": [
      "response {'financial_KPIs': {'Net result (before non-controlling interests)': {'2023': 7521, '2022': 3777, '2021': 4905}, 'Total comprehensive income': {'2023': 8507, '2022': 636, '2021': 3096}}, 'summary': 'The financial performance of the company has significantly improved in 2023 compared to the previous years, with a notable increase in net result and total comprehensive income.', 'performance': 'better than expected'}\n"
     ]
    }
   ],
   "source": [
    "for report in annual_reports:\n",
    "    print(report['company'])\n",
    "    for d in report['responses_json']:\n",
    "        for k, v in d.items():\n",
    "            if k == \"response\":\n",
    "                display(pd.DataFrame([v]).T)\n",
    "            print(k, v)"
   ]
  }
 ],
 "metadata": {
  "kernelspec": {
   "display_name": "Python 3 (ipykernel)",
   "language": "python",
   "name": "python3"
  },
  "language_info": {
   "codemirror_mode": {
    "name": "ipython",
    "version": 3
   },
   "file_extension": ".py",
   "mimetype": "text/x-python",
   "name": "python",
   "nbconvert_exporter": "python",
   "pygments_lexer": "ipython3",
   "version": "3.9.12"
  }
 },
 "nbformat": 4,
 "nbformat_minor": 5
}
