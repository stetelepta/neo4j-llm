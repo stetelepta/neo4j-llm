{
 "cells": [
  {
   "cell_type": "markdown",
   "id": "8e7e7b80-d626-4094-86e9-c62bca2c997c",
   "metadata": {
    "tags": []
   },
   "source": [
    "# Demo - News to open sanctions\n",
    "\n",
    "* Read News article from url\n",
    "* Match entities and relations from article with Open Sanctions data\n",
    "\n",
    "Compare methods:\n",
    "* Exact matching\n",
    "    1. use LLM to extract nodes and relations\n",
    "    2. use cypher query to see if there are matches in the open sanctions graph\n",
    "* RAG\n",
    "    1. embed (parts of) Open Sanctions data and store as Vector in the graph\n",
    "    2. use LLM to extract nodes and relations\n",
    "    3. generate embeddings for nodes and relations\n",
    "    4. find matches using vector similarity match\n",
    "\n",
    "### Sources:\n",
    "* RAG paper - https://arxiv.org/abs/2005.11401\n",
    "* RAG implementation - https://towardsdatascience.com/retrieval-augmented-generation-rag-from-theory-to-langchain-implementation-4e9bd5f6a4f2\n",
    "* Customer embedding - INSTRUCTOR - https://arxiv.org/pdf/2212.09741.pdf\n"
   ]
  },
  {
   "cell_type": "markdown",
   "id": "c8b93c37-f0a9-46c8-82e9-dd7ff1f6f2f0",
   "metadata": {},
   "source": [
    "### Requirements"
   ]
  },
  {
   "cell_type": "code",
   "execution_count": 1,
   "id": "722da72e-0aaf-4023-bdc4-22853d1c9cb8",
   "metadata": {
    "tags": []
   },
   "outputs": [],
   "source": [
    "#!pip install newsapi-python langchain openai langchain-openai neo4j python-dotenv langchainhub langchain-community --quiet"
   ]
  },
  {
   "cell_type": "code",
   "execution_count": 2,
   "id": "d91031e7-9e19-4834-8e2e-6a6c688a3b61",
   "metadata": {
    "tags": []
   },
   "outputs": [
    {
     "name": "stdout",
     "output_type": "stream",
     "text": [
      "langchain          : 0.1.5\n",
      "langchainhub       : 0.1.14\n",
      "langchain_community: 0.0.17\n",
      "\n"
     ]
    }
   ],
   "source": [
    "%load_ext watermark\n",
    "%watermark -p langchain,langchainhub,langchain_community"
   ]
  },
  {
   "cell_type": "markdown",
   "id": "9f718c68-90df-407e-87e3-8235c2f06180",
   "metadata": {},
   "source": [
    "### Imports"
   ]
  },
  {
   "cell_type": "code",
   "execution_count": 116,
   "id": "b3a5300d-35fe-4929-b7a8-ded5d5d64a1c",
   "metadata": {
    "tags": []
   },
   "outputs": [],
   "source": [
    "import os\n",
    "import pandas as pd\n",
    "from graphdatascience import GraphDataScience\n",
    "from dotenv import load_dotenv, find_dotenv, dotenv_values\n",
    "from pathlib import Path\n",
    "import neo4j\n",
    "\n",
    "from langchain_openai import ChatOpenAI\n",
    "from langchain_openai import OpenAIEmbeddings\n",
    "from langchain.vectorstores.neo4j_vector import Neo4jVector\n",
    "\n",
    "from langchain.agents import AgentExecutor, create_react_agent\n",
    "from langchain.chains import LLMChain\n",
    "from langchain.chains.conversation.memory import ConversationBufferMemory\n",
    "from langchain.chains.combine_documents import create_stuff_documents_chain\n",
    "from langchain_core.documents import Document\n",
    "from langchain.output_parsers.json import SimpleJsonOutputParser\n",
    "from langchain.prompts import PromptTemplate\n",
    "from langchain.tools import Tool\n",
    "\n",
    "from langchain_community.graphs import Neo4jGraph\n",
    "from langchain.chains import GraphCypherQAChain\n",
    "\n",
    "from langchain import hub\n",
    "from langchain_community.document_loaders import PyPDFLoader\n",
    "\n",
    "import newsapi\n",
    "\n",
    "from IPython.display import Image\n",
    "from IPython.core.display import HTML\n",
    "\n",
    "from string import Template\n",
    "from datetime import datetime"
   ]
  },
  {
   "cell_type": "markdown",
   "id": "9836fbd4-fa26-49c7-b758-d01d2fc2e97c",
   "metadata": {},
   "source": [
    "### Settings"
   ]
  },
  {
   "cell_type": "code",
   "execution_count": 4,
   "id": "41d7b49c-ce17-42d0-85cc-fe21f86a8318",
   "metadata": {
    "tags": []
   },
   "outputs": [],
   "source": [
    "project_path = Path(os.getcwd()).parent\n",
    "data_path = project_path / \"data\"\n",
    "model_path = project_path / \"models\"\n",
    "output_path = project_path / \"output\"\n",
    "\n",
    "llm_model = \"gpt-4\"\n",
    "\n",
    "# load env settings\n",
    "load_dotenv(\"../.env.opensanctions\")\n",
    "\n",
    "neo4j_url = os.getenv('NEO4J_URL')\n",
    "neo4j_database = \"open-sanctions\"\n",
    "neo4j_user = os.getenv('NEO4J_USER')\n",
    "neo4j_pass = os.getenv('NEO4J_PASS')\n",
    "openai_api_key = os.getenv('OPENAI_API_KEY')\n",
    "news_api_key = os.getenv('NEWS_API_KEY')"
   ]
  },
  {
   "cell_type": "markdown",
   "id": "8dfbe0a7-229a-47b5-8f9c-88bb567b0889",
   "metadata": {},
   "source": [
    "### 1. Read news article\n",
    "\n",
    "* Created developer API Key on https://newsapi.org"
   ]
  },
  {
   "cell_type": "code",
   "execution_count": 6,
   "id": "1a15d28f-86ab-404a-9b60-40e9bec963c2",
   "metadata": {
    "tags": []
   },
   "outputs": [],
   "source": [
    "# Init\n",
    "api = newsapi.NewsApiClient(api_key=news_api_key)"
   ]
  },
  {
   "cell_type": "markdown",
   "id": "846c3e05-c473-42af-8903-7869c556d8ad",
   "metadata": {},
   "source": [
    "### Explore available sources"
   ]
  },
  {
   "cell_type": "code",
   "execution_count": 7,
   "id": "1087b261-5e92-45ab-b6e5-a07d0168ab6c",
   "metadata": {
    "tags": []
   },
   "outputs": [
    {
     "name": "stdout",
     "output_type": "stream",
     "text": [
      "newsapi.const.categories: {'entertainment', 'general', 'health', 'technology', 'sports', 'business', 'science'}\n",
      "newsapi.const.languages: {'de', 'zh', 'cn', 'en-US', 'no', 'es', 'sv', 'ud', 'he', 'it', 'pt', 'en', 'nl', 'se', 'ru', 'ar', 'fr'}\n",
      "newsapi.const.countries: {'de', 'gr', 'at', 'ca', 'cn', 'il', 'my', 'za', 'ph', 'jp', 'id', 'no', 'ae', 'lv', 'ch', 'pl', 'co', 'pt', 'eg', 'ng', 'kr', 'lt', 'mx', 'se', 'bg', 'is', 'fr', 'hu', 'tw', 'ma', 'th', 'us', 'zh', 'ro', 'ie', 'cu', 'tr', 'sg', 'cz', 'si', 'es', 'hk', 'sk', 'sa', 'in', 'pk', 'br', 'gb', 'it', 'nz', 'be', 'nl', 'ua', 've', 'ru', 'rs', 'ar', 'au'}\n"
     ]
    }
   ],
   "source": [
    "print(\"newsapi.const.categories:\", newsapi.const.categories)\n",
    "print(\"newsapi.const.languages:\", newsapi.const.languages)\n",
    "print(\"newsapi.const.countries:\", newsapi.const.countries)"
   ]
  },
  {
   "cell_type": "code",
   "execution_count": 8,
   "id": "31d34f76-c61d-4ce8-96ac-2a797ead30c5",
   "metadata": {
    "tags": []
   },
   "outputs": [
    {
     "data": {
      "text/html": [
       "<div>\n",
       "<style scoped>\n",
       "    .dataframe tbody tr th:only-of-type {\n",
       "        vertical-align: middle;\n",
       "    }\n",
       "\n",
       "    .dataframe tbody tr th {\n",
       "        vertical-align: top;\n",
       "    }\n",
       "\n",
       "    .dataframe thead th {\n",
       "        text-align: right;\n",
       "    }\n",
       "</style>\n",
       "<table border=\"1\" class=\"dataframe\">\n",
       "  <thead>\n",
       "    <tr style=\"text-align: right;\">\n",
       "      <th></th>\n",
       "      <th>id</th>\n",
       "      <th>name</th>\n",
       "      <th>description</th>\n",
       "      <th>url</th>\n",
       "      <th>category</th>\n",
       "      <th>language</th>\n",
       "      <th>country</th>\n",
       "    </tr>\n",
       "  </thead>\n",
       "  <tbody>\n",
       "    <tr>\n",
       "      <th>0</th>\n",
       "      <td>abc-news</td>\n",
       "      <td>ABC News</td>\n",
       "      <td>Your trusted source for breaking news, analysi...</td>\n",
       "      <td>https://abcnews.go.com</td>\n",
       "      <td>general</td>\n",
       "      <td>en</td>\n",
       "      <td>us</td>\n",
       "    </tr>\n",
       "    <tr>\n",
       "      <th>1</th>\n",
       "      <td>abc-news-au</td>\n",
       "      <td>ABC News (AU)</td>\n",
       "      <td>Australia's most trusted source of local, nati...</td>\n",
       "      <td>https://www.abc.net.au/news</td>\n",
       "      <td>general</td>\n",
       "      <td>en</td>\n",
       "      <td>au</td>\n",
       "    </tr>\n",
       "    <tr>\n",
       "      <th>2</th>\n",
       "      <td>aftenposten</td>\n",
       "      <td>Aftenposten</td>\n",
       "      <td>Norges ledende nettavis med alltid oppdaterte ...</td>\n",
       "      <td>https://www.aftenposten.no</td>\n",
       "      <td>general</td>\n",
       "      <td>no</td>\n",
       "      <td>no</td>\n",
       "    </tr>\n",
       "    <tr>\n",
       "      <th>3</th>\n",
       "      <td>al-jazeera-english</td>\n",
       "      <td>Al Jazeera English</td>\n",
       "      <td>News, analysis from the Middle East and worldw...</td>\n",
       "      <td>https://www.aljazeera.com</td>\n",
       "      <td>general</td>\n",
       "      <td>en</td>\n",
       "      <td>us</td>\n",
       "    </tr>\n",
       "    <tr>\n",
       "      <th>4</th>\n",
       "      <td>ansa</td>\n",
       "      <td>ANSA.it</td>\n",
       "      <td>Agenzia ANSA: ultime notizie, foto, video e ap...</td>\n",
       "      <td>https://www.ansa.it</td>\n",
       "      <td>general</td>\n",
       "      <td>it</td>\n",
       "      <td>it</td>\n",
       "    </tr>\n",
       "    <tr>\n",
       "      <th>...</th>\n",
       "      <td>...</td>\n",
       "      <td>...</td>\n",
       "      <td>...</td>\n",
       "      <td>...</td>\n",
       "      <td>...</td>\n",
       "      <td>...</td>\n",
       "      <td>...</td>\n",
       "    </tr>\n",
       "    <tr>\n",
       "      <th>123</th>\n",
       "      <td>wired</td>\n",
       "      <td>Wired</td>\n",
       "      <td>Wired is a monthly American magazine, publishe...</td>\n",
       "      <td>https://www.wired.com</td>\n",
       "      <td>technology</td>\n",
       "      <td>en</td>\n",
       "      <td>us</td>\n",
       "    </tr>\n",
       "    <tr>\n",
       "      <th>124</th>\n",
       "      <td>wired-de</td>\n",
       "      <td>Wired.de</td>\n",
       "      <td>Wired reports on how emerging technologies aff...</td>\n",
       "      <td>https://www.wired.de</td>\n",
       "      <td>technology</td>\n",
       "      <td>de</td>\n",
       "      <td>de</td>\n",
       "    </tr>\n",
       "    <tr>\n",
       "      <th>125</th>\n",
       "      <td>wirtschafts-woche</td>\n",
       "      <td>Wirtschafts Woche</td>\n",
       "      <td>Das Online-Portal des führenden Wirtschaftsmag...</td>\n",
       "      <td>http://www.wiwo.de</td>\n",
       "      <td>business</td>\n",
       "      <td>de</td>\n",
       "      <td>de</td>\n",
       "    </tr>\n",
       "    <tr>\n",
       "      <th>126</th>\n",
       "      <td>xinhua-net</td>\n",
       "      <td>Xinhua Net</td>\n",
       "      <td>中国主要重点新闻网站,依托新华社遍布全球的采编网络,记者遍布世界100多个国家和地区,地方频...</td>\n",
       "      <td>http://xinhuanet.com/</td>\n",
       "      <td>general</td>\n",
       "      <td>zh</td>\n",
       "      <td>zh</td>\n",
       "    </tr>\n",
       "    <tr>\n",
       "      <th>127</th>\n",
       "      <td>ynet</td>\n",
       "      <td>Ynet</td>\n",
       "      <td>ynet דף הבית: אתר החדשות המוביל בישראל מבית יד...</td>\n",
       "      <td>http://www.ynet.co.il</td>\n",
       "      <td>general</td>\n",
       "      <td>he</td>\n",
       "      <td>is</td>\n",
       "    </tr>\n",
       "  </tbody>\n",
       "</table>\n",
       "<p>128 rows × 7 columns</p>\n",
       "</div>"
      ],
      "text/plain": [
       "                     id                name  \\\n",
       "0              abc-news            ABC News   \n",
       "1           abc-news-au       ABC News (AU)   \n",
       "2           aftenposten         Aftenposten   \n",
       "3    al-jazeera-english  Al Jazeera English   \n",
       "4                  ansa             ANSA.it   \n",
       "..                  ...                 ...   \n",
       "123               wired               Wired   \n",
       "124            wired-de            Wired.de   \n",
       "125   wirtschafts-woche   Wirtschafts Woche   \n",
       "126          xinhua-net          Xinhua Net   \n",
       "127                ynet                Ynet   \n",
       "\n",
       "                                           description  \\\n",
       "0    Your trusted source for breaking news, analysi...   \n",
       "1    Australia's most trusted source of local, nati...   \n",
       "2    Norges ledende nettavis med alltid oppdaterte ...   \n",
       "3    News, analysis from the Middle East and worldw...   \n",
       "4    Agenzia ANSA: ultime notizie, foto, video e ap...   \n",
       "..                                                 ...   \n",
       "123  Wired is a monthly American magazine, publishe...   \n",
       "124  Wired reports on how emerging technologies aff...   \n",
       "125  Das Online-Portal des führenden Wirtschaftsmag...   \n",
       "126  中国主要重点新闻网站,依托新华社遍布全球的采编网络,记者遍布世界100多个国家和地区,地方频...   \n",
       "127  ynet דף הבית: אתר החדשות המוביל בישראל מבית יד...   \n",
       "\n",
       "                             url    category language country  \n",
       "0         https://abcnews.go.com     general       en      us  \n",
       "1    https://www.abc.net.au/news     general       en      au  \n",
       "2     https://www.aftenposten.no     general       no      no  \n",
       "3      https://www.aljazeera.com     general       en      us  \n",
       "4            https://www.ansa.it     general       it      it  \n",
       "..                           ...         ...      ...     ...  \n",
       "123        https://www.wired.com  technology       en      us  \n",
       "124         https://www.wired.de  technology       de      de  \n",
       "125           http://www.wiwo.de    business       de      de  \n",
       "126        http://xinhuanet.com/     general       zh      zh  \n",
       "127        http://www.ynet.co.il     general       he      is  \n",
       "\n",
       "[128 rows x 7 columns]"
      ]
     },
     "execution_count": 8,
     "metadata": {},
     "output_type": "execute_result"
    }
   ],
   "source": [
    "# call get_sources endpoint\n",
    "dict_sources = api.get_sources()\n",
    "\n",
    "# put results into dataframe\n",
    "df_sources = pd.DataFrame(dict_sources['sources'])\n",
    "df_sources"
   ]
  },
  {
   "cell_type": "code",
   "execution_count": 9,
   "id": "dc1ee882-7747-4890-9820-996c2219363a",
   "metadata": {
    "tags": []
   },
   "outputs": [
    {
     "data": {
      "text/html": [
       "<div>\n",
       "<style scoped>\n",
       "    .dataframe tbody tr th:only-of-type {\n",
       "        vertical-align: middle;\n",
       "    }\n",
       "\n",
       "    .dataframe tbody tr th {\n",
       "        vertical-align: top;\n",
       "    }\n",
       "\n",
       "    .dataframe thead th {\n",
       "        text-align: right;\n",
       "    }\n",
       "</style>\n",
       "<table border=\"1\" class=\"dataframe\">\n",
       "  <thead>\n",
       "    <tr style=\"text-align: right;\">\n",
       "      <th></th>\n",
       "      <th>id</th>\n",
       "      <th>name</th>\n",
       "      <th>description</th>\n",
       "      <th>url</th>\n",
       "      <th>category</th>\n",
       "      <th>language</th>\n",
       "      <th>country</th>\n",
       "    </tr>\n",
       "  </thead>\n",
       "  <tbody>\n",
       "    <tr>\n",
       "      <th>1</th>\n",
       "      <td>abc-news-au</td>\n",
       "      <td>ABC News (AU)</td>\n",
       "      <td>Australia's most trusted source of local, nati...</td>\n",
       "      <td>https://www.abc.net.au/news</td>\n",
       "      <td>general</td>\n",
       "      <td>en</td>\n",
       "      <td>au</td>\n",
       "    </tr>\n",
       "    <tr>\n",
       "      <th>78</th>\n",
       "      <td>nbc-news</td>\n",
       "      <td>NBC News</td>\n",
       "      <td>Breaking news, videos, and the latest top stor...</td>\n",
       "      <td>http://www.nbcnews.com</td>\n",
       "      <td>general</td>\n",
       "      <td>en</td>\n",
       "      <td>us</td>\n",
       "    </tr>\n",
       "    <tr>\n",
       "      <th>96</th>\n",
       "      <td>rtl-nieuws</td>\n",
       "      <td>RTL Nieuws</td>\n",
       "      <td>Volg het nieuws terwijl het gebeurt. RTL Nieuw...</td>\n",
       "      <td>https://www.rtlnieuws.nl/</td>\n",
       "      <td>general</td>\n",
       "      <td>nl</td>\n",
       "      <td>nl</td>\n",
       "    </tr>\n",
       "    <tr>\n",
       "      <th>120</th>\n",
       "      <td>time</td>\n",
       "      <td>Time</td>\n",
       "      <td>Breaking news and analysis from TIME.com. Poli...</td>\n",
       "      <td>http://time.com</td>\n",
       "      <td>general</td>\n",
       "      <td>en</td>\n",
       "      <td>us</td>\n",
       "    </tr>\n",
       "  </tbody>\n",
       "</table>\n",
       "</div>"
      ],
      "text/plain": [
       "              id           name  \\\n",
       "1    abc-news-au  ABC News (AU)   \n",
       "78      nbc-news       NBC News   \n",
       "96    rtl-nieuws     RTL Nieuws   \n",
       "120         time           Time   \n",
       "\n",
       "                                           description  \\\n",
       "1    Australia's most trusted source of local, nati...   \n",
       "78   Breaking news, videos, and the latest top stor...   \n",
       "96   Volg het nieuws terwijl het gebeurt. RTL Nieuw...   \n",
       "120  Breaking news and analysis from TIME.com. Poli...   \n",
       "\n",
       "                             url category language country  \n",
       "1    https://www.abc.net.au/news  general       en      au  \n",
       "78        http://www.nbcnews.com  general       en      us  \n",
       "96     https://www.rtlnieuws.nl/  general       nl      nl  \n",
       "120              http://time.com  general       en      us  "
      ]
     },
     "metadata": {},
     "output_type": "display_data"
    },
    {
     "name": "stdout",
     "output_type": "stream",
     "text": [
      "selected sources (list):  ['abc-news-au', 'nbc-news', 'rtl-nieuws', 'time']\n",
      "selected sources (str):  abc-news-au,nbc-news,rtl-nieuws,time\n"
     ]
    }
   ],
   "source": [
    "# select sources with \"world news\" \n",
    "cond_worldnews = df_sources.description.str.contains(\"world news\", case=False)\n",
    "\n",
    "# select dutch sources\n",
    "cond_dutch = (df_sources.language == 'nl') | (df_sources.country == 'nl')\n",
    "\n",
    "# filter sources\n",
    "df_selected_sources = df_sources[cond_worldnews | cond_dutch].head()\n",
    "\n",
    "# as list\n",
    "list_selected_sources = df_selected_sources.id.tolist()\n",
    "\n",
    "# as string (required for api\n",
    "selected_sources = \",\".join(list_selected_sources)\n",
    "\n",
    "display(df_selected_sources)\n",
    "print(\"selected sources (list): \", list_selected_sources)\n",
    "print(\"selected sources (str): \", selected_sources)"
   ]
  },
  {
   "cell_type": "markdown",
   "id": "e761a534-cb0a-45be-b521-7dce0a86296a",
   "metadata": {},
   "source": [
    "### Get top headlines for selected sources\n",
    "\n",
    "get_top_headlines(q=None, qintitle=None, sources=None, language='en', country=None, category=None, page_size=None, page=None)`"
   ]
  },
  {
   "cell_type": "code",
   "execution_count": 221,
   "id": "212f6014-e409-4a9e-91f1-b54a9247b8a0",
   "metadata": {
    "tags": []
   },
   "outputs": [
    {
     "data": {
      "text/html": [
       "<div>\n",
       "<style scoped>\n",
       "    .dataframe tbody tr th:only-of-type {\n",
       "        vertical-align: middle;\n",
       "    }\n",
       "\n",
       "    .dataframe tbody tr th {\n",
       "        vertical-align: top;\n",
       "    }\n",
       "\n",
       "    .dataframe thead th {\n",
       "        text-align: right;\n",
       "    }\n",
       "</style>\n",
       "<table border=\"1\" class=\"dataframe\">\n",
       "  <thead>\n",
       "    <tr style=\"text-align: right;\">\n",
       "      <th></th>\n",
       "      <th>source</th>\n",
       "      <th>author</th>\n",
       "      <th>title</th>\n",
       "      <th>description</th>\n",
       "      <th>url</th>\n",
       "      <th>urlToImage</th>\n",
       "      <th>publishedAt</th>\n",
       "      <th>content</th>\n",
       "    </tr>\n",
       "  </thead>\n",
       "  <tbody>\n",
       "    <tr>\n",
       "      <th>0</th>\n",
       "      <td>{'id': 'abc-news-au', 'name': 'ABC News (AU)'}</td>\n",
       "      <td>Dan Condon</td>\n",
       "      <td>Beyoncé announces a new country album, Act II,...</td>\n",
       "      <td>Move over Usher and Taylor Swift, Beyoncé's at...</td>\n",
       "      <td>https://www.abc.net.au/news/2024-02-12/beyonce...</td>\n",
       "      <td>https://live-production.wcms.abc-cdn.net.au/ed...</td>\n",
       "      <td>2024-02-12T05:37:22Z</td>\n",
       "      <td>While much of the pop culture world's attentio...</td>\n",
       "    </tr>\n",
       "    <tr>\n",
       "      <th>1</th>\n",
       "      <td>{'id': 'abc-news-au', 'name': 'ABC News (AU)'}</td>\n",
       "      <td>Velvet Winter, Jared Richards, Yasmin Jeffery</td>\n",
       "      <td>ICYMI: Margot at the AACTAs, woman goes into l...</td>\n",
       "      <td>All the entertainment and pop culture news you...</td>\n",
       "      <td>https://www.abc.net.au/news/2024-02-12/margot-...</td>\n",
       "      <td>https://live-production.wcms.abc-cdn.net.au/85...</td>\n",
       "      <td>2024-02-12T04:56:54Z</td>\n",
       "      <td>Welcome to ICYMI, pop culture fanatics.\\r\\nBef...</td>\n",
       "    </tr>\n",
       "  </tbody>\n",
       "</table>\n",
       "</div>"
      ],
      "text/plain": [
       "                                           source  \\\n",
       "0  {'id': 'abc-news-au', 'name': 'ABC News (AU)'}   \n",
       "1  {'id': 'abc-news-au', 'name': 'ABC News (AU)'}   \n",
       "\n",
       "                                          author  \\\n",
       "0                                     Dan Condon   \n",
       "1  Velvet Winter, Jared Richards, Yasmin Jeffery   \n",
       "\n",
       "                                               title  \\\n",
       "0  Beyoncé announces a new country album, Act II,...   \n",
       "1  ICYMI: Margot at the AACTAs, woman goes into l...   \n",
       "\n",
       "                                         description  \\\n",
       "0  Move over Usher and Taylor Swift, Beyoncé's at...   \n",
       "1  All the entertainment and pop culture news you...   \n",
       "\n",
       "                                                 url  \\\n",
       "0  https://www.abc.net.au/news/2024-02-12/beyonce...   \n",
       "1  https://www.abc.net.au/news/2024-02-12/margot-...   \n",
       "\n",
       "                                          urlToImage           publishedAt  \\\n",
       "0  https://live-production.wcms.abc-cdn.net.au/ed...  2024-02-12T05:37:22Z   \n",
       "1  https://live-production.wcms.abc-cdn.net.au/85...  2024-02-12T04:56:54Z   \n",
       "\n",
       "                                             content  \n",
       "0  While much of the pop culture world's attentio...  \n",
       "1  Welcome to ICYMI, pop culture fanatics.\\r\\nBef...  "
      ]
     },
     "execution_count": 221,
     "metadata": {},
     "output_type": "execute_result"
    }
   ],
   "source": [
    "results = api.get_top_headlines(sources=selected_sources)\n",
    "df_articles = pd.DataFrame(results['articles'])\n",
    "df_articles.head(2)"
   ]
  },
  {
   "cell_type": "markdown",
   "id": "8432b42b-4d72-4a5a-8e8e-3e13e1b628aa",
   "metadata": {
    "tags": []
   },
   "source": [
    "### Get news that contains the word 'oligarch'\n",
    "get_everything(q=None, qintitle=None, sources=None, domains=None, exclude_domains=None, from_param=None, to=None, language=None, sort_by=None, page=None, page_size=None) "
   ]
  },
  {
   "cell_type": "code",
   "execution_count": 227,
   "id": "85d145dd-15f1-4338-bc37-df3e1b558ce3",
   "metadata": {
    "tags": []
   },
   "outputs": [],
   "source": [
    "results = api.get_everything(q='oligarch')\n",
    "df_articles = pd.DataFrame(results['articles'])"
   ]
  },
  {
   "cell_type": "code",
   "execution_count": 228,
   "id": "e4964902-202e-44ca-a69e-a0752b4ee4a2",
   "metadata": {
    "tags": []
   },
   "outputs": [
    {
     "data": {
      "text/html": [
       "<div>\n",
       "<style scoped>\n",
       "    .dataframe tbody tr th:only-of-type {\n",
       "        vertical-align: middle;\n",
       "    }\n",
       "\n",
       "    .dataframe tbody tr th {\n",
       "        vertical-align: top;\n",
       "    }\n",
       "\n",
       "    .dataframe thead th {\n",
       "        text-align: right;\n",
       "    }\n",
       "</style>\n",
       "<table border=\"1\" class=\"dataframe\">\n",
       "  <thead>\n",
       "    <tr style=\"text-align: right;\">\n",
       "      <th></th>\n",
       "      <th>source</th>\n",
       "      <th>author</th>\n",
       "      <th>title</th>\n",
       "      <th>description</th>\n",
       "      <th>url</th>\n",
       "      <th>urlToImage</th>\n",
       "      <th>publishedAt</th>\n",
       "      <th>content</th>\n",
       "    </tr>\n",
       "  </thead>\n",
       "  <tbody>\n",
       "    <tr>\n",
       "      <th>0</th>\n",
       "      <td>{'id': 'vice-news', 'name': 'Vice News'}</td>\n",
       "      <td>Maxwell Strachan, Tim Marchman</td>\n",
       "      <td>Tech Libertarians Fund Drug-Fueled ‘Olympics’ ...</td>\n",
       "      <td>A quixotic enterprise backed by investors incl...</td>\n",
       "      <td>https://www.vice.com/en/article/n7emq7/tech-li...</td>\n",
       "      <td>https://video-images.vice.com/articles/65bd490...</td>\n",
       "      <td>2024-02-02T20:22:11Z</td>\n",
       "      <td>Aron DSouza sees himself as part of a broader ...</td>\n",
       "    </tr>\n",
       "    <tr>\n",
       "      <th>1</th>\n",
       "      <td>{'id': None, 'name': 'The New Yorker'}</td>\n",
       "      <td>Patrick Radden Keefe</td>\n",
       "      <td>A Teen’s Fatal Plunge Into the London Underworld</td>\n",
       "      <td>After Zac Brettler mysteriously fell to his de...</td>\n",
       "      <td>https://www.newyorker.com/magazine/2024/02/12/...</td>\n",
       "      <td>https://media.newyorker.com/photos/65bc2f47a3c...</td>\n",
       "      <td>2024-02-05T11:00:00Z</td>\n",
       "      <td>Sharma was calling from Apartment 504. If hed ...</td>\n",
       "    </tr>\n",
       "    <tr>\n",
       "      <th>2</th>\n",
       "      <td>{'id': None, 'name': 'Mother Jones'}</td>\n",
       "      <td>Tim Murphy</td>\n",
       "      <td>The Rise of the American Oligarchy</td>\n",
       "      <td>What targeting Russia’s wayward billionaires r...</td>\n",
       "      <td>https://www.motherjones.com/politics/2024/01/a...</td>\n",
       "      <td>https://www.motherjones.com/wp-content/uploads...</td>\n",
       "      <td>2024-02-02T14:30:24Z</td>\n",
       "      <td>When the US targeted Russias oligarchs after t...</td>\n",
       "    </tr>\n",
       "    <tr>\n",
       "      <th>3</th>\n",
       "      <td>{'id': None, 'name': 'tagesschau.de'}</td>\n",
       "      <td>tagesschau.de</td>\n",
       "      <td>Kobachidse als neuer Regierungschef von Georgi...</td>\n",
       "      <td>Georgien hat einen neuen Ministerpräsidenten: ...</td>\n",
       "      <td>https://www.tagesschau.de/ausland/europa/georg...</td>\n",
       "      <td>https://images.tagesschau.de/image/7d6bc1fc-b2...</td>\n",
       "      <td>2024-02-09T09:47:48Z</td>\n",
       "      <td>Stand: 09.02.2024 10:47 Uhr\\r\\nGeorgien hat ei...</td>\n",
       "    </tr>\n",
       "    <tr>\n",
       "      <th>4</th>\n",
       "      <td>{'id': 'polygon', 'name': 'Polygon'}</td>\n",
       "      <td>Oli Welsh</td>\n",
       "      <td>If we have to recycle old IP, Mr. &amp; Mrs. Smith...</td>\n",
       "      <td>Donald Glover and Maya Erskine replace Brad Pi...</td>\n",
       "      <td>https://www.polygon.com/24059110/mr-mrs-smith-...</td>\n",
       "      <td>https://cdn.vox-cdn.com/thumbor/zf3AwgK1SH-WvF...</td>\n",
       "      <td>2024-02-03T15:00:00Z</td>\n",
       "      <td>Have you watched Mr. &amp;amp; Mrs. Smith, the 200...</td>\n",
       "    </tr>\n",
       "  </tbody>\n",
       "</table>\n",
       "</div>"
      ],
      "text/plain": [
       "                                     source                          author  \\\n",
       "0  {'id': 'vice-news', 'name': 'Vice News'}  Maxwell Strachan, Tim Marchman   \n",
       "1    {'id': None, 'name': 'The New Yorker'}            Patrick Radden Keefe   \n",
       "2      {'id': None, 'name': 'Mother Jones'}                      Tim Murphy   \n",
       "3     {'id': None, 'name': 'tagesschau.de'}                   tagesschau.de   \n",
       "4      {'id': 'polygon', 'name': 'Polygon'}                       Oli Welsh   \n",
       "\n",
       "                                               title  \\\n",
       "0  Tech Libertarians Fund Drug-Fueled ‘Olympics’ ...   \n",
       "1   A Teen’s Fatal Plunge Into the London Underworld   \n",
       "2                 The Rise of the American Oligarchy   \n",
       "3  Kobachidse als neuer Regierungschef von Georgi...   \n",
       "4  If we have to recycle old IP, Mr. & Mrs. Smith...   \n",
       "\n",
       "                                         description  \\\n",
       "0  A quixotic enterprise backed by investors incl...   \n",
       "1  After Zac Brettler mysteriously fell to his de...   \n",
       "2  What targeting Russia’s wayward billionaires r...   \n",
       "3  Georgien hat einen neuen Ministerpräsidenten: ...   \n",
       "4  Donald Glover and Maya Erskine replace Brad Pi...   \n",
       "\n",
       "                                                 url  \\\n",
       "0  https://www.vice.com/en/article/n7emq7/tech-li...   \n",
       "1  https://www.newyorker.com/magazine/2024/02/12/...   \n",
       "2  https://www.motherjones.com/politics/2024/01/a...   \n",
       "3  https://www.tagesschau.de/ausland/europa/georg...   \n",
       "4  https://www.polygon.com/24059110/mr-mrs-smith-...   \n",
       "\n",
       "                                          urlToImage           publishedAt  \\\n",
       "0  https://video-images.vice.com/articles/65bd490...  2024-02-02T20:22:11Z   \n",
       "1  https://media.newyorker.com/photos/65bc2f47a3c...  2024-02-05T11:00:00Z   \n",
       "2  https://www.motherjones.com/wp-content/uploads...  2024-02-02T14:30:24Z   \n",
       "3  https://images.tagesschau.de/image/7d6bc1fc-b2...  2024-02-09T09:47:48Z   \n",
       "4  https://cdn.vox-cdn.com/thumbor/zf3AwgK1SH-WvF...  2024-02-03T15:00:00Z   \n",
       "\n",
       "                                             content  \n",
       "0  Aron DSouza sees himself as part of a broader ...  \n",
       "1  Sharma was calling from Apartment 504. If hed ...  \n",
       "2  When the US targeted Russias oligarchs after t...  \n",
       "3  Stand: 09.02.2024 10:47 Uhr\\r\\nGeorgien hat ei...  \n",
       "4  Have you watched Mr. &amp; Mrs. Smith, the 200...  "
      ]
     },
     "metadata": {},
     "output_type": "display_data"
    },
    {
     "data": {
      "text/html": [
       "\n",
       "    <h3><a href=\"https://www.vice.com/en/article/n7emq7/tech-libertarians-fund-drug-fueled-olympics-where-doping-is-a-slur\">Tech Libertarians Fund Drug-Fueled ‘Olympics’ Where ‘Doping’ Is a Slur</a></h3>\n",
       "    <b>Vice News</b><br>\n",
       "    <i>Published at 2024-02-02 20:22:11 by Maxwell Strachan, Tim Marchman</i> - A quixotic enterprise backed by investors including oligarch Peter Thiel seeks to end discrimination against \"brave\" and oppressed steroid users.\n",
       "    <img src=\"https://video-images.vice.com/articles/65bd490c3bfac5fe2c90c0be/lede/1706904156712-screenshot-2024-02-02-at-30153-pm.png?image-resize-opts=Y3JvcD0xeHc6MC43NTF4aDsweHcsMHhoJnJlc2l6ZT0xMjAwOiomcmVzaXplPTEyMDA6Kg\" width=\"300\">\n",
       "    <hr>"
      ],
      "text/plain": [
       "<IPython.core.display.HTML object>"
      ]
     },
     "metadata": {},
     "output_type": "display_data"
    },
    {
     "data": {
      "text/html": [
       "\n",
       "    <h3><a href=\"https://www.newyorker.com/magazine/2024/02/12/a-teens-fatal-plunge-into-the-london-underworld\">A Teen’s Fatal Plunge Into the London Underworld</a></h3>\n",
       "    <b>The New Yorker</b><br>\n",
       "    <i>Published at 2024-02-05 11:00:00 by Patrick Radden Keefe</i> - After Zac Brettler mysteriously fell to his death in the Thames, his parents, Matthew and Rachelle, discovered that he’d been posing as an oligarch’s son, including in dealings with Akbar Shamji and Verinder (Dave )Sharma. Patrick Radden Keefe reports on the …\n",
       "    <img src=\"https://media.newyorker.com/photos/65bc2f47a3cf2052ac8339c0/16:9/w_1280,c_limit/240212_r43752.jpg\" width=\"300\">\n",
       "    <hr>"
      ],
      "text/plain": [
       "<IPython.core.display.HTML object>"
      ]
     },
     "metadata": {},
     "output_type": "display_data"
    },
    {
     "data": {
      "text/html": [
       "\n",
       "    <h3><a href=\"https://www.motherjones.com/politics/2024/01/american-oligarchy-introduction-essay-russia-ukraine-capitalism/\">The Rise of the American Oligarchy</a></h3>\n",
       "    <b>Mother Jones</b><br>\n",
       "    <i>Published at 2024-02-02 14:30:24 by Tim Murphy</i> - What targeting Russia’s wayward billionaires revealed about our own.\n",
       "    <img src=\"https://www.motherjones.com/wp-content/uploads/2023/11/491_Essay_A_2000px.jpg?w=1200&h=630&crop=1\" width=\"300\">\n",
       "    <hr>"
      ],
      "text/plain": [
       "<IPython.core.display.HTML object>"
      ]
     },
     "metadata": {},
     "output_type": "display_data"
    },
    {
     "data": {
      "text/html": [
       "\n",
       "    <h3><a href=\"https://www.tagesschau.de/ausland/europa/georgien-regierungschef-kobachidse-100.html\">Kobachidse als neuer Regierungschef von Georgien gewählt</a></h3>\n",
       "    <b>tagesschau.de</b><br>\n",
       "    <i>Published at 2024-02-09 09:47:48 by tagesschau.de</i> - Georgien hat einen neuen Ministerpräsidenten: Irakli Kobachidse führt künftig die Regierung des EU-Beitrittskandidaten. Unklar ist, welches Verhältnis er zum mächtigen Nachbarn Russland pflegt.\n",
       "    <img src=\"https://images.tagesschau.de/image/7d6bc1fc-b2f9-4041-998a-8c45106936f2/AAABjY0krbg/AAABibBxqrQ/16x9-1280/irakli-kobachidse-102.jpg\" width=\"300\">\n",
       "    <hr>"
      ],
      "text/plain": [
       "<IPython.core.display.HTML object>"
      ]
     },
     "metadata": {},
     "output_type": "display_data"
    },
    {
     "data": {
      "text/html": [
       "\n",
       "    <h3><a href=\"https://www.polygon.com/24059110/mr-mrs-smith-review-amazon-prime-video-donald-glover\">If we have to recycle old IP, Mr. & Mrs. Smith is the way to do it</a></h3>\n",
       "    <b>Polygon</b><br>\n",
       "    <i>Published at 2024-02-03 15:00:00 by Oli Welsh</i> - Donald Glover and Maya Erskine replace Brad Pitt and Angelina Jolie in this smart, contemporary reworking of the 2005 action comedy about married assassins.\n",
       "    <img src=\"https://cdn.vox-cdn.com/thumbor/zf3AwgK1SH-WvF8kb7oPhCoEy2E=/0x0:3000x1571/fit-in/1200x630/cdn.vox-cdn.com/uploads/chorus_asset/file/25263060/mr_and_mrs_smith_1.jpg\" width=\"300\">\n",
       "    <hr>"
      ],
      "text/plain": [
       "<IPython.core.display.HTML object>"
      ]
     },
     "metadata": {},
     "output_type": "display_data"
    }
   ],
   "source": [
    "display(df_articles.head())\n",
    "\n",
    "# template (HTML) for article\n",
    "article_template = Template(f\"\"\"\n",
    "    <h3><a href=\"$url\">$title</a></h3>\n",
    "    <b>$source_name</b><br>\n",
    "    <i>Published at $published_date by $author</i> - $description\n",
    "    <img src=\"$urlToImage\" width=\"300\">\n",
    "    <hr>\"\"\")\n",
    "\n",
    "# display articles\n",
    "for idx, row in df_articles.head().iterrows():\n",
    "    # format date\n",
    "    row['published_date'] = datetime.strptime(row['publishedAt'], \"%Y-%m-%dT%H:%M:%SZ\")\n",
    "    \n",
    "    # add source name as separate key\n",
    "    row['source_name'] = row['source']['name']\n",
    "    \n",
    "    # display as HTML\n",
    "    display(HTML(article_template.substitute(**row)))"
   ]
  },
  {
   "cell_type": "markdown",
   "id": "9457a2bb-f3cf-4637-b4b4-d261a142dc6b",
   "metadata": {},
   "source": [
    "### Method: Exact matching\n",
    "\n",
    "* Case : Get news about Russia, find interesting nodes and relations, match to Open Sanctions\n",
    "\n",
    "#### 1. Use LLM to extract nodes and relations"
   ]
  },
  {
   "cell_type": "markdown",
   "id": "c0119b6f-2a02-42aa-a7ad-cba59fac0e5a",
   "metadata": {},
   "source": [
    "##### Get news about Russia"
   ]
  },
  {
   "cell_type": "code",
   "execution_count": 140,
   "id": "48a64442-52ad-4446-a47e-b88a8236ecf8",
   "metadata": {
    "tags": []
   },
   "outputs": [
    {
     "name": "stdout",
     "output_type": "stream",
     "text": [
      "status: ok\n",
      "totalResults: 266\n",
      "CPU times: user 23.1 ms, sys: 6.22 ms, total: 29.3 ms\n",
      "Wall time: 452 ms\n"
     ]
    },
    {
     "data": {
      "text/html": [
       "<div>\n",
       "<style scoped>\n",
       "    .dataframe tbody tr th:only-of-type {\n",
       "        vertical-align: middle;\n",
       "    }\n",
       "\n",
       "    .dataframe tbody tr th {\n",
       "        vertical-align: top;\n",
       "    }\n",
       "\n",
       "    .dataframe thead th {\n",
       "        text-align: right;\n",
       "    }\n",
       "</style>\n",
       "<table border=\"1\" class=\"dataframe\">\n",
       "  <thead>\n",
       "    <tr style=\"text-align: right;\">\n",
       "      <th></th>\n",
       "      <th>source</th>\n",
       "      <th>author</th>\n",
       "      <th>title</th>\n",
       "      <th>description</th>\n",
       "      <th>url</th>\n",
       "      <th>urlToImage</th>\n",
       "      <th>publishedAt</th>\n",
       "      <th>content</th>\n",
       "    </tr>\n",
       "  </thead>\n",
       "  <tbody>\n",
       "    <tr>\n",
       "      <th>0</th>\n",
       "      <td>{'id': 'vice-news', 'name': 'Vice News'}</td>\n",
       "      <td>Maxwell Strachan, Tim Marchman</td>\n",
       "      <td>Tech Libertarians Fund Drug-Fueled ‘Olympics’ ...</td>\n",
       "      <td>A quixotic enterprise backed by investors incl...</td>\n",
       "      <td>https://www.vice.com/en/article/n7emq7/tech-li...</td>\n",
       "      <td>https://video-images.vice.com/articles/65bd490...</td>\n",
       "      <td>2024-02-02T20:22:11Z</td>\n",
       "      <td>Aron DSouza sees himself as part of a broader ...</td>\n",
       "    </tr>\n",
       "    <tr>\n",
       "      <th>1</th>\n",
       "      <td>{'id': None, 'name': 'The New Yorker'}</td>\n",
       "      <td>Patrick Radden Keefe</td>\n",
       "      <td>A Teen’s Fatal Plunge Into the London Underworld</td>\n",
       "      <td>After Zac Brettler mysteriously fell to his de...</td>\n",
       "      <td>https://www.newyorker.com/magazine/2024/02/12/...</td>\n",
       "      <td>https://media.newyorker.com/photos/65bc2f47a3c...</td>\n",
       "      <td>2024-02-05T11:00:00Z</td>\n",
       "      <td>Sharma was calling from Apartment 504. If hed ...</td>\n",
       "    </tr>\n",
       "    <tr>\n",
       "      <th>2</th>\n",
       "      <td>{'id': None, 'name': 'Mother Jones'}</td>\n",
       "      <td>Tim Murphy</td>\n",
       "      <td>The Rise of the American Oligarchy</td>\n",
       "      <td>What targeting Russia’s wayward billionaires r...</td>\n",
       "      <td>https://www.motherjones.com/politics/2024/01/a...</td>\n",
       "      <td>https://www.motherjones.com/wp-content/uploads...</td>\n",
       "      <td>2024-02-02T14:30:24Z</td>\n",
       "      <td>When the US targeted Russias oligarchs after t...</td>\n",
       "    </tr>\n",
       "    <tr>\n",
       "      <th>3</th>\n",
       "      <td>{'id': None, 'name': 'tagesschau.de'}</td>\n",
       "      <td>tagesschau.de</td>\n",
       "      <td>Kobachidse als neuer Regierungschef von Georgi...</td>\n",
       "      <td>Georgien hat einen neuen Ministerpräsidenten: ...</td>\n",
       "      <td>https://www.tagesschau.de/ausland/europa/georg...</td>\n",
       "      <td>https://images.tagesschau.de/image/7d6bc1fc-b2...</td>\n",
       "      <td>2024-02-09T09:47:48Z</td>\n",
       "      <td>Stand: 09.02.2024 10:47 Uhr\\r\\nGeorgien hat ei...</td>\n",
       "    </tr>\n",
       "    <tr>\n",
       "      <th>4</th>\n",
       "      <td>{'id': 'polygon', 'name': 'Polygon'}</td>\n",
       "      <td>Oli Welsh</td>\n",
       "      <td>If we have to recycle old IP, Mr. &amp; Mrs. Smith...</td>\n",
       "      <td>Donald Glover and Maya Erskine replace Brad Pi...</td>\n",
       "      <td>https://www.polygon.com/24059110/mr-mrs-smith-...</td>\n",
       "      <td>https://cdn.vox-cdn.com/thumbor/zf3AwgK1SH-WvF...</td>\n",
       "      <td>2024-02-03T15:00:00Z</td>\n",
       "      <td>Have you watched Mr. &amp;amp; Mrs. Smith, the 200...</td>\n",
       "    </tr>\n",
       "  </tbody>\n",
       "</table>\n",
       "</div>"
      ],
      "text/plain": [
       "                                     source                          author  \\\n",
       "0  {'id': 'vice-news', 'name': 'Vice News'}  Maxwell Strachan, Tim Marchman   \n",
       "1    {'id': None, 'name': 'The New Yorker'}            Patrick Radden Keefe   \n",
       "2      {'id': None, 'name': 'Mother Jones'}                      Tim Murphy   \n",
       "3     {'id': None, 'name': 'tagesschau.de'}                   tagesschau.de   \n",
       "4      {'id': 'polygon', 'name': 'Polygon'}                       Oli Welsh   \n",
       "\n",
       "                                               title  \\\n",
       "0  Tech Libertarians Fund Drug-Fueled ‘Olympics’ ...   \n",
       "1   A Teen’s Fatal Plunge Into the London Underworld   \n",
       "2                 The Rise of the American Oligarchy   \n",
       "3  Kobachidse als neuer Regierungschef von Georgi...   \n",
       "4  If we have to recycle old IP, Mr. & Mrs. Smith...   \n",
       "\n",
       "                                         description  \\\n",
       "0  A quixotic enterprise backed by investors incl...   \n",
       "1  After Zac Brettler mysteriously fell to his de...   \n",
       "2  What targeting Russia’s wayward billionaires r...   \n",
       "3  Georgien hat einen neuen Ministerpräsidenten: ...   \n",
       "4  Donald Glover and Maya Erskine replace Brad Pi...   \n",
       "\n",
       "                                                 url  \\\n",
       "0  https://www.vice.com/en/article/n7emq7/tech-li...   \n",
       "1  https://www.newyorker.com/magazine/2024/02/12/...   \n",
       "2  https://www.motherjones.com/politics/2024/01/a...   \n",
       "3  https://www.tagesschau.de/ausland/europa/georg...   \n",
       "4  https://www.polygon.com/24059110/mr-mrs-smith-...   \n",
       "\n",
       "                                          urlToImage           publishedAt  \\\n",
       "0  https://video-images.vice.com/articles/65bd490...  2024-02-02T20:22:11Z   \n",
       "1  https://media.newyorker.com/photos/65bc2f47a3c...  2024-02-05T11:00:00Z   \n",
       "2  https://www.motherjones.com/wp-content/uploads...  2024-02-02T14:30:24Z   \n",
       "3  https://images.tagesschau.de/image/7d6bc1fc-b2...  2024-02-09T09:47:48Z   \n",
       "4  https://cdn.vox-cdn.com/thumbor/zf3AwgK1SH-WvF...  2024-02-03T15:00:00Z   \n",
       "\n",
       "                                             content  \n",
       "0  Aron DSouza sees himself as part of a broader ...  \n",
       "1  Sharma was calling from Apartment 504. If hed ...  \n",
       "2  When the US targeted Russias oligarchs after t...  \n",
       "3  Stand: 09.02.2024 10:47 Uhr\\r\\nGeorgien hat ei...  \n",
       "4  Have you watched Mr. &amp; Mrs. Smith, the 200...  "
      ]
     },
     "execution_count": 140,
     "metadata": {},
     "output_type": "execute_result"
    }
   ],
   "source": [
    "%%time\n",
    "\n",
    "results = api.get_everything(q='oligarch')\n",
    "\n",
    "for k in ['status', 'totalResults']:\n",
    "    print(f\"{k}: {results[k]}\")\n",
    "    \n",
    "df_articles = pd.DataFrame(results['articles'])\n",
    "df_articles.head()"
   ]
  },
  {
   "cell_type": "markdown",
   "id": "faa00085-cea2-41d7-8ad1-859d2216c540",
   "metadata": {},
   "source": [
    "##### Prepare documents"
   ]
  },
  {
   "cell_type": "code",
   "execution_count": 141,
   "id": "5c99c5d4-8c54-4f11-8503-d9f2ea38e3d7",
   "metadata": {
    "tags": []
   },
   "outputs": [
    {
     "data": {
      "text/plain": [
       "Document(page_content='A Teen’s Fatal Plunge Into the London Underworld. After Zac Brettler mysteriously fell to his death in the Thames, his parents, Matthew and Rachelle, discovered that he’d been posing as an oligarch’s son, including in dealings with Akbar Shamji and Verinder (Dave )Sharma. Patrick Radden Keefe reports on the … Published at: 2024-02-05 11:00:00')"
      ]
     },
     "execution_count": 141,
     "metadata": {},
     "output_type": "execute_result"
    }
   ],
   "source": [
    "# concatenate title and description\n",
    "\n",
    "df_articles['published_date'] = df_articles['publishedAt'].apply(lambda x: datetime.strptime(x, \"%Y-%m-%dT%H:%M:%SZ\"))\n",
    "content = (df_articles.title + '. ' + df_articles.description + ' Published at: ' + df_articles.published_date.astype(str)).tolist()\n",
    "documents = [Document(page_content=c) for c in content]\n",
    "documents[1]"
   ]
  },
  {
   "cell_type": "markdown",
   "id": "d441ba9f-c3ff-4a6b-803b-d6a9d2b7138e",
   "metadata": {},
   "source": [
    "##### Create PromptTemplate"
   ]
  },
  {
   "cell_type": "code",
   "execution_count": 142,
   "id": "8804b8ec-62c4-44b1-adc5-c28536d1f18a",
   "metadata": {
    "tags": []
   },
   "outputs": [
    {
     "name": "stdout",
     "output_type": "stream",
     "text": [
      "llm.temperature: 0.0\n"
     ]
    }
   ],
   "source": [
    "llm = ChatOpenAI(openai_api_key=openai_api_key, temperature=0)\n",
    "\n",
    "print(\"llm.temperature:\", llm.temperature)\n",
    "\n",
    "prompt = PromptTemplate(template=\"\"\"Extract interesting elements out of a piece of text, can you extract the following from a text?\n",
    "- Characters\n",
    "- Events\n",
    "- Locations\n",
    "- Objects\n",
    "\n",
    "<context>\n",
    "{context}\n",
    "</context>\n",
    "\n",
    "Also, can you link these entities in the following way:\n",
    "- character - RELATES_TO (`how`) - character\n",
    "- character - INTERACTS_WITH (`how`)- character\n",
    "- character - INVOLVED_IN - event\n",
    "- event - LOCATED_ AT (`how`) Location\n",
    "- object - RELEVANT_FOR (relevance_score (between 0 - 1, why)- event\n",
    "\n",
    "if the attribute `how` is not relevant omit it.\n",
    "for Events include date and time if present.\n",
    "\n",
    "* Please estimate the relevance score yourself\n",
    "* For RELATES_TO, provide max 2 words of how the characters relate (ie. has_father, has_mother, has_son, has_daughter, has_uncle, has_aunt, has_friend, has_colleague, etc) or interact. \n",
    "    * for the entiity links, add the keyword 'how' to indicate the type of relationship, ie. \"Bilbo Baggins RELATES_TO (how:has_mother) Belladonna Took\"\n",
    "* For INTERACTS_WITH, provide a short summary why it is relevant and add it as a attribute 'why'\n",
    "\n",
    "* For RELEVANT FOR, provide max 2 words of why the object is relevant.\n",
    "    * for the entity links, add the keyword 'why' to indicate the type of relationship, ie. \"Bilbo Baggins RELATES_TO (how:has_mother) Belladonna Took\"\n",
    "* For INTERACTS_WITH, provide a short summary why it is relevant and add it as a attribute 'why', ie: Staff - RELEVANT_FOR (relevance_score: 0.8, why: \"Gandalf's staff is highly relevant to him as it is part of his iconic appearance and magical abilities.\") - Gandalf\n",
    "\n",
    "\n",
    "Finally, provide a summary for the text.\n",
    "\n",
    "{output}\n",
    "\"\"\", input_variables=[\"context\", \"output\"])"
   ]
  },
  {
   "cell_type": "markdown",
   "id": "bac37d46-d921-4683-a727-02a92e9b5bc4",
   "metadata": {},
   "source": [
    "##### Extract nodes and entities"
   ]
  },
  {
   "cell_type": "code",
   "execution_count": 143,
   "id": "ee5e9fe7-84b4-4e44-9b1f-db1f7c07fc25",
   "metadata": {
    "tags": []
   },
   "outputs": [],
   "source": [
    "# Characters:\n",
    "# - Tucker Carlson\n",
    "# - Vladimir Putin\n",
    "\n",
    "# Events:\n",
    "# - Tucker Carlson's interview with Vladimir Putin\n",
    "\n",
    "# Locations:\n",
    "# - Russia\n",
    "# - Ukraine\n",
    "\n",
    "# Objects:\n",
    "# - None mentioned in the text\n",
    "\n",
    "# Character - RELATES_TO (how: interviewer) - Character:\n",
    "# - Tucker Carlson RELATES_TO (how:interviewer) Vladimir Putin\n",
    "\n",
    "# Character - INVOLVED_IN - Event:\n",
    "# - Tucker Carlson INVOLVED_IN - Tucker Carlson's interview with Vladimir Putin\n",
    "\n",
    "# Event - LOCATED_AT - Location:\n",
    "# - Tucker Carlson's interview with Vladimir Putin LOCATED_AT - Russia\n",
    "\n",
    "# Summary:\n",
    "# The ex-Fox News host, Tucker Carlson, will be the first Western journalist to interview Vladimir Putin since Russia invaded Ukraine.\n",
    "# CPU times: user 34.2 ms, sys: 17.6 ms, total: 51.8 ms\n",
    "# Wall time: 6.79 s"
   ]
  },
  {
   "cell_type": "code",
   "execution_count": 144,
   "id": "1921b329-c7eb-4806-a6e6-371b6806e910",
   "metadata": {
    "tags": []
   },
   "outputs": [
    {
     "name": "stdout",
     "output_type": "stream",
     "text": [
      "Characters:\n",
      "- Zac Brettler\n",
      "- Matthew Brettler\n",
      "- Rachelle Brettler\n",
      "- Akbar Shamji\n",
      "- Verinder (Dave) Sharma\n",
      "\n",
      "Events:\n",
      "- Zac Brettler's fatal plunge into the London underworld\n",
      "\n",
      "Locations:\n",
      "- The Thames\n",
      "\n",
      "Objects:\n",
      "- None mentioned in the given text\n",
      "\n",
      "Entity Links:\n",
      "- Zac Brettler RELATES_TO (how:posing_as) oligarch's son\n",
      "- Zac Brettler INTERACTS_WITH (how:dealing_with) Akbar Shamji and Verinder (Dave) Sharma\n",
      "- Zac Brettler INVOLVED_IN event: Zac Brettler's fatal plunge into the London underworld\n",
      "- Zac Brettler LOCATED_AT location: The Thames\n",
      "\n",
      "Summary:\n",
      "The text discusses the mysterious death of Zac Brettler, who fell to his death in the Thames. It is revealed that Zac had been posing as an oligarch's son and had dealings with individuals named Akbar Shamji and Verinder (Dave) Sharma. Zac's parents, Matthew and Rachelle, discovered his secret after his death.\n",
      "CPU times: user 28.7 ms, sys: 6.89 ms, total: 35.6 ms\n",
      "Wall time: 6.31 s\n"
     ]
    }
   ],
   "source": [
    "%%time\n",
    "\n",
    "document_chain = create_stuff_documents_chain(llm, prompt)\n",
    "\n",
    "response = document_chain.invoke({\n",
    "    \"context\": [documents[1]], \"output\": \"\"\n",
    "})\n",
    "print(response)"
   ]
  },
  {
   "cell_type": "markdown",
   "id": "b1fb0d29-4ec5-4a2e-9b05-78283274447d",
   "metadata": {},
   "source": [
    "##### Response as JSON"
   ]
  },
  {
   "cell_type": "code",
   "execution_count": 145,
   "id": "c0ab665b-f947-40db-bc40-0220f198e768",
   "metadata": {
    "tags": []
   },
   "outputs": [
    {
     "name": "stdout",
     "output_type": "stream",
     "text": [
      "{\n",
      "  \"characters\": [\n",
      "    \"Zac Brettler\",\n",
      "    \"Matthew Brettler\",\n",
      "    \"Rachelle Brettler\",\n",
      "    \"Akbar Shamji\",\n",
      "    \"Verinder (Dave) Sharma\"\n",
      "  ],\n",
      "  \"events\": [\n",
      "    \"Zac Brettler's fatal plunge into the London underworld\"\n",
      "  ],\n",
      "  \"locations\": [\n",
      "    \"The Thames\"\n",
      "  ],\n",
      "  \"objects\": [],\n",
      "  \"entity_links\": [\n",
      "    {\n",
      "      \"entity\": \"Zac Brettler\",\n",
      "      \"relation\": \"RELATES_TO\",\n",
      "      \"how\": \"posing_as\",\n",
      "      \"target\": \"oligarch's son\"\n",
      "    },\n",
      "    {\n",
      "      \"entity\": \"Zac Brettler\",\n",
      "      \"relation\": \"INTERACTS_WITH\",\n",
      "      \"how\": \"dealing_with\",\n",
      "      \"target\": \"Akbar Shamji\"\n",
      "    },\n",
      "    {\n",
      "      \"entity\": \"Zac Brettler\",\n",
      "      \"relation\": \"INTERACTS_WITH\",\n",
      "      \"how\": \"dealing_with\",\n",
      "      \"target\": \"Verinder (Dave) Sharma\"\n",
      "    },\n",
      "    {\n",
      "      \"entity\": \"Zac Brettler\",\n",
      "      \"relation\": \"INVOLVED_IN\",\n",
      "      \"how\": \"event\",\n",
      "      \"target\": \"Zac Brettler's fatal plunge into the London underworld\"\n",
      "    },\n",
      "    {\n",
      "      \"entity\": \"Zac Brettler\",\n",
      "      \"relation\": \"LOCATED_AT\",\n",
      "      \"how\": \"location\",\n",
      "      \"target\": \"The Thames\"\n",
      "    }\n",
      "  ],\n",
      "  \"summary\": \"The text discusses the mysterious death of Zac Brettler, who fell to his death in the Thames. It is revealed that Zac had been posing as an oligarch's son and had dealings with individuals named Akbar Shamji and Verinder (Dave) Sharma. Zac's parents, Matthew and Rachelle, discovered his secret after his death.\"\n",
      "}\n",
      "CPU times: user 29.5 ms, sys: 5.55 ms, total: 35 ms\n",
      "Wall time: 11.6 s\n"
     ]
    }
   ],
   "source": [
    "%%time\n",
    "\n",
    "# convert response into a Document\n",
    "doc_nodes_relations = Document(page_content=response)\n",
    "\n",
    "# prompt to translate the response into valid JSON\n",
    "prompt_to_json = PromptTemplate(template=\"\"\"Translate the content from the context IN FULL into structured JSON format\n",
    "\n",
    "<context>\n",
    "{context}\n",
    "</context>\n",
    "\n",
    "{output}\n",
    "\"\"\", input_variables=[\"context\", \"output\"])\n",
    "\n",
    "# create chain and invoke LLM\n",
    "document_chain = create_stuff_documents_chain(llm, prompt_to_json)\n",
    "response = document_chain.invoke({\n",
    "    \"context\": [doc_nodes_relations], \"output\": \"output the response as valid JSON\"\n",
    "})\n",
    "print(response)"
   ]
  },
  {
   "cell_type": "markdown",
   "id": "71a6c8b2-c423-45ee-9d66-bbf4ba22c898",
   "metadata": {},
   "source": [
    "#### 2. use cypher query to see if there are matches in the open sanctions graph"
   ]
  },
  {
   "cell_type": "code",
   "execution_count": 147,
   "id": "42fd3998-e2e7-4e38-b9b1-facd33d44b09",
   "metadata": {
    "tags": []
   },
   "outputs": [
    {
     "name": "stdout",
     "output_type": "stream",
     "text": [
      "graph._database: open-sanctions\n"
     ]
    },
    {
     "data": {
      "text/plain": [
       "[{'count(n)': 180457475}]"
      ]
     },
     "execution_count": 147,
     "metadata": {},
     "output_type": "execute_result"
    }
   ],
   "source": [
    "graph = Neo4jGraph(\n",
    "    url=neo4j_url,\n",
    "    username=neo4j_user,\n",
    "    password=neo4j_pass,\n",
    "    database=neo4j_database\n",
    ")\n",
    "\n",
    "# double check if database is correct. Neo4jGraph uses magic to override the database argument with a value from the environment\n",
    "print(\"graph._database:\", graph._database)\n",
    "graph.query(\"MATCH (n) RETURN count(n)\")"
   ]
  },
  {
   "cell_type": "markdown",
   "id": "5864cea9-dcaf-47cb-916f-d091254abf10",
   "metadata": {},
   "source": [
    "#### Create embeddings for Oligarchs"
   ]
  },
  {
   "cell_type": "code",
   "execution_count": 148,
   "id": "c4ea288e-96e3-4db8-a584-b52645e47e8a",
   "metadata": {
    "tags": []
   },
   "outputs": [],
   "source": [
    "embeddings_model = OpenAIEmbeddings()"
   ]
  },
  {
   "cell_type": "code",
   "execution_count": 95,
   "id": "d09362d8-9cfb-4d8a-8b14-19688b5d21b9",
   "metadata": {
    "tags": []
   },
   "outputs": [
    {
     "name": "stdout",
     "output_type": "stream",
     "text": [
      "CPU times: user 134 ms, sys: 18.1 ms, total: 152 ms\n",
      "Wall time: 1.28 s\n"
     ]
    }
   ],
   "source": [
    "%%time\n",
    "# Wall time: 1.28 s\n",
    "\n",
    "results = graph.query(\"MATCH (n:Oligarch) RETURN n.id, n.caption LIMIT 200\")\n",
    "list_oligarch_ids = [r['n.id'] for r in results]\n",
    "list_oligarch_names = [r['n.caption'] for r in results]\n",
    "\n",
    "# create embeddings for the 177 Oliarches\n",
    "embeddings = embeddings_model.embed_documents(list_oligarch_names)"
   ]
  },
  {
   "cell_type": "code",
   "execution_count": 98,
   "id": "52654c82-d8cb-4ba9-9cc8-c184aecb1dfd",
   "metadata": {
    "tags": []
   },
   "outputs": [
    {
     "name": "stdout",
     "output_type": "stream",
     "text": [
      "CPU times: user 582 ms, sys: 46.8 ms, total: 629 ms\n",
      "Wall time: 1.3 s\n"
     ]
    }
   ],
   "source": [
    "%%time\n",
    "# Wall time: 1.3 s\n",
    "\n",
    "for i, name in enumerate(list_oligarch_names):\n",
    "    query = f\"\"\"\n",
    "        MATCH (p:Oligarch {{id: '{ list_oligarch_ids[i] }'}})\n",
    "        CALL db.create.setNodeVectorProperty(p, 'embedding', apoc.convert.fromJsonList('{str(embeddings[i])}'))\n",
    "        RETURN count(*)\n",
    "    \"\"\"\n",
    "    graph.query(query)"
   ]
  },
  {
   "cell_type": "code",
   "execution_count": 150,
   "id": "73bd7328-1261-409d-861c-1d902ea84451",
   "metadata": {
    "tags": []
   },
   "outputs": [],
   "source": [
    "graph.refresh_schema()\n",
    "print(graph.schema)"
   ]
  },
  {
   "cell_type": "markdown",
   "id": "21363ec2-2941-4861-b5f3-b2064fad0284",
   "metadata": {},
   "source": [
    "#### Create index for the embeddings "
   ]
  },
  {
   "cell_type": "code",
   "execution_count": 104,
   "id": "c9c3c5a0-6a14-4d74-8046-3d392174c187",
   "metadata": {
    "tags": []
   },
   "outputs": [
    {
     "data": {
      "text/plain": [
       "1536"
      ]
     },
     "execution_count": 104,
     "metadata": {},
     "output_type": "execute_result"
    }
   ],
   "source": [
    "len(embeddings[0])"
   ]
  },
  {
   "cell_type": "code",
   "execution_count": 106,
   "id": "161cdb96-40cf-4019-8a81-f0439234e7b6",
   "metadata": {
    "tags": []
   },
   "outputs": [
    {
     "data": {
      "text/plain": [
       "[]"
      ]
     },
     "execution_count": 106,
     "metadata": {},
     "output_type": "execute_result"
    }
   ],
   "source": [
    "query = \"\"\"\n",
    "CALL db.index.vector.createNodeIndex(\n",
    "    'oligarch_embedding',\n",
    "    'Oligarch',\n",
    "    'embedding',\n",
    "    1536,\n",
    "    'cosine'\n",
    ")\n",
    "\"\"\"\n",
    "graph.query(query)"
   ]
  },
  {
   "cell_type": "code",
   "execution_count": null,
   "id": "5c506b39-1a6b-472b-879a-9cc9818496a4",
   "metadata": {
    "tags": []
   },
   "outputs": [],
   "source": [
    "query = \"SHOW indexes WHERE type = 'VECTOR'\"\n",
    "graph.query(query)"
   ]
  },
  {
   "cell_type": "markdown",
   "id": "7897cec3-8056-4da0-92af-48b9fb249339",
   "metadata": {},
   "source": [
    "__Use Neo4jVector to create embeddings for the news articles__"
   ]
  },
  {
   "cell_type": "code",
   "execution_count": 172,
   "id": "2ba68544-bf42-4d97-9293-431b58b3af4b",
   "metadata": {
    "tags": []
   },
   "outputs": [],
   "source": [
    "new_vector = Neo4jVector.from_documents(\n",
    "    documents,\n",
    "    embeddings_model,\n",
    "    url=os.getenv('NEO4J_URL'),\n",
    "    username=os.getenv('NEO4J_USER'),\n",
    "    password=os.getenv('NEO4J_PASS'),\n",
    "    database=neo4j_database,\n",
    "    index_name=\"myVectorIndex\",\n",
    "    node_label=\"NewsChunks\",\n",
    "    text_node_property=\"text\",\n",
    "    embedding_node_property=\"embedding\",\n",
    "    create_id_index=True,\n",
    ")"
   ]
  },
  {
   "cell_type": "code",
   "execution_count": 236,
   "id": "8c157acc-b61e-44a8-a6c6-9ae08502e251",
   "metadata": {
    "tags": []
   },
   "outputs": [],
   "source": [
    "query = \"MATCH (n:NewsChunks) RETURN n.text, n.id, n.embedding\"\n",
    "results = graph.query(query)"
   ]
  },
  {
   "cell_type": "code",
   "execution_count": 237,
   "id": "05b053b3-6ef9-464f-b83e-0ec052650be1",
   "metadata": {
    "tags": []
   },
   "outputs": [],
   "source": [
    "def match_name_parts(name, text):\n",
    "    matched_name_parts = []\n",
    "    for name_part in name.split(\" \"):\n",
    "        if str(name_part).lower() in str(text).lower():\n",
    "            matched_name_parts.append(name_part)\n",
    "    return matched_name_parts"
   ]
  },
  {
   "cell_type": "code",
   "execution_count": 238,
   "id": "6ba12c47-e885-4f9f-80b4-4c9e2111b238",
   "metadata": {
    "tags": []
   },
   "outputs": [
    {
     "name": "stdout",
     "output_type": "stream",
     "text": [
      "Matched Oligarch to news item (thresholds, cosine: 0.91, nr_matched_name_parts: 1)\n",
      "- Vladimir YEVTUSHENKOV\n",
      "- Putin seemed to name his price for giving back Evan Gershkovich: the freedom of a straight-up murderer. Russian President Vladimir Putin said in an interview with Tucker Carlson that he's open to negotiating the release of US journalist Evan Gershkovich. Published at: 2024-02-09 11:58:50 (id: Putin seemed to name his price for giving back Evan Gershkovich: the freedom of a straight-up murderer. Russian President Vladimir Putin said in an interview with Tucker Carlson that he's open to negotiating the release of US journalist Evan Gershkovich. Published at: 2024-02-09 11:58:50)\n",
      "- Q2007053 0.9157768487930298 Q2007053\n",
      "Exact matches in text for name parts: ['Vladimir']\n",
      "\n",
      "---\n",
      "Matched Oligarch to news item (thresholds, cosine: 0.91, nr_matched_name_parts: 1)\n",
      "- YUSHVAEV Gavril Abramovich\n",
      "- The VC Firm That Brokered An Oligarch's Investments. Venture capital fund Target Global managed tens of millions of dollars for Roman Abramovich and helped the now-sanctioned oligarch build up stakes in some of Europe’s biggest startups. Published at: 2024-01-14 01:22:57 (id: The VC Firm That Brokered An Oligarch's Investments. Venture capital fund Target Global managed tens of millions of dollars for Roman Abramovich and helped the now-sanctioned oligarch build up stakes in some of Europe’s biggest startups. Published at: 2024-01-14 01:22:57)\n",
      "- Q5528389 0.9109196662902832 Q5528389\n",
      "Exact matches in text for name parts: ['Abramovich']\n",
      "\n",
      "---\n",
      "Matched Oligarch to news item (thresholds, cosine: 0.91, nr_matched_name_parts: 1)\n",
      "- Roman Arkadyevich ABRAMOVICH\n",
      "- The VC Firm That Brokered An Oligarch's Investments. Venture capital fund Target Global managed tens of millions of dollars for Roman Abramovich and helped the now-sanctioned oligarch build up stakes in some of Europe’s biggest startups. Published at: 2024-01-14 01:22:57 (id: The VC Firm That Brokered An Oligarch's Investments. Venture capital fund Target Global managed tens of millions of dollars for Roman Abramovich and helped the now-sanctioned oligarch build up stakes in some of Europe’s biggest startups. Published at: 2024-01-14 01:22:57)\n",
      "- Q171428 0.9105187654495239 Q171428\n",
      "Exact matches in text for name parts: ['Roman', 'ABRAMOVICH']\n",
      "\n",
      "---\n",
      "Matched Oligarch to news item (thresholds, cosine: 0.91, nr_matched_name_parts: 1)\n",
      "- Ihor Kolomoyskyi\n",
      "- Court prolongs oligarch Kolomoisky's detention until March. Ukrainian oligarch Ihor Kolomoisky will remain in custody until March 2 with a bail set at Hr 2.65 billion ($71 million), Suspilne reported on Jan. 22... Published at: 2024-01-23 08:25:36 (id: Court prolongs oligarch Kolomoisky's detention until March. Ukrainian oligarch Ihor Kolomoisky will remain in custody until March 2 with a bail set at Hr 2.65 billion ($71 million), Suspilne reported on Jan. 22... Published at: 2024-01-23 08:25:36)\n",
      "- Q1626421 0.9263356328010559 Q1626421\n",
      "Exact matches in text for name parts: ['Ihor']\n",
      "\n",
      "---\n",
      "Matched Oligarch to news item (thresholds, cosine: 0.91, nr_matched_name_parts: 1)\n",
      "- Alisher USMANOV\n",
      "- Oligarch Usmanov erzielt vor Gericht Teilerfolg gegen „Forbes“. Der russische Oligarch Alisher Usmanov möchte auf keinen Fall als „Putin-Strohmann“ bezeichnet werden und wehrt sich gegen einen Artikel. Damit hat er Erfolg – kaufen kann er sich davon aber wohl nichts: Mit dem Geld, das er bekommt, ließe sich seine Yacht ru… Published at: 2024-01-23 20:00:11 (id: Oligarch Usmanov erzielt vor Gericht Teilerfolg gegen „Forbes“. Der russische Oligarch Alisher Usmanov möchte auf keinen Fall als „Putin-Strohmann“ bezeichnet werden und wehrt sich gegen einen Artikel. Damit hat er Erfolg – kaufen kann er sich davon aber wohl nichts: Mit dem Geld, das er bekommt, ließe sich seine Yacht ru… Published at: 2024-01-23 20:00:11)\n",
      "- Q503147 0.914648175239563 Q503147\n",
      "Exact matches in text for name parts: ['Alisher', 'USMANOV']\n",
      "\n",
      "---\n",
      "Matched Oligarch to news item (thresholds, cosine: 0.91, nr_matched_name_parts: 1)\n",
      "- Alisher USMANOV\n",
      "- Oligarch Usmanov setzt sich gegen Behauptungen des US-Magazins „Forbes“ durch. Der russische Oligarch Alisher Usmanov möchte auf keinen Fall als „Putin-Strohmann“ bezeichnet werden und wehrt sich mit Erfolg gegen entsprechende Behauptungen im Magazin „Forbes“. Published at: 2024-01-23 20:00:11 (id: Oligarch Usmanov setzt sich gegen Behauptungen des US-Magazins „Forbes“ durch. Der russische Oligarch Alisher Usmanov möchte auf keinen Fall als „Putin-Strohmann“ bezeichnet werden und wehrt sich mit Erfolg gegen entsprechende Behauptungen im Magazin „Forbes“. Published at: 2024-01-23 20:00:11)\n",
      "- Q503147 0.9186604619026184 Q503147\n",
      "Exact matches in text for name parts: ['Alisher', 'USMANOV']\n",
      "\n",
      "---\n",
      "Matched Oligarch to news item (thresholds, cosine: 0.91, nr_matched_name_parts: 1)\n",
      "- Alisher USMANOV\n",
      "- Alisher Usmanov Net Worth – How Much is Alisher Usmanov Worth?. Alisher Usmanov, the Uzbek-Russian businessman and oligarch, has amassed an impressive net worth over the years. As of 2023, his estimated net worth stands at a staggering $14.5 billion. Usmanov’s wealth is a result of his successful ventures in various indus… Published at: 2024-01-18 03:45:02 (id: Alisher Usmanov Net Worth – How Much is Alisher Usmanov Worth?. Alisher Usmanov, the Uzbek-Russian businessman and oligarch, has amassed an impressive net worth over the years. As of 2023, his estimated net worth stands at a staggering $14.5 billion. Usmanov’s wealth is a result of his successful ventures in various indus… Published at: 2024-01-18 03:45:02)\n",
      "- Q503147 0.9295190572738647 Q503147\n",
      "Exact matches in text for name parts: ['Alisher', 'USMANOV']\n",
      "\n",
      "---\n",
      "Matched Oligarch to news item (thresholds, cosine: 0.91, nr_matched_name_parts: 1)\n",
      "- POTANIN Vladimir Olegovich\n",
      "- Russian oligarch Vladimir Potanin wins appeal over divorce claim. (marketscreener.com) Russian oligarch Vladimir Potanin on Wednesday won an appeal over his ex-wife's claim bid to a multi-billion-dollar share of his stake in Nornickel, though his former spouse's case will continue.https://www.marketscreener.com/quote/commod… Published at: 2024-01-31 10:10:28 (id: Russian oligarch Vladimir Potanin wins appeal over divorce claim. (marketscreener.com) Russian oligarch Vladimir Potanin on Wednesday won an appeal over his ex-wife's claim bid to a multi-billion-dollar share of his stake in Nornickel, though his former spouse's case will continue.https://www.marketscreener.com/quote/commod… Published at: 2024-01-31 10:10:28)\n",
      "- Q739315 0.9232953786849976 Q739315\n",
      "Exact matches in text for name parts: ['POTANIN', 'Vladimir']\n",
      "\n",
      "---\n",
      "Matched Oligarch to news item (thresholds, cosine: 0.91, nr_matched_name_parts: 1)\n",
      "- Alisher USMANOV\n",
      "- EU court dismisses Russian oligarch Usmanov's appeal against sanctions. Europe News: LUXEMBOURG: Russian-Uzbek metals and telecoms tycoon Alisher Usmanov will remain on the European Union sanction list, a top court said on Wednesday, d. Published at: 2024-02-07 09:17:20 (id: EU court dismisses Russian oligarch Usmanov's appeal against sanctions. Europe News: LUXEMBOURG: Russian-Uzbek metals and telecoms tycoon Alisher Usmanov will remain on the European Union sanction list, a top court said on Wednesday, d. Published at: 2024-02-07 09:17:20)\n",
      "- Q503147 0.9112765789031982 Q503147\n",
      "Exact matches in text for name parts: ['Alisher', 'USMANOV']\n",
      "\n",
      "---\n"
     ]
    }
   ],
   "source": [
    "nr_nearest_neighbours = 3\n",
    "threshold = 0.91\n",
    "min_matched_name_parts = 1\n",
    "\n",
    "for news_chunk in results:    \n",
    "    query = f\"\"\"\n",
    "    CALL db.index.vector.queryNodes('oligarch_embedding', {nr_nearest_neighbours}, {news_chunk['n.embedding']})\n",
    "    YIELD node, score\n",
    "\n",
    "    RETURN node.caption, node.id AS id, score\n",
    "    \"\"\"\n",
    "\n",
    "    match_results = graph.query(query)\n",
    "    for match_result in match_results:\n",
    "        if match_result['score'] > threshold:\n",
    "            matched_name_parts = match_name_parts(match_result['node.caption'], news_chunk['n.text'])\n",
    "            if len(matched_name_parts) >= min_matched_name_parts:\n",
    "                print(f\"Matched Oligarch to news item (thresholds, cosine: {threshold}, nr_matched_name_parts: {min_matched_name_parts})\")\n",
    "                print(f\"- {match_result['node.caption']}\")\n",
    "                print(f\"- {news_chunk['n.text']} (id: {news_chunk['n.text']})\")\n",
    "                print(\"-\", match_result['id'], match_result['score'], match_result['id'])\n",
    "\n",
    "                print(\"Exact matches in text for name parts:\", matched_name_parts)\n",
    "                print()\n",
    "                print(\"---\")"
   ]
  }
 ],
 "metadata": {
  "kernelspec": {
   "display_name": "Python 3 (ipykernel)",
   "language": "python",
   "name": "python3"
  },
  "language_info": {
   "codemirror_mode": {
    "name": "ipython",
    "version": 3
   },
   "file_extension": ".py",
   "mimetype": "text/x-python",
   "name": "python",
   "nbconvert_exporter": "python",
   "pygments_lexer": "ipython3",
   "version": "3.9.12"
  }
 },
 "nbformat": 4,
 "nbformat_minor": 5
}
