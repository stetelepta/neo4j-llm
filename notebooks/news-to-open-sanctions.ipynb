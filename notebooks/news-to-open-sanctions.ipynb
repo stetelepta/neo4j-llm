{
 "cells": [
  {
   "cell_type": "markdown",
   "id": "8e7e7b80-d626-4094-86e9-c62bca2c997c",
   "metadata": {},
   "source": [
    "# Demo - News to open sanctions\n",
    "\n",
    "* Read News article from url\n",
    "* Prompt LLM to Extract persons, organisations and relationships\n",
    "* Get output as JSON\n",
    "* Use GraphCypherQAChain to translate the JSON to Cypher and store the found nodes and relations to Neo4\n",
    "\n",
    "### Sources:\n",
    "* https://learn.deeplearning.ai/langchain\n",
    "* https://python.langchain.com/docs/get_started/quickstart"
   ]
  },
  {
   "cell_type": "markdown",
   "id": "c8b93c37-f0a9-46c8-82e9-dd7ff1f6f2f0",
   "metadata": {},
   "source": [
    "### Requirements"
   ]
  },
  {
   "cell_type": "code",
   "execution_count": 1,
   "id": "722da72e-0aaf-4023-bdc4-22853d1c9cb8",
   "metadata": {
    "tags": []
   },
   "outputs": [],
   "source": [
    "#!pip install newsapi-python langchain openai langchain-openai neo4j python-dotenv langchainhub langchain-community --quiet"
   ]
  },
  {
   "cell_type": "code",
   "execution_count": 2,
   "id": "d91031e7-9e19-4834-8e2e-6a6c688a3b61",
   "metadata": {
    "tags": []
   },
   "outputs": [
    {
     "name": "stdout",
     "output_type": "stream",
     "text": [
      "langchain          : 0.1.5\n",
      "langchainhub       : 0.1.14\n",
      "langchain_community: 0.0.17\n",
      "\n"
     ]
    }
   ],
   "source": [
    "%load_ext watermark\n",
    "%watermark -p langchain,langchainhub,langchain_community"
   ]
  },
  {
   "cell_type": "markdown",
   "id": "9f718c68-90df-407e-87e3-8235c2f06180",
   "metadata": {},
   "source": [
    "### Imports"
   ]
  },
  {
   "cell_type": "code",
   "execution_count": 3,
   "id": "b3a5300d-35fe-4929-b7a8-ded5d5d64a1c",
   "metadata": {
    "tags": []
   },
   "outputs": [],
   "source": [
    "import os\n",
    "import pandas as pd\n",
    "from graphdatascience import GraphDataScience\n",
    "from dotenv import load_dotenv, find_dotenv, dotenv_values\n",
    "from pathlib import Path\n",
    "import neo4j\n",
    "\n",
    "from langchain_openai import ChatOpenAI\n",
    "\n",
    "from langchain.agents import AgentExecutor, create_react_agent\n",
    "from langchain.chains import LLMChain\n",
    "from langchain.chains.conversation.memory import ConversationBufferMemory\n",
    "from langchain.chains.combine_documents import create_stuff_documents_chain\n",
    "from langchain.output_parsers.json import SimpleJsonOutputParser\n",
    "from langchain.prompts import PromptTemplate\n",
    "from langchain.tools import Tool\n",
    "\n",
    "from langchain_community.graphs import Neo4jGraph\n",
    "from langchain.chains import GraphCypherQAChain\n",
    "\n",
    "from langchain import hub\n",
    "from langchain_community.document_loaders import PyPDFLoader\n",
    "\n",
    "import newsapi\n",
    "\n",
    "from IPython.display import Image\n",
    "from IPython.core.display import HTML\n",
    "\n",
    "from string import Template\n",
    "from datetime import datetime"
   ]
  },
  {
   "cell_type": "markdown",
   "id": "9836fbd4-fa26-49c7-b758-d01d2fc2e97c",
   "metadata": {},
   "source": [
    "### Settings"
   ]
  },
  {
   "cell_type": "code",
   "execution_count": 4,
   "id": "41d7b49c-ce17-42d0-85cc-fe21f86a8318",
   "metadata": {
    "tags": []
   },
   "outputs": [],
   "source": [
    "project_path = Path(os.getcwd()).parent\n",
    "data_path = project_path / \"data\"\n",
    "model_path = project_path / \"models\"\n",
    "output_path = project_path / \"output\"\n",
    "\n",
    "llm_model = \"gpt-4\"\n",
    "\n",
    "# load env settings\n",
    "load_dotenv(\"../.env.opensanctions\")\n",
    "\n",
    "neo4j_url = os.getenv('NEO4J_URL')\n",
    "neo4j_database = os.getenv('NEO4J_DATABASE')\n",
    "neo4j_user = os.getenv('NEO4J_USER')\n",
    "neo4j_pass = os.getenv('NEO4J_PASS')\n",
    "openai_api_key = os.getenv('OPENAI_API_KEY')\n",
    "news_api_key = os.getenv('NEWS_API_KEY')"
   ]
  },
  {
   "cell_type": "markdown",
   "id": "8dfbe0a7-229a-47b5-8f9c-88bb567b0889",
   "metadata": {},
   "source": [
    "### 1. Read news article\n",
    "\n",
    "* Created developer API Key on https://newsapi.org"
   ]
  },
  {
   "cell_type": "code",
   "execution_count": 5,
   "id": "1a15d28f-86ab-404a-9b60-40e9bec963c2",
   "metadata": {
    "tags": []
   },
   "outputs": [],
   "source": [
    "# Init\n",
    "api = newsapi.NewsApiClient(api_key=news_api_key)"
   ]
  },
  {
   "cell_type": "markdown",
   "id": "846c3e05-c473-42af-8903-7869c556d8ad",
   "metadata": {},
   "source": [
    "### Explore available sources"
   ]
  },
  {
   "cell_type": "code",
   "execution_count": 6,
   "id": "1087b261-5e92-45ab-b6e5-a07d0168ab6c",
   "metadata": {
    "tags": []
   },
   "outputs": [
    {
     "name": "stdout",
     "output_type": "stream",
     "text": [
      "newsapi.const.categories: {'technology', 'entertainment', 'sports', 'health', 'general', 'science', 'business'}\n",
      "newsapi.const.languages: {'sv', 'de', 'es', 'se', 'zh', 'en-US', 'en', 'ud', 'it', 'no', 'cn', 'ru', 'fr', 'ar', 'pt', 'nl', 'he'}\n",
      "newsapi.const.countries: {'de', 'tr', 'be', 'at', 'pl', 'rs', 'se', 've', 'br', 'ng', 'cu', 'it', 'is', 'no', 'ro', 'mx', 'ie', 'kr', 'ru', 'us', 'za', 'hu', 'jp', 'eg', 'ma', 'lv', 'sa', 'au', 'my', 'il', 'ch', 'pk', 'gb', 'es', 'si', 'id', 'gr', 'tw', 'lt', 'zh', 'co', 'in', 'nz', 'cn', 'sk', 'hk', 'sg', 'ca', 'bg', 'ua', 'ae', 'th', 'fr', 'ar', 'pt', 'nl', 'cz', 'ph'}\n"
     ]
    }
   ],
   "source": [
    "print(\"newsapi.const.categories:\", newsapi.const.categories)\n",
    "print(\"newsapi.const.languages:\", newsapi.const.languages)\n",
    "print(\"newsapi.const.countries:\", newsapi.const.countries)"
   ]
  },
  {
   "cell_type": "code",
   "execution_count": 7,
   "id": "31d34f76-c61d-4ce8-96ac-2a797ead30c5",
   "metadata": {
    "tags": []
   },
   "outputs": [
    {
     "data": {
      "text/html": [
       "<div>\n",
       "<style scoped>\n",
       "    .dataframe tbody tr th:only-of-type {\n",
       "        vertical-align: middle;\n",
       "    }\n",
       "\n",
       "    .dataframe tbody tr th {\n",
       "        vertical-align: top;\n",
       "    }\n",
       "\n",
       "    .dataframe thead th {\n",
       "        text-align: right;\n",
       "    }\n",
       "</style>\n",
       "<table border=\"1\" class=\"dataframe\">\n",
       "  <thead>\n",
       "    <tr style=\"text-align: right;\">\n",
       "      <th></th>\n",
       "      <th>id</th>\n",
       "      <th>name</th>\n",
       "      <th>description</th>\n",
       "      <th>url</th>\n",
       "      <th>category</th>\n",
       "      <th>language</th>\n",
       "      <th>country</th>\n",
       "    </tr>\n",
       "  </thead>\n",
       "  <tbody>\n",
       "    <tr>\n",
       "      <th>0</th>\n",
       "      <td>abc-news</td>\n",
       "      <td>ABC News</td>\n",
       "      <td>Your trusted source for breaking news, analysi...</td>\n",
       "      <td>https://abcnews.go.com</td>\n",
       "      <td>general</td>\n",
       "      <td>en</td>\n",
       "      <td>us</td>\n",
       "    </tr>\n",
       "    <tr>\n",
       "      <th>1</th>\n",
       "      <td>abc-news-au</td>\n",
       "      <td>ABC News (AU)</td>\n",
       "      <td>Australia's most trusted source of local, nati...</td>\n",
       "      <td>https://www.abc.net.au/news</td>\n",
       "      <td>general</td>\n",
       "      <td>en</td>\n",
       "      <td>au</td>\n",
       "    </tr>\n",
       "    <tr>\n",
       "      <th>2</th>\n",
       "      <td>aftenposten</td>\n",
       "      <td>Aftenposten</td>\n",
       "      <td>Norges ledende nettavis med alltid oppdaterte ...</td>\n",
       "      <td>https://www.aftenposten.no</td>\n",
       "      <td>general</td>\n",
       "      <td>no</td>\n",
       "      <td>no</td>\n",
       "    </tr>\n",
       "    <tr>\n",
       "      <th>3</th>\n",
       "      <td>al-jazeera-english</td>\n",
       "      <td>Al Jazeera English</td>\n",
       "      <td>News, analysis from the Middle East and worldw...</td>\n",
       "      <td>https://www.aljazeera.com</td>\n",
       "      <td>general</td>\n",
       "      <td>en</td>\n",
       "      <td>us</td>\n",
       "    </tr>\n",
       "    <tr>\n",
       "      <th>4</th>\n",
       "      <td>ansa</td>\n",
       "      <td>ANSA.it</td>\n",
       "      <td>Agenzia ANSA: ultime notizie, foto, video e ap...</td>\n",
       "      <td>https://www.ansa.it</td>\n",
       "      <td>general</td>\n",
       "      <td>it</td>\n",
       "      <td>it</td>\n",
       "    </tr>\n",
       "    <tr>\n",
       "      <th>...</th>\n",
       "      <td>...</td>\n",
       "      <td>...</td>\n",
       "      <td>...</td>\n",
       "      <td>...</td>\n",
       "      <td>...</td>\n",
       "      <td>...</td>\n",
       "      <td>...</td>\n",
       "    </tr>\n",
       "    <tr>\n",
       "      <th>123</th>\n",
       "      <td>wired</td>\n",
       "      <td>Wired</td>\n",
       "      <td>Wired is a monthly American magazine, publishe...</td>\n",
       "      <td>https://www.wired.com</td>\n",
       "      <td>technology</td>\n",
       "      <td>en</td>\n",
       "      <td>us</td>\n",
       "    </tr>\n",
       "    <tr>\n",
       "      <th>124</th>\n",
       "      <td>wired-de</td>\n",
       "      <td>Wired.de</td>\n",
       "      <td>Wired reports on how emerging technologies aff...</td>\n",
       "      <td>https://www.wired.de</td>\n",
       "      <td>technology</td>\n",
       "      <td>de</td>\n",
       "      <td>de</td>\n",
       "    </tr>\n",
       "    <tr>\n",
       "      <th>125</th>\n",
       "      <td>wirtschafts-woche</td>\n",
       "      <td>Wirtschafts Woche</td>\n",
       "      <td>Das Online-Portal des führenden Wirtschaftsmag...</td>\n",
       "      <td>http://www.wiwo.de</td>\n",
       "      <td>business</td>\n",
       "      <td>de</td>\n",
       "      <td>de</td>\n",
       "    </tr>\n",
       "    <tr>\n",
       "      <th>126</th>\n",
       "      <td>xinhua-net</td>\n",
       "      <td>Xinhua Net</td>\n",
       "      <td>中国主要重点新闻网站,依托新华社遍布全球的采编网络,记者遍布世界100多个国家和地区,地方频...</td>\n",
       "      <td>http://xinhuanet.com/</td>\n",
       "      <td>general</td>\n",
       "      <td>zh</td>\n",
       "      <td>zh</td>\n",
       "    </tr>\n",
       "    <tr>\n",
       "      <th>127</th>\n",
       "      <td>ynet</td>\n",
       "      <td>Ynet</td>\n",
       "      <td>ynet דף הבית: אתר החדשות המוביל בישראל מבית יד...</td>\n",
       "      <td>http://www.ynet.co.il</td>\n",
       "      <td>general</td>\n",
       "      <td>he</td>\n",
       "      <td>is</td>\n",
       "    </tr>\n",
       "  </tbody>\n",
       "</table>\n",
       "<p>128 rows × 7 columns</p>\n",
       "</div>"
      ],
      "text/plain": [
       "                     id                name  \\\n",
       "0              abc-news            ABC News   \n",
       "1           abc-news-au       ABC News (AU)   \n",
       "2           aftenposten         Aftenposten   \n",
       "3    al-jazeera-english  Al Jazeera English   \n",
       "4                  ansa             ANSA.it   \n",
       "..                  ...                 ...   \n",
       "123               wired               Wired   \n",
       "124            wired-de            Wired.de   \n",
       "125   wirtschafts-woche   Wirtschafts Woche   \n",
       "126          xinhua-net          Xinhua Net   \n",
       "127                ynet                Ynet   \n",
       "\n",
       "                                           description  \\\n",
       "0    Your trusted source for breaking news, analysi...   \n",
       "1    Australia's most trusted source of local, nati...   \n",
       "2    Norges ledende nettavis med alltid oppdaterte ...   \n",
       "3    News, analysis from the Middle East and worldw...   \n",
       "4    Agenzia ANSA: ultime notizie, foto, video e ap...   \n",
       "..                                                 ...   \n",
       "123  Wired is a monthly American magazine, publishe...   \n",
       "124  Wired reports on how emerging technologies aff...   \n",
       "125  Das Online-Portal des führenden Wirtschaftsmag...   \n",
       "126  中国主要重点新闻网站,依托新华社遍布全球的采编网络,记者遍布世界100多个国家和地区,地方频...   \n",
       "127  ynet דף הבית: אתר החדשות המוביל בישראל מבית יד...   \n",
       "\n",
       "                             url    category language country  \n",
       "0         https://abcnews.go.com     general       en      us  \n",
       "1    https://www.abc.net.au/news     general       en      au  \n",
       "2     https://www.aftenposten.no     general       no      no  \n",
       "3      https://www.aljazeera.com     general       en      us  \n",
       "4            https://www.ansa.it     general       it      it  \n",
       "..                           ...         ...      ...     ...  \n",
       "123        https://www.wired.com  technology       en      us  \n",
       "124         https://www.wired.de  technology       de      de  \n",
       "125           http://www.wiwo.de    business       de      de  \n",
       "126        http://xinhuanet.com/     general       zh      zh  \n",
       "127        http://www.ynet.co.il     general       he      is  \n",
       "\n",
       "[128 rows x 7 columns]"
      ]
     },
     "execution_count": 7,
     "metadata": {},
     "output_type": "execute_result"
    }
   ],
   "source": [
    "# call get_sources endpoint\n",
    "dict_sources = api.get_sources()\n",
    "\n",
    "# put results into dataframe\n",
    "df_sources = pd.DataFrame(dict_sources['sources'])\n",
    "df_sources"
   ]
  },
  {
   "cell_type": "code",
   "execution_count": 8,
   "id": "dc1ee882-7747-4890-9820-996c2219363a",
   "metadata": {
    "tags": []
   },
   "outputs": [
    {
     "data": {
      "text/html": [
       "<div>\n",
       "<style scoped>\n",
       "    .dataframe tbody tr th:only-of-type {\n",
       "        vertical-align: middle;\n",
       "    }\n",
       "\n",
       "    .dataframe tbody tr th {\n",
       "        vertical-align: top;\n",
       "    }\n",
       "\n",
       "    .dataframe thead th {\n",
       "        text-align: right;\n",
       "    }\n",
       "</style>\n",
       "<table border=\"1\" class=\"dataframe\">\n",
       "  <thead>\n",
       "    <tr style=\"text-align: right;\">\n",
       "      <th></th>\n",
       "      <th>id</th>\n",
       "      <th>name</th>\n",
       "      <th>description</th>\n",
       "      <th>url</th>\n",
       "      <th>category</th>\n",
       "      <th>language</th>\n",
       "      <th>country</th>\n",
       "    </tr>\n",
       "  </thead>\n",
       "  <tbody>\n",
       "    <tr>\n",
       "      <th>1</th>\n",
       "      <td>abc-news-au</td>\n",
       "      <td>ABC News (AU)</td>\n",
       "      <td>Australia's most trusted source of local, nati...</td>\n",
       "      <td>https://www.abc.net.au/news</td>\n",
       "      <td>general</td>\n",
       "      <td>en</td>\n",
       "      <td>au</td>\n",
       "    </tr>\n",
       "    <tr>\n",
       "      <th>78</th>\n",
       "      <td>nbc-news</td>\n",
       "      <td>NBC News</td>\n",
       "      <td>Breaking news, videos, and the latest top stor...</td>\n",
       "      <td>http://www.nbcnews.com</td>\n",
       "      <td>general</td>\n",
       "      <td>en</td>\n",
       "      <td>us</td>\n",
       "    </tr>\n",
       "    <tr>\n",
       "      <th>96</th>\n",
       "      <td>rtl-nieuws</td>\n",
       "      <td>RTL Nieuws</td>\n",
       "      <td>Volg het nieuws terwijl het gebeurt. RTL Nieuw...</td>\n",
       "      <td>https://www.rtlnieuws.nl/</td>\n",
       "      <td>general</td>\n",
       "      <td>nl</td>\n",
       "      <td>nl</td>\n",
       "    </tr>\n",
       "    <tr>\n",
       "      <th>120</th>\n",
       "      <td>time</td>\n",
       "      <td>Time</td>\n",
       "      <td>Breaking news and analysis from TIME.com. Poli...</td>\n",
       "      <td>http://time.com</td>\n",
       "      <td>general</td>\n",
       "      <td>en</td>\n",
       "      <td>us</td>\n",
       "    </tr>\n",
       "  </tbody>\n",
       "</table>\n",
       "</div>"
      ],
      "text/plain": [
       "              id           name  \\\n",
       "1    abc-news-au  ABC News (AU)   \n",
       "78      nbc-news       NBC News   \n",
       "96    rtl-nieuws     RTL Nieuws   \n",
       "120         time           Time   \n",
       "\n",
       "                                           description  \\\n",
       "1    Australia's most trusted source of local, nati...   \n",
       "78   Breaking news, videos, and the latest top stor...   \n",
       "96   Volg het nieuws terwijl het gebeurt. RTL Nieuw...   \n",
       "120  Breaking news and analysis from TIME.com. Poli...   \n",
       "\n",
       "                             url category language country  \n",
       "1    https://www.abc.net.au/news  general       en      au  \n",
       "78        http://www.nbcnews.com  general       en      us  \n",
       "96     https://www.rtlnieuws.nl/  general       nl      nl  \n",
       "120              http://time.com  general       en      us  "
      ]
     },
     "metadata": {},
     "output_type": "display_data"
    },
    {
     "name": "stdout",
     "output_type": "stream",
     "text": [
      "selected sources (list):  ['abc-news-au', 'nbc-news', 'rtl-nieuws', 'time']\n",
      "selected sources (str):  abc-news-au,nbc-news,rtl-nieuws,time\n"
     ]
    }
   ],
   "source": [
    "# select sources with \"world news\" \n",
    "cond_worldnews = df_sources.description.str.contains(\"world news\", case=False)\n",
    "\n",
    "# select dutch sources\n",
    "cond_dutch = (df_sources.language == 'nl') | (df_sources.country == 'nl')\n",
    "\n",
    "# filter sources\n",
    "df_selected_sources = df_sources[cond_worldnews | cond_dutch].head()\n",
    "\n",
    "# as list\n",
    "list_selected_sources = df_selected_sources.id.tolist()\n",
    "\n",
    "# as string (required for api\n",
    "selected_sources = \",\".join(list_selected_sources)\n",
    "\n",
    "display(df_selected_sources)\n",
    "print(\"selected sources (list): \", list_selected_sources)\n",
    "print(\"selected sources (str): \", selected_sources)"
   ]
  },
  {
   "cell_type": "markdown",
   "id": "e761a534-cb0a-45be-b521-7dce0a86296a",
   "metadata": {},
   "source": [
    "### Get top headlines for selected sources\n",
    "\n",
    "get_top_headlines(q=None, qintitle=None, sources=None, language='en', country=None, category=None, page_size=None, page=None)`"
   ]
  },
  {
   "cell_type": "code",
   "execution_count": 9,
   "id": "965de1f9-1fee-4dca-b83d-181a6403575d",
   "metadata": {
    "tags": []
   },
   "outputs": [],
   "source": [
    "results = api.get_top_headlines(sources=selected_sources)\n",
    "df_articles = pd.DataFrame(results['articles'])"
   ]
  },
  {
   "cell_type": "code",
   "execution_count": 10,
   "id": "e4964902-202e-44ca-a69e-a0752b4ee4a2",
   "metadata": {
    "tags": []
   },
   "outputs": [
    {
     "data": {
      "text/html": [
       "<div>\n",
       "<style scoped>\n",
       "    .dataframe tbody tr th:only-of-type {\n",
       "        vertical-align: middle;\n",
       "    }\n",
       "\n",
       "    .dataframe tbody tr th {\n",
       "        vertical-align: top;\n",
       "    }\n",
       "\n",
       "    .dataframe thead th {\n",
       "        text-align: right;\n",
       "    }\n",
       "</style>\n",
       "<table border=\"1\" class=\"dataframe\">\n",
       "  <thead>\n",
       "    <tr style=\"text-align: right;\">\n",
       "      <th></th>\n",
       "      <th>source</th>\n",
       "      <th>author</th>\n",
       "      <th>title</th>\n",
       "      <th>description</th>\n",
       "      <th>url</th>\n",
       "      <th>urlToImage</th>\n",
       "      <th>publishedAt</th>\n",
       "      <th>content</th>\n",
       "    </tr>\n",
       "  </thead>\n",
       "  <tbody>\n",
       "    <tr>\n",
       "      <th>0</th>\n",
       "      <td>{'id': 'abc-news-au', 'name': 'ABC News (AU)'}</td>\n",
       "      <td>Caroline Horn</td>\n",
       "      <td>Heritage-listed Milang Lakeside Butter Factory...</td>\n",
       "      <td>Thousands of donated hours, countless sausage ...</td>\n",
       "      <td>https://www.abc.net.au/news/2024-02-10/milang-...</td>\n",
       "      <td>https://live-production.wcms.abc-cdn.net.au/52...</td>\n",
       "      <td>2024-02-10T05:59:41Z</td>\n",
       "      <td>The end is finally in sight for a small town's...</td>\n",
       "    </tr>\n",
       "    <tr>\n",
       "      <th>1</th>\n",
       "      <td>{'id': 'abc-news-au', 'name': 'ABC News (AU)'}</td>\n",
       "      <td>Gavin McGrath</td>\n",
       "      <td>Nature Glenelg Trust works to clear blue gum p...</td>\n",
       "      <td>Most of the 1,000 different eucalyptus tree va...</td>\n",
       "      <td>https://www.abc.net.au/news/2024-02-10/nature-...</td>\n",
       "      <td>https://live-production.wcms.abc-cdn.net.au/7a...</td>\n",
       "      <td>2024-02-10T03:05:37Z</td>\n",
       "      <td>Blue gums degraded Victoria's native wetlands....</td>\n",
       "    </tr>\n",
       "    <tr>\n",
       "      <th>2</th>\n",
       "      <td>{'id': 'abc-news-au', 'name': 'ABC News (AU)'}</td>\n",
       "      <td>Declan Bowring</td>\n",
       "      <td>Platypus habitat in Penrith threatened by Sydn...</td>\n",
       "      <td>A court has ordered Sydney Water to repair ero...</td>\n",
       "      <td>https://www.abc.net.au/news/2024-02-10/conserv...</td>\n",
       "      <td>https://live-production.wcms.abc-cdn.net.au/32...</td>\n",
       "      <td>2024-02-10T02:49:59Z</td>\n",
       "      <td>&lt;ul&gt;&lt;li&gt;In short: Conservationists are worried...</td>\n",
       "    </tr>\n",
       "    <tr>\n",
       "      <th>3</th>\n",
       "      <td>{'id': 'abc-news-au', 'name': 'ABC News (AU)'}</td>\n",
       "      <td>Myles Houlbrook-Walk</td>\n",
       "      <td>Aspiring pro-baseballer contracted to Chicago ...</td>\n",
       "      <td>In spring in the northern hemisphere, Blake Wh...</td>\n",
       "      <td>https://www.abc.net.au/news/2024-02-10/blake-w...</td>\n",
       "      <td>https://live-production.wcms.abc-cdn.net.au/96...</td>\n",
       "      <td>2024-02-10T01:54:52Z</td>\n",
       "      <td>Blake Whitney is a long way from home  or at l...</td>\n",
       "    </tr>\n",
       "    <tr>\n",
       "      <th>4</th>\n",
       "      <td>{'id': 'abc-news-au', 'name': 'ABC News (AU)'}</td>\n",
       "      <td>Aaron Kelly</td>\n",
       "      <td>Football players from Papua New Guinea chase t...</td>\n",
       "      <td>They grew up playing footy in cow paddocks at ...</td>\n",
       "      <td>https://www.abc.net.au/news/2024-02-10/papua-n...</td>\n",
       "      <td>https://live-production.wcms.abc-cdn.net.au/7e...</td>\n",
       "      <td>2024-02-10T01:21:57Z</td>\n",
       "      <td>&lt;ul&gt;&lt;li&gt;In short: Four footballers from Papua ...</td>\n",
       "    </tr>\n",
       "  </tbody>\n",
       "</table>\n",
       "</div>"
      ],
      "text/plain": [
       "                                           source                author  \\\n",
       "0  {'id': 'abc-news-au', 'name': 'ABC News (AU)'}         Caroline Horn   \n",
       "1  {'id': 'abc-news-au', 'name': 'ABC News (AU)'}         Gavin McGrath   \n",
       "2  {'id': 'abc-news-au', 'name': 'ABC News (AU)'}        Declan Bowring   \n",
       "3  {'id': 'abc-news-au', 'name': 'ABC News (AU)'}  Myles Houlbrook-Walk   \n",
       "4  {'id': 'abc-news-au', 'name': 'ABC News (AU)'}           Aaron Kelly   \n",
       "\n",
       "                                               title  \\\n",
       "0  Heritage-listed Milang Lakeside Butter Factory...   \n",
       "1  Nature Glenelg Trust works to clear blue gum p...   \n",
       "2  Platypus habitat in Penrith threatened by Sydn...   \n",
       "3  Aspiring pro-baseballer contracted to Chicago ...   \n",
       "4  Football players from Papua New Guinea chase t...   \n",
       "\n",
       "                                         description  \\\n",
       "0  Thousands of donated hours, countless sausage ...   \n",
       "1  Most of the 1,000 different eucalyptus tree va...   \n",
       "2  A court has ordered Sydney Water to repair ero...   \n",
       "3  In spring in the northern hemisphere, Blake Wh...   \n",
       "4  They grew up playing footy in cow paddocks at ...   \n",
       "\n",
       "                                                 url  \\\n",
       "0  https://www.abc.net.au/news/2024-02-10/milang-...   \n",
       "1  https://www.abc.net.au/news/2024-02-10/nature-...   \n",
       "2  https://www.abc.net.au/news/2024-02-10/conserv...   \n",
       "3  https://www.abc.net.au/news/2024-02-10/blake-w...   \n",
       "4  https://www.abc.net.au/news/2024-02-10/papua-n...   \n",
       "\n",
       "                                          urlToImage           publishedAt  \\\n",
       "0  https://live-production.wcms.abc-cdn.net.au/52...  2024-02-10T05:59:41Z   \n",
       "1  https://live-production.wcms.abc-cdn.net.au/7a...  2024-02-10T03:05:37Z   \n",
       "2  https://live-production.wcms.abc-cdn.net.au/32...  2024-02-10T02:49:59Z   \n",
       "3  https://live-production.wcms.abc-cdn.net.au/96...  2024-02-10T01:54:52Z   \n",
       "4  https://live-production.wcms.abc-cdn.net.au/7e...  2024-02-10T01:21:57Z   \n",
       "\n",
       "                                             content  \n",
       "0  The end is finally in sight for a small town's...  \n",
       "1  Blue gums degraded Victoria's native wetlands....  \n",
       "2  <ul><li>In short: Conservationists are worried...  \n",
       "3  Blake Whitney is a long way from home  or at l...  \n",
       "4  <ul><li>In short: Four footballers from Papua ...  "
      ]
     },
     "metadata": {},
     "output_type": "display_data"
    },
    {
     "data": {
      "text/html": [
       "\n",
       "    <h3><a href=\"https://www.abc.net.au/news/2024-02-10/milang-community-restores-butter-factory-regional-sa/103420646\">Heritage-listed Milang Lakeside Butter Factory restored to life by volunteers after 10 years' work</a></h3>\n",
       "    <b>ABC News (AU)</b><br>\n",
       "    <i>Published at 2024-02-10 05:59:41 by Caroline Horn</i> - Thousands of donated hours, countless sausage sizzles and a donation to assuage a former scout's conscience over a stolen cheese wheel, have breathed new life into this historic South Australian butter factory.\n",
       "    <img src=\"https://live-production.wcms.abc-cdn.net.au/52cd5c1c9aa7f10a62729a38ec4d83b3?impolicy=wcms_crop_resize&cropH=2108&cropW=3747&xPos=0&yPos=194&width=862&height=485\" width=\"300\">\n",
       "    <hr>"
      ],
      "text/plain": [
       "<IPython.core.display.HTML object>"
      ]
     },
     "metadata": {},
     "output_type": "display_data"
    },
    {
     "data": {
      "text/html": [
       "\n",
       "    <h3><a href=\"https://www.abc.net.au/news/2024-02-10/nature-glenelg-trust-clear-blue-gum-plantation-walker-swamp/103435564\">Nature Glenelg Trust works to clear blue gum plantation from Walker Swamp</a></h3>\n",
       "    <b>ABC News (AU)</b><br>\n",
       "    <i>Published at 2024-02-10 03:05:37 by Gavin McGrath</i> - Most of the 1,000 different eucalyptus tree varieties are native to Australia but not all belong in a pristine wetland.\n",
       "    <img src=\"https://live-production.wcms.abc-cdn.net.au/7a113a5c8cc8018620179818894aa7be?impolicy=wcms_crop_resize&cropH=2813&cropW=5000&xPos=0&yPos=523&width=862&height=485\" width=\"300\">\n",
       "    <hr>"
      ],
      "text/plain": [
       "<IPython.core.display.HTML object>"
      ]
     },
     "metadata": {},
     "output_type": "display_data"
    },
    {
     "data": {
      "text/html": [
       "\n",
       "    <h3><a href=\"https://www.abc.net.au/news/2024-02-10/conservationists-concerned-sydney-water-threatens-platypus-habit/103449500\">Platypus habitat in Penrith threatened by Sydney Water's plans to fix eroded bank, conservationists say</a></h3>\n",
       "    <b>ABC News (AU)</b><br>\n",
       "    <i>Published at 2024-02-10 02:49:59 by Declan Bowring</i> - A court has ordered Sydney Water to repair eroded banks of a Penrith creek, but a possible fix has alarmed conservationists.\n",
       "    <img src=\"https://live-production.wcms.abc-cdn.net.au/324553abc1d08b776b1b3e296313f293?impolicy=wcms_crop_resize&cropH=1650&cropW=2933&xPos=83&yPos=0&width=862&height=485\" width=\"300\">\n",
       "    <hr>"
      ],
      "text/plain": [
       "<IPython.core.display.HTML object>"
      ]
     },
     "metadata": {},
     "output_type": "display_data"
    },
    {
     "data": {
      "text/html": [
       "\n",
       "    <h3><a href=\"https://www.abc.net.au/news/2024-02-10/blake-whitney-plays-pro-baseball-now-he-is-in-the-outback/103432034\">Aspiring pro-baseballer contracted to Chicago Cubs playing in outback Northern Territory</a></h3>\n",
       "    <b>ABC News (AU)</b><br>\n",
       "    <i>Published at 2024-02-10 01:54:52 by Myles Houlbrook-Walk</i> - In spring in the northern hemisphere, Blake Whitney trains alongside the best baseballers in the world but in the off-season he's just another player in Alice Springs.\n",
       "    <img src=\"https://live-production.wcms.abc-cdn.net.au/965b4e771c5e77f729312cc9bb19ecb4?impolicy=wcms_crop_resize&cropH=2813&cropW=5000&xPos=0&yPos=260&width=862&height=485\" width=\"300\">\n",
       "    <hr>"
      ],
      "text/plain": [
       "<IPython.core.display.HTML object>"
      ]
     },
     "metadata": {},
     "output_type": "display_data"
    },
    {
     "data": {
      "text/html": [
       "\n",
       "    <h3><a href=\"https://www.abc.net.au/news/2024-02-10/papua-new-guinea-rugby-league-central-queensland-nrl-australia/103431414\">Football players from Papua New Guinea chase their rugby league dreams in Queensland</a></h3>\n",
       "    <b>ABC News (AU)</b><br>\n",
       "    <i>Published at 2024-02-10 01:21:57 by Aaron Kelly</i> - They grew up playing footy in cow paddocks at home, where \"rugby league is a religion\". Now, these young men are preparing to grace footy fields in Australia, hoping to one day represent their country.\n",
       "    <img src=\"https://live-production.wcms.abc-cdn.net.au/7ea3de4eb4c2b345f143270b927cbd57?impolicy=wcms_crop_resize&cropH=335&cropW=595&xPos=104&yPos=161&width=862&height=485\" width=\"300\">\n",
       "    <hr>"
      ],
      "text/plain": [
       "<IPython.core.display.HTML object>"
      ]
     },
     "metadata": {},
     "output_type": "display_data"
    }
   ],
   "source": [
    "display(df_articles.head())\n",
    "\n",
    "# template (HTML) for article\n",
    "article_template = Template(f\"\"\"\n",
    "    <h3><a href=\"$url\">$title</a></h3>\n",
    "    <b>$source_name</b><br>\n",
    "    <i>Published at $published_date by $author</i> - $description\n",
    "    <img src=\"$urlToImage\" width=\"300\">\n",
    "    <hr>\"\"\")\n",
    "\n",
    "# display articles\n",
    "for idx, row in df_articles.head().iterrows():\n",
    "    # format date\n",
    "    row['published_date'] = datetime.strptime(row['publishedAt'], \"%Y-%m-%dT%H:%M:%SZ\")\n",
    "    \n",
    "    # add source name as separate key\n",
    "    row['source_name'] = row['source']['name']\n",
    "    \n",
    "    # display as HTML\n",
    "    display(HTML(article_template.substitute(**row)))"
   ]
  }
 ],
 "metadata": {
  "kernelspec": {
   "display_name": "Python 3 (ipykernel)",
   "language": "python",
   "name": "python3"
  },
  "language_info": {
   "codemirror_mode": {
    "name": "ipython",
    "version": 3
   },
   "file_extension": ".py",
   "mimetype": "text/x-python",
   "name": "python",
   "nbconvert_exporter": "python",
   "pygments_lexer": "ipython3",
   "version": "3.9.12"
  }
 },
 "nbformat": 4,
 "nbformat_minor": 5
}
