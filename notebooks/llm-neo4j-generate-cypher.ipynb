{
 "cells": [
  {
   "cell_type": "markdown",
   "id": "8e7e7b80-d626-4094-86e9-c62bca2c997c",
   "metadata": {},
   "source": [
    "## Generate Cypher\n",
    "\n",
    "* Local implementation following this tutorial: https://graphacademy.neo4j.com/courses/llm-fundamentals/4-cypher-generation/1-cypher-qa-chain/"
   ]
  },
  {
   "cell_type": "markdown",
   "id": "c8b93c37-f0a9-46c8-82e9-dd7ff1f6f2f0",
   "metadata": {},
   "source": [
    "### Requirements"
   ]
  },
  {
   "cell_type": "code",
   "execution_count": 1,
   "id": "722da72e-0aaf-4023-bdc4-22853d1c9cb8",
   "metadata": {
    "tags": []
   },
   "outputs": [],
   "source": [
    "!pip install langchain openai langchain-openai neo4j python-dotenv langchainhub langchain-community --quiet"
   ]
  },
  {
   "cell_type": "code",
   "execution_count": 2,
   "id": "d91031e7-9e19-4834-8e2e-6a6c688a3b61",
   "metadata": {
    "tags": []
   },
   "outputs": [
    {
     "name": "stdout",
     "output_type": "stream",
     "text": [
      "langchain          : 0.1.5\n",
      "langchainhub       : 0.1.14\n",
      "langchain_community: 0.0.17\n",
      "\n"
     ]
    }
   ],
   "source": [
    "%load_ext watermark\n",
    "%watermark -p langchain,langchainhub,langchain_community"
   ]
  },
  {
   "cell_type": "markdown",
   "id": "9f718c68-90df-407e-87e3-8235c2f06180",
   "metadata": {},
   "source": [
    "### Imports"
   ]
  },
  {
   "cell_type": "code",
   "execution_count": 3,
   "id": "b3a5300d-35fe-4929-b7a8-ded5d5d64a1c",
   "metadata": {
    "tags": []
   },
   "outputs": [],
   "source": [
    "import os\n",
    "from graphdatascience import GraphDataScience\n",
    "from dotenv import load_dotenv, find_dotenv\n",
    "from pathlib import Path\n",
    "import neo4j"
   ]
  },
  {
   "cell_type": "markdown",
   "id": "9836fbd4-fa26-49c7-b758-d01d2fc2e97c",
   "metadata": {},
   "source": [
    "### Settings"
   ]
  },
  {
   "cell_type": "code",
   "execution_count": 4,
   "id": "41d7b49c-ce17-42d0-85cc-fe21f86a8318",
   "metadata": {
    "tags": []
   },
   "outputs": [],
   "source": [
    "project_path = Path(os.getcwd()).parent\n",
    "data_path = project_path / \"data\"\n",
    "model_path = project_path / \"models\"\n",
    "output_path = project_path / \"output\"\n",
    "\n",
    "# load env settings\n",
    "_ = load_dotenv(find_dotenv())\n",
    "\n",
    "llm_model = \"gpt-4\"\n",
    "database = \"recommendations-50\"\n",
    "\n",
    "openai_api_key = os.getenv('OPENAI_API_KEY')"
   ]
  },
  {
   "cell_type": "markdown",
   "id": "00605bc6-e230-4eb5-b867-7ce1dd97722d",
   "metadata": {},
   "source": [
    "### Connect to Neo4j"
   ]
  },
  {
   "cell_type": "code",
   "execution_count": 5,
   "id": "343fcc6d-9942-42b8-97fd-a18489bf05c8",
   "metadata": {
    "tags": []
   },
   "outputs": [
    {
     "name": "stdout",
     "output_type": "stream",
     "text": [
      "[{'m.title': 'Toy Story', 'm.plot': \"A cowboy doll is profoundly threatened and jealous when a new spaceman figure supplants him as top toy in a boy's room.\", 'm.poster': 'https://image.tmdb.org/t/p/w440_and_h660_face/uXDfjJbdP4ijW5hWSBrPrlKpxab.jpg'}]\n"
     ]
    }
   ],
   "source": [
    "from langchain_community.graphs import Neo4jGraph\n",
    "\n",
    "graph = Neo4jGraph(\n",
    "    url=os.getenv('NEO4J_URL'),\n",
    "    username=os.getenv('NEO4J_USER'),\n",
    "    password=os.getenv('NEO4J_PASS'),\n",
    "    database=database\n",
    ")\n",
    "result = graph.query(\"\"\"\n",
    "MATCH (m:Movie{title: 'Toy Story'}) \n",
    "RETURN m.title, m.plot, m.poster\n",
    "\"\"\")\n",
    "print(result)"
   ]
  },
  {
   "cell_type": "markdown",
   "id": "5617c57f-3459-40ee-a0bb-8b846582fd3c",
   "metadata": {},
   "source": [
    "### Generate cypher"
   ]
  },
  {
   "cell_type": "code",
   "execution_count": 52,
   "id": "e667786b-ac31-4721-9321-bc4328d7af39",
   "metadata": {
    "tags": []
   },
   "outputs": [
    {
     "name": "stdout",
     "output_type": "stream",
     "text": [
      "\n",
      "\n",
      "\u001b[1m> Entering new GraphCypherQAChain chain...\u001b[0m\n",
      "Generated Cypher:\n",
      "\u001b[32;1m\u001b[1;3mMATCH (p:Person {name: \"Tom Hanks\"})-[:ACTED_IN]->(m:Movie {title: \"Toy Story\"})\n",
      "RETURN p.name, m.title, m.year, m.poster, m.plot, m.runtime, m.revenue, m.imdbRating, m.imdbVotes, m.budget, m.countries, m.languages, m.released, m.imdbId, m.tmdbId\u001b[0m\n",
      "Full Context:\n",
      "\u001b[32;1m\u001b[1;3m[{'p.name': 'Tom Hanks', 'm.title': 'Toy Story', 'm.year': 1995, 'm.poster': 'https://image.tmdb.org/t/p/w440_and_h660_face/uXDfjJbdP4ijW5hWSBrPrlKpxab.jpg', 'm.plot': \"A cowboy doll is profoundly threatened and jealous when a new spaceman figure supplants him as top toy in a boy's room.\", 'm.runtime': 81, 'm.revenue': 373554033, 'm.imdbRating': 8.3, 'm.imdbVotes': 591836, 'm.budget': 30000000, 'm.countries': ['USA'], 'm.languages': ['English'], 'm.released': '1995-11-22', 'm.imdbId': '0114709', 'm.tmdbId': '862'}]\u001b[0m\n",
      "\n",
      "\u001b[1m> Finished chain.\u001b[0m\n"
     ]
    },
    {
     "data": {
      "text/plain": [
       "{'query': 'What role did Tom Hanks play in Toy Story?',\n",
       " 'result': 'Tom Hanks played the role of Woody, a cowboy doll, in Toy Story.'}"
      ]
     },
     "execution_count": 52,
     "metadata": {},
     "output_type": "execute_result"
    }
   ],
   "source": [
    "from langchain_openai import ChatOpenAI\n",
    "from langchain_community.graphs import Neo4jGraph\n",
    "from langchain.chains import GraphCypherQAChain\n",
    "from langchain.prompts import PromptTemplate\n",
    "\n",
    "llm = ChatOpenAI(openai_api_key=openai_api_key)\n",
    "\n",
    "graph = Neo4jGraph(\n",
    "    url=os.getenv('NEO4J_URL'),\n",
    "    username=os.getenv('NEO4J_USER'),\n",
    "    password=os.getenv('NEO4J_PASS'),\n",
    "    database=database\n",
    ")\n",
    "\n",
    "CYPHER_GENERATION_TEMPLATE = \"\"\"\n",
    "You are an expert Neo4j Developer translating user questions into Cypher to answer questions about movies and provide recommendations.\n",
    "Convert the user's question based on the schema. \n",
    "\n",
    "For shortestPath queries, return the name attribute for Person or Genre labels.\n",
    "\n",
    "Schema: {schema}\n",
    "Question: {question}\n",
    "\"\"\"\n",
    "\n",
    "cypher_generation_prompt = PromptTemplate(\n",
    "    template=CYPHER_GENERATION_TEMPLATE,\n",
    "    input_variables=[\"schema\", \"question\"],\n",
    ")\n",
    "\n",
    "cypher_chain = GraphCypherQAChain.from_llm(\n",
    "    llm,\n",
    "    graph=graph,\n",
    "    cypher_prompt=cypher_generation_prompt,\n",
    "    verbose=True\n",
    ")\n",
    "\n",
    "cypher_chain.invoke({\"query\": \"What role did Tom Hanks play in Toy Story?\"})"
   ]
  },
  {
   "cell_type": "code",
   "execution_count": 15,
   "id": "089ee107-6f67-449e-a5e8-fad5390678f7",
   "metadata": {
    "tags": []
   },
   "outputs": [
    {
     "name": "stdout",
     "output_type": "stream",
     "text": [
      "\n",
      "\n",
      "\u001b[1m> Entering new GraphCypherQAChain chain...\u001b[0m\n",
      "Generated Cypher:\n",
      "\u001b[32;1m\u001b[1;3mMATCH (m:Movie)-[:ACTED_IN]->(a:Actor {name: \"Meg Ryan\"})\n",
      "RETURN m.title\u001b[0m\n",
      "Full Context:\n",
      "\u001b[32;1m\u001b[1;3m[]\u001b[0m\n",
      "\n",
      "\u001b[1m> Finished chain.\u001b[0m\n"
     ]
    },
    {
     "data": {
      "text/plain": [
       "{'query': 'What movies did Meg Ryan act in?',\n",
       " 'result': \"I'm sorry, I don't have access to that information.\"}"
      ]
     },
     "execution_count": 15,
     "metadata": {},
     "output_type": "execute_result"
    }
   ],
   "source": [
    "cypher_chain.invoke({\"query\": \"What movies did Meg Ryan act in?\"})"
   ]
  },
  {
   "cell_type": "code",
   "execution_count": 35,
   "id": "83a9cfa1-c965-45ee-bc49-be34ed6c794c",
   "metadata": {
    "tags": []
   },
   "outputs": [
    {
     "name": "stdout",
     "output_type": "stream",
     "text": [
      "\n",
      "\n",
      "\u001b[1m> Entering new GraphCypherQAChain chain...\u001b[0m\n",
      "Generated Cypher:\n",
      "\u001b[32;1m\u001b[1;3mMATCH (p:Person {name: \"Tom Hanks\"})-[:DIRECTED]->(m:Movie)\n",
      "RETURN COUNT(m) AS numberOfMoviesDirectedByTomHanks\u001b[0m\n",
      "Full Context:\n",
      "\u001b[32;1m\u001b[1;3m[{'numberOfMoviesDirectedByTomHanks': 2}]\u001b[0m\n",
      "\n",
      "\u001b[1m> Finished chain.\u001b[0m\n"
     ]
    },
    {
     "data": {
      "text/plain": [
       "{'query': 'How many movies has Tom Hanks directed?',\n",
       " 'result': 'Tom Hanks has directed 2 movies.'}"
      ]
     },
     "execution_count": 35,
     "metadata": {},
     "output_type": "execute_result"
    }
   ],
   "source": [
    "cypher_chain.invoke({\"query\": \"How many movies has Tom Hanks directed?\"})"
   ]
  },
  {
   "cell_type": "code",
   "execution_count": 53,
   "id": "5b2d468a-9e5d-4be4-902f-17c03082e412",
   "metadata": {
    "tags": []
   },
   "outputs": [
    {
     "name": "stdout",
     "output_type": "stream",
     "text": [
      "\n",
      "\n",
      "\u001b[1m> Entering new GraphCypherQAChain chain...\u001b[0m\n",
      "Generated Cypher:\n",
      "\u001b[32;1m\u001b[1;3mMATCH (p1:Person {name: \"Tom Hanks\"}), (p2:Person {name: \"Mel Gibson\"})\n",
      "MATCH path = shortestPath((p1)-[*]-(p2))\n",
      "RETURN [n IN nodes(path) | n.name] AS shortestPath\u001b[0m\n",
      "Full Context:\n",
      "\u001b[32;1m\u001b[1;3m[{'shortestPath': ['Tom Hanks', None, 'Adventure', None, 'Mel Gibson']}]\u001b[0m\n",
      "\n",
      "\u001b[1m> Finished chain.\u001b[0m\n"
     ]
    },
    {
     "data": {
      "text/plain": [
       "{'query': 'What is the shortest path between Tom Hanks and Mel Gibson',\n",
       " 'result': 'The shortest path between Tom Hanks and Mel Gibson is through the genre of Adventure.'}"
      ]
     },
     "execution_count": 53,
     "metadata": {},
     "output_type": "execute_result"
    }
   ],
   "source": [
    "cypher_chain.invoke({\"query\": \"What is the shortest path between Tom Hanks and Mel Gibson\"})"
   ]
  },
  {
   "cell_type": "markdown",
   "id": "27b3c1c7-faef-4009-ad3d-bee5d5cec6d2",
   "metadata": {
    "tags": []
   },
   "source": [
    "__observation__\n",
    "* It seems a bit difficult for the LLM to return name for Person and Genre labels and titles for Movies.. Tried with examples, but this does not work properly still. With chatgpt in the browser it works btw. It solves it like this:\n",
    "\n",
    "<pre>\n",
    "MATCH path = shortestPath((tom:Person {name: \"Tom Hanks\"})-[*]-(mel:Person {name: \"Mel Gibson\"}))\n",
    "RETURN [node in nodes(path) | \n",
    "CASE \n",
    "    WHEN \"Person\" IN labels(node) OR \"Genre\" IN labels(node) THEN node.name \n",
    "    WHEN \"Movie\" IN labels(node) THEN node.title \n",
    "END\n",
    "] AS shortestPath;\n",
    "</pre>"
   ]
  }
 ],
 "metadata": {
  "kernelspec": {
   "display_name": "Python 3 (ipykernel)",
   "language": "python",
   "name": "python3"
  },
  "language_info": {
   "codemirror_mode": {
    "name": "ipython",
    "version": 3
   },
   "file_extension": ".py",
   "mimetype": "text/x-python",
   "name": "python",
   "nbconvert_exporter": "python",
   "pygments_lexer": "ipython3",
   "version": "3.9.12"
  }
 },
 "nbformat": 4,
 "nbformat_minor": 5
}
