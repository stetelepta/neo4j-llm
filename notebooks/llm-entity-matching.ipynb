{
 "cells": [
  {
   "cell_type": "markdown",
   "id": "8e7e7b80-d626-4094-86e9-c62bca2c997c",
   "metadata": {},
   "source": [
    "# Demo - Entity Matching with an LLM\n",
    "\n",
    "* Replicate results for benchmark on [Entity Resolution(https://paperswithcode.com/sota/entity-resolution-on-abt-buy)\n",
    "\n",
    "### Sources:\n",
    "* https://paperswithcode.com/paper/entity-matching-using-large-language-models\n",
    "* https://paperswithcode.com/sota/entity-resolution-on-abt-buy"
   ]
  },
  {
   "cell_type": "markdown",
   "id": "c8b93c37-f0a9-46c8-82e9-dd7ff1f6f2f0",
   "metadata": {},
   "source": [
    "### Requirements"
   ]
  },
  {
   "cell_type": "code",
   "execution_count": 1,
   "id": "722da72e-0aaf-4023-bdc4-22853d1c9cb8",
   "metadata": {
    "tags": []
   },
   "outputs": [],
   "source": [
    "!pip install pypdf langchain openai langchain-openai neo4j python-dotenv langchainhub langchain-community --quiet"
   ]
  },
  {
   "cell_type": "code",
   "execution_count": 2,
   "id": "d91031e7-9e19-4834-8e2e-6a6c688a3b61",
   "metadata": {
    "tags": []
   },
   "outputs": [
    {
     "name": "stdout",
     "output_type": "stream",
     "text": [
      "langchain          : 0.1.5\n",
      "langchainhub       : 0.1.14\n",
      "langchain_community: 0.0.17\n",
      "pypdf              : 4.0.1\n",
      "\n"
     ]
    }
   ],
   "source": [
    "%load_ext watermark\n",
    "%watermark -p langchain,langchainhub,langchain_community,pypdf"
   ]
  },
  {
   "cell_type": "markdown",
   "id": "9f718c68-90df-407e-87e3-8235c2f06180",
   "metadata": {},
   "source": [
    "### Imports"
   ]
  },
  {
   "cell_type": "code",
   "execution_count": 3,
   "id": "b3a5300d-35fe-4929-b7a8-ded5d5d64a1c",
   "metadata": {
    "tags": []
   },
   "outputs": [],
   "source": [
    "import os\n",
    "from graphdatascience import GraphDataScience\n",
    "from dotenv import load_dotenv, find_dotenv, dotenv_values\n",
    "from pathlib import Path\n",
    "import neo4j\n",
    "import json\n",
    "\n",
    "from langchain_openai import ChatOpenAI\n",
    "\n",
    "from langchain.agents import AgentExecutor, create_react_agent\n",
    "from langchain.chains import LLMChain\n",
    "from langchain.chains.conversation.memory import ConversationBufferMemory\n",
    "from langchain.chains.combine_documents import create_stuff_documents_chain\n",
    "from langchain.output_parsers.json import SimpleJsonOutputParser\n",
    "from langchain.prompts import PromptTemplate\n",
    "from langchain.tools import Tool\n",
    "\n",
    "from langchain_community.graphs import Neo4jGraph\n",
    "from langchain.chains import GraphCypherQAChain\n",
    "\n",
    "from langchain import hub\n",
    "from langchain_openai import OpenAIEmbeddings\n",
    "\n",
    "import pandas as pd\n",
    "import pickle\n",
    "import matplotlib.pyplot as plt\n",
    "\n",
    "import numpy as np\n",
    "from sklearn.metrics.pairwise import cosine_similarity\n",
    "from sklearn.manifold import TSNE"
   ]
  },
  {
   "cell_type": "code",
   "execution_count": 4,
   "id": "3a4295f0-fe93-475f-8428-dda89819b949",
   "metadata": {
    "tags": []
   },
   "outputs": [],
   "source": [
    "from sklearn.tree import DecisionTreeClassifier\n",
    "from sklearn.model_selection import train_test_split\n",
    "from sklearn.metrics import accuracy_score,classification_report,confusion_matrix, f1_score\n",
    "from sklearn.metrics import PrecisionRecallDisplay"
   ]
  },
  {
   "cell_type": "markdown",
   "id": "9836fbd4-fa26-49c7-b758-d01d2fc2e97c",
   "metadata": {},
   "source": [
    "### Settings"
   ]
  },
  {
   "cell_type": "code",
   "execution_count": 5,
   "id": "41d7b49c-ce17-42d0-85cc-fe21f86a8318",
   "metadata": {
    "tags": []
   },
   "outputs": [],
   "source": [
    "project_path = Path(os.getcwd()).parent\n",
    "data_path = project_path / \"data\"\n",
    "model_path = project_path / \"models\"\n",
    "output_path = project_path / \"output\"\n",
    "\n",
    "llm_model = \"gpt-4\"\n",
    "\n",
    "# load env settings\n",
    "load_dotenv(\"../.env.lotr\")\n",
    "\n",
    "openai_api_key = os.getenv('OPENAI_API_KEY')\n",
    "\n",
    "np.random.seed(42)"
   ]
  },
  {
   "cell_type": "markdown",
   "id": "b760fc9e-c137-4acd-84ce-883e32e6d7bf",
   "metadata": {},
   "source": [
    "### Helper functions"
   ]
  },
  {
   "cell_type": "code",
   "execution_count": 6,
   "id": "caad34b2-aef0-4a5f-a6b5-c9823672661f",
   "metadata": {
    "tags": []
   },
   "outputs": [],
   "source": [
    "def evaluate(emb1, emb2, df):\n",
    "    similarity = cosine_similarity(embeddings_abt, embeddings_buy)\n",
    "\n",
    "    output = []\n",
    "    for i in np.arange(len(similarity)):\n",
    "        output.append(similarity[i][i])\n",
    "    df_train['similarity'] = output\n",
    "\n",
    "        # matches\n",
    "    idx_1 = df_train_merged[df_train_merged.matching == True].index.tolist()\n",
    "    df_train_match = df_train.loc[idx_1, :]\n",
    "\n",
    "    # no matches\n",
    "    idx_0 = df_train_merged[df_train_merged.matching == False].index.tolist()\n",
    "    df_train_no_match = df_train.loc[idx_0, :]\n",
    "    \n",
    "    plt.boxplot([df_train_match['similarity'], df_train_no_match['similarity']], labels=[\"match\", \"no match\"])\n",
    "    plt.show()\n",
    "\n",
    "    # train decision tree\n",
    "    X = df_train['similarity'].values.reshape(-1, 1)\n",
    "    y = df_train[['matching']]*1\n",
    "\n",
    "    # train/test split\n",
    "    X_train, X_test, y_train, y_test = train_test_split(X, y, test_size = 0.3, random_state=42)\n",
    "\n",
    "    # fit model\n",
    "    clf_model = DecisionTreeClassifier(criterion=\"gini\", random_state=42,max_depth=3, min_samples_leaf=5)   \n",
    "    clf_model.fit(X_train,y_train)\n",
    "    y_pred = clf_model.predict(X_test)\n",
    "    print(classification_report(y_test, y_pred, target_names=['no match', 'match']))\n",
    "    print(\"f1 score: \", f1_score(y_test, y_pred))\n",
    "    \n",
    "    # precision recall curve\n",
    "    display = PrecisionRecallDisplay.from_estimator(\n",
    "        clf_model, X_test, y_test, name=\"LinearSVC\", plot_chance_level=True\n",
    "    )\n",
    "    _ = display.ax_.set_title(\"2-class Precision-Recall curve\")"
   ]
  },
  {
   "cell_type": "markdown",
   "id": "8dfbe0a7-229a-47b5-8f9c-88bb567b0889",
   "metadata": {},
   "source": [
    "### 1. Load Data"
   ]
  },
  {
   "cell_type": "code",
   "execution_count": 7,
   "id": "28d3c50b",
   "metadata": {
    "tags": []
   },
   "outputs": [
    {
     "data": {
      "text/plain": [
       "['2_buy.csv', '1_abt.csv']"
      ]
     },
     "execution_count": 7,
     "metadata": {},
     "output_type": "execute_result"
    }
   ],
   "source": [
    "os.listdir(data_path / 'abt-buy' / 'record_descriptions')"
   ]
  },
  {
   "cell_type": "code",
   "execution_count": 8,
   "id": "4237c131-bcea-41b1-8664-881d6315ebf2",
   "metadata": {
    "tags": []
   },
   "outputs": [
    {
     "data": {
      "text/html": [
       "<div>\n",
       "<style scoped>\n",
       "    .dataframe tbody tr th:only-of-type {\n",
       "        vertical-align: middle;\n",
       "    }\n",
       "\n",
       "    .dataframe tbody tr th {\n",
       "        vertical-align: top;\n",
       "    }\n",
       "\n",
       "    .dataframe thead th {\n",
       "        text-align: right;\n",
       "    }\n",
       "</style>\n",
       "<table border=\"1\" class=\"dataframe\">\n",
       "  <thead>\n",
       "    <tr style=\"text-align: right;\">\n",
       "      <th></th>\n",
       "      <th>source_id</th>\n",
       "      <th>target_id</th>\n",
       "      <th>matching</th>\n",
       "    </tr>\n",
       "  </thead>\n",
       "  <tbody>\n",
       "    <tr>\n",
       "      <th>0</th>\n",
       "      <td>33161</td>\n",
       "      <td>207390654</td>\n",
       "      <td>False</td>\n",
       "    </tr>\n",
       "    <tr>\n",
       "      <th>1</th>\n",
       "      <td>36258</td>\n",
       "      <td>208085180</td>\n",
       "      <td>False</td>\n",
       "    </tr>\n",
       "    <tr>\n",
       "      <th>2</th>\n",
       "      <td>17417</td>\n",
       "      <td>90125786</td>\n",
       "      <td>False</td>\n",
       "    </tr>\n",
       "    <tr>\n",
       "      <th>3</th>\n",
       "      <td>34309</td>\n",
       "      <td>208504304</td>\n",
       "      <td>False</td>\n",
       "    </tr>\n",
       "    <tr>\n",
       "      <th>4</th>\n",
       "      <td>8060</td>\n",
       "      <td>90138537</td>\n",
       "      <td>False</td>\n",
       "    </tr>\n",
       "  </tbody>\n",
       "</table>\n",
       "</div>"
      ],
      "text/plain": [
       "   source_id  target_id  matching\n",
       "0      33161  207390654     False\n",
       "1      36258  208085180     False\n",
       "2      17417   90125786     False\n",
       "3      34309  208504304     False\n",
       "4       8060   90138537     False"
      ]
     },
     "metadata": {},
     "output_type": "display_data"
    },
    {
     "data": {
      "text/html": [
       "<div>\n",
       "<style scoped>\n",
       "    .dataframe tbody tr th:only-of-type {\n",
       "        vertical-align: middle;\n",
       "    }\n",
       "\n",
       "    .dataframe tbody tr th {\n",
       "        vertical-align: top;\n",
       "    }\n",
       "\n",
       "    .dataframe thead th {\n",
       "        text-align: right;\n",
       "    }\n",
       "</style>\n",
       "<table border=\"1\" class=\"dataframe\">\n",
       "  <thead>\n",
       "    <tr style=\"text-align: right;\">\n",
       "      <th></th>\n",
       "      <th>subject_id</th>\n",
       "      <th>name</th>\n",
       "      <th>description</th>\n",
       "      <th>price</th>\n",
       "    </tr>\n",
       "  </thead>\n",
       "  <tbody>\n",
       "    <tr>\n",
       "      <th>0</th>\n",
       "      <td>552</td>\n",
       "      <td>Sony Turntable - PSLX350H</td>\n",
       "      <td>Sony Turntable - PSLX350H/ Belt Drive System/ ...</td>\n",
       "      <td>NaN</td>\n",
       "    </tr>\n",
       "    <tr>\n",
       "      <th>1</th>\n",
       "      <td>580</td>\n",
       "      <td>Bose Acoustimass 5 Series III Speaker System -...</td>\n",
       "      <td>Bose Acoustimass 5 Series III Speaker System -...</td>\n",
       "      <td>399.0</td>\n",
       "    </tr>\n",
       "    <tr>\n",
       "      <th>2</th>\n",
       "      <td>4696</td>\n",
       "      <td>Sony Switcher - SBV40S</td>\n",
       "      <td>Sony Switcher - SBV40S/ Eliminates Disconnecti...</td>\n",
       "      <td>49.0</td>\n",
       "    </tr>\n",
       "    <tr>\n",
       "      <th>3</th>\n",
       "      <td>5644</td>\n",
       "      <td>Sony 5 Disc CD Player - CDPCE375</td>\n",
       "      <td>Sony 5 Disc CD Player- CDPCE375/ 5 Disc Change...</td>\n",
       "      <td>NaN</td>\n",
       "    </tr>\n",
       "    <tr>\n",
       "      <th>4</th>\n",
       "      <td>6284</td>\n",
       "      <td>Bose 27028 161 Bookshelf Pair Speakers In Whit...</td>\n",
       "      <td>Bose 161 Bookshelf Speakers In White - 161WH/ ...</td>\n",
       "      <td>158.0</td>\n",
       "    </tr>\n",
       "  </tbody>\n",
       "</table>\n",
       "</div>"
      ],
      "text/plain": [
       "   subject_id                                               name  \\\n",
       "0         552                          Sony Turntable - PSLX350H   \n",
       "1         580  Bose Acoustimass 5 Series III Speaker System -...   \n",
       "2        4696                             Sony Switcher - SBV40S   \n",
       "3        5644                   Sony 5 Disc CD Player - CDPCE375   \n",
       "4        6284  Bose 27028 161 Bookshelf Pair Speakers In Whit...   \n",
       "\n",
       "                                         description  price  \n",
       "0  Sony Turntable - PSLX350H/ Belt Drive System/ ...    NaN  \n",
       "1  Bose Acoustimass 5 Series III Speaker System -...  399.0  \n",
       "2  Sony Switcher - SBV40S/ Eliminates Disconnecti...   49.0  \n",
       "3  Sony 5 Disc CD Player- CDPCE375/ 5 Disc Change...    NaN  \n",
       "4  Bose 161 Bookshelf Speakers In White - 161WH/ ...  158.0  "
      ]
     },
     "metadata": {},
     "output_type": "display_data"
    },
    {
     "data": {
      "text/html": [
       "<div>\n",
       "<style scoped>\n",
       "    .dataframe tbody tr th:only-of-type {\n",
       "        vertical-align: middle;\n",
       "    }\n",
       "\n",
       "    .dataframe tbody tr th {\n",
       "        vertical-align: top;\n",
       "    }\n",
       "\n",
       "    .dataframe thead th {\n",
       "        text-align: right;\n",
       "    }\n",
       "</style>\n",
       "<table border=\"1\" class=\"dataframe\">\n",
       "  <thead>\n",
       "    <tr style=\"text-align: right;\">\n",
       "      <th></th>\n",
       "      <th>subject_id</th>\n",
       "      <th>name</th>\n",
       "      <th>description</th>\n",
       "      <th>manufacturer</th>\n",
       "      <th>price</th>\n",
       "    </tr>\n",
       "  </thead>\n",
       "  <tbody>\n",
       "    <tr>\n",
       "      <th>0</th>\n",
       "      <td>10011646</td>\n",
       "      <td>Linksys EtherFast EZXS88W Ethernet Switch - EZ...</td>\n",
       "      <td>Linksys EtherFast 8-Port 10/100 Switch (New/Wo...</td>\n",
       "      <td>LINKSYS</td>\n",
       "      <td>NaN</td>\n",
       "    </tr>\n",
       "    <tr>\n",
       "      <th>1</th>\n",
       "      <td>10140760</td>\n",
       "      <td>Linksys EtherFast EZXS55W Ethernet Switch</td>\n",
       "      <td>5 x 10/100Base-TX LAN</td>\n",
       "      <td>LINKSYS</td>\n",
       "      <td>NaN</td>\n",
       "    </tr>\n",
       "    <tr>\n",
       "      <th>2</th>\n",
       "      <td>10221960</td>\n",
       "      <td>Netgear ProSafe FS105 Ethernet Switch - FS105NA</td>\n",
       "      <td>NETGEAR FS105 Prosafe 5 Port 10/100 Desktop Sw...</td>\n",
       "      <td>Netgear</td>\n",
       "      <td>NaN</td>\n",
       "    </tr>\n",
       "    <tr>\n",
       "      <th>3</th>\n",
       "      <td>10246269</td>\n",
       "      <td>Belkin Pro Series High Integrity VGA/SVGA Moni...</td>\n",
       "      <td>1 x HD-15 - 1 x HD-15 - 10ft - Beige</td>\n",
       "      <td>Belkin</td>\n",
       "      <td>NaN</td>\n",
       "    </tr>\n",
       "    <tr>\n",
       "      <th>4</th>\n",
       "      <td>10315184</td>\n",
       "      <td>Netgear ProSafe JFS516 Ethernet Switch</td>\n",
       "      <td>Netgear ProSafe 16 Port 10/100 Rackmount Switc...</td>\n",
       "      <td>Netgear</td>\n",
       "      <td>NaN</td>\n",
       "    </tr>\n",
       "  </tbody>\n",
       "</table>\n",
       "</div>"
      ],
      "text/plain": [
       "   subject_id                                               name  \\\n",
       "0    10011646  Linksys EtherFast EZXS88W Ethernet Switch - EZ...   \n",
       "1    10140760          Linksys EtherFast EZXS55W Ethernet Switch   \n",
       "2    10221960    Netgear ProSafe FS105 Ethernet Switch - FS105NA   \n",
       "3    10246269  Belkin Pro Series High Integrity VGA/SVGA Moni...   \n",
       "4    10315184             Netgear ProSafe JFS516 Ethernet Switch   \n",
       "\n",
       "                                         description manufacturer  price  \n",
       "0  Linksys EtherFast 8-Port 10/100 Switch (New/Wo...      LINKSYS    NaN  \n",
       "1                              5 x 10/100Base-TX LAN      LINKSYS    NaN  \n",
       "2  NETGEAR FS105 Prosafe 5 Port 10/100 Desktop Sw...      Netgear    NaN  \n",
       "3               1 x HD-15 - 1 x HD-15 - 10ft - Beige       Belkin    NaN  \n",
       "4  Netgear ProSafe 16 Port 10/100 Rackmount Switc...      Netgear    NaN  "
      ]
     },
     "metadata": {},
     "output_type": "display_data"
    }
   ],
   "source": [
    "df_train = pd.read_csv(data_path / 'abt-buy' / 'gs_train.csv')\n",
    "df_abt = pd.read_csv(data_path / 'abt-buy' / 'record_descriptions' / '1_abt.csv', encoding='unicode_escape')\n",
    "df_buy = pd.read_csv(data_path / 'abt-buy' / 'record_descriptions' / '2_buy.csv')\n",
    "display(df_train.head())\n",
    "display(df_abt.head())\n",
    "display(df_buy.head())"
   ]
  },
  {
   "cell_type": "code",
   "execution_count": 9,
   "id": "adf14a1f-96c9-4c51-93b9-2d188307d738",
   "metadata": {
    "tags": []
   },
   "outputs": [],
   "source": [
    "df_abt_merged = df_abt.merge(df_train, left_on='subject_id', right_on='source_id', how='right')\n",
    "df_train_merged = df_buy.merge(df_abt_merged, left_on='subject_id', right_on='target_id', how='right')"
   ]
  },
  {
   "cell_type": "code",
   "execution_count": 10,
   "id": "9b296f29-ba5d-47ec-b058-aa040833544b",
   "metadata": {
    "tags": []
   },
   "outputs": [
    {
     "data": {
      "text/html": [
       "<div>\n",
       "<style scoped>\n",
       "    .dataframe tbody tr th:only-of-type {\n",
       "        vertical-align: middle;\n",
       "    }\n",
       "\n",
       "    .dataframe tbody tr th {\n",
       "        vertical-align: top;\n",
       "    }\n",
       "\n",
       "    .dataframe thead th {\n",
       "        text-align: right;\n",
       "    }\n",
       "</style>\n",
       "<table border=\"1\" class=\"dataframe\">\n",
       "  <thead>\n",
       "    <tr style=\"text-align: right;\">\n",
       "      <th></th>\n",
       "      <th>subject_id_x</th>\n",
       "      <th>name_x</th>\n",
       "      <th>description_x</th>\n",
       "      <th>manufacturer</th>\n",
       "      <th>price_x</th>\n",
       "      <th>subject_id_y</th>\n",
       "      <th>name_y</th>\n",
       "      <th>description_y</th>\n",
       "      <th>price_y</th>\n",
       "      <th>source_id</th>\n",
       "      <th>target_id</th>\n",
       "      <th>matching</th>\n",
       "    </tr>\n",
       "  </thead>\n",
       "  <tbody>\n",
       "    <tr>\n",
       "      <th>0</th>\n",
       "      <td>207390654</td>\n",
       "      <td>Sony Handycam HDR-SR10 High Definition Digital...</td>\n",
       "      <td>16:9 - 2.7' Hybrid LCD</td>\n",
       "      <td>Sony</td>\n",
       "      <td>549.00</td>\n",
       "      <td>33161</td>\n",
       "      <td>Sony High Definition HDV Handycam Camcorder - ...</td>\n",
       "      <td>Sony High Definition HDV Handycam Camcorder - ...</td>\n",
       "      <td>NaN</td>\n",
       "      <td>33161</td>\n",
       "      <td>207390654</td>\n",
       "      <td>False</td>\n",
       "    </tr>\n",
       "    <tr>\n",
       "      <th>1</th>\n",
       "      <td>208085180</td>\n",
       "      <td>Pioneer DEH-2000MP Car Audio Player</td>\n",
       "      <td>CD-RW - CD-Text, MP3, WMA, WAV - LCD - 4 - 200...</td>\n",
       "      <td>Pioneer</td>\n",
       "      <td>84.00</td>\n",
       "      <td>36258</td>\n",
       "      <td>D-Link Broadband Cable Modem - DCM202</td>\n",
       "      <td>D-Link Broadband Cable Modem - DCM202/ DOCSIS ...</td>\n",
       "      <td>79.00</td>\n",
       "      <td>36258</td>\n",
       "      <td>208085180</td>\n",
       "      <td>False</td>\n",
       "    </tr>\n",
       "    <tr>\n",
       "      <th>2</th>\n",
       "      <td>90125786</td>\n",
       "      <td>Sanus Wall/Ceiling Speaker Mount - WMS3S SILVER</td>\n",
       "      <td>Plastic - 8 lb</td>\n",
       "      <td>Sanus</td>\n",
       "      <td>NaN</td>\n",
       "      <td>17417</td>\n",
       "      <td>Sanus 13' - 30' VisionMount Flat Panel TV Silv...</td>\n",
       "      <td>Sanus 13' - 30' VisionMount Flat Panel TV Silv...</td>\n",
       "      <td>39.99</td>\n",
       "      <td>17417</td>\n",
       "      <td>90125786</td>\n",
       "      <td>False</td>\n",
       "    </tr>\n",
       "    <tr>\n",
       "      <th>3</th>\n",
       "      <td>208504304</td>\n",
       "      <td>Sony HT7200DH Home Theater System</td>\n",
       "      <td>DVD Player, A/V Receiver, 5.1 Speakers - 1 Dis...</td>\n",
       "      <td>Sony</td>\n",
       "      <td>376.96</td>\n",
       "      <td>34309</td>\n",
       "      <td>Sony Bravia Wireless Home Theater System In Bl...</td>\n",
       "      <td>Sony Bravia Wireless Home Theater System In Bl...</td>\n",
       "      <td>NaN</td>\n",
       "      <td>34309</td>\n",
       "      <td>208504304</td>\n",
       "      <td>False</td>\n",
       "    </tr>\n",
       "    <tr>\n",
       "      <th>4</th>\n",
       "      <td>90138537</td>\n",
       "      <td>Panasonic KX-TSC14B Corded Telephone</td>\n",
       "      <td>2 x Phone Line(s) - Headset - Black</td>\n",
       "      <td>Panasonic</td>\n",
       "      <td>NaN</td>\n",
       "      <td>8060</td>\n",
       "      <td>Panasonic 2-Line Integrated Telephone System -...</td>\n",
       "      <td>Panasonic 2-Line Integrated Telephone System -...</td>\n",
       "      <td>NaN</td>\n",
       "      <td>8060</td>\n",
       "      <td>90138537</td>\n",
       "      <td>False</td>\n",
       "    </tr>\n",
       "  </tbody>\n",
       "</table>\n",
       "</div>"
      ],
      "text/plain": [
       "   subject_id_x                                             name_x  \\\n",
       "0     207390654  Sony Handycam HDR-SR10 High Definition Digital...   \n",
       "1     208085180                Pioneer DEH-2000MP Car Audio Player   \n",
       "2      90125786    Sanus Wall/Ceiling Speaker Mount - WMS3S SILVER   \n",
       "3     208504304                  Sony HT7200DH Home Theater System   \n",
       "4      90138537               Panasonic KX-TSC14B Corded Telephone   \n",
       "\n",
       "                                       description_x manufacturer  price_x  \\\n",
       "0                             16:9 - 2.7' Hybrid LCD         Sony   549.00   \n",
       "1  CD-RW - CD-Text, MP3, WMA, WAV - LCD - 4 - 200...      Pioneer    84.00   \n",
       "2                                     Plastic - 8 lb        Sanus      NaN   \n",
       "3  DVD Player, A/V Receiver, 5.1 Speakers - 1 Dis...         Sony   376.96   \n",
       "4                2 x Phone Line(s) - Headset - Black    Panasonic      NaN   \n",
       "\n",
       "   subject_id_y                                             name_y  \\\n",
       "0         33161  Sony High Definition HDV Handycam Camcorder - ...   \n",
       "1         36258              D-Link Broadband Cable Modem - DCM202   \n",
       "2         17417  Sanus 13' - 30' VisionMount Flat Panel TV Silv...   \n",
       "3         34309  Sony Bravia Wireless Home Theater System In Bl...   \n",
       "4          8060  Panasonic 2-Line Integrated Telephone System -...   \n",
       "\n",
       "                                       description_y  price_y  source_id  \\\n",
       "0  Sony High Definition HDV Handycam Camcorder - ...      NaN      33161   \n",
       "1  D-Link Broadband Cable Modem - DCM202/ DOCSIS ...    79.00      36258   \n",
       "2  Sanus 13' - 30' VisionMount Flat Panel TV Silv...    39.99      17417   \n",
       "3  Sony Bravia Wireless Home Theater System In Bl...      NaN      34309   \n",
       "4  Panasonic 2-Line Integrated Telephone System -...      NaN       8060   \n",
       "\n",
       "   target_id  matching  \n",
       "0  207390654     False  \n",
       "1  208085180     False  \n",
       "2   90125786     False  \n",
       "3  208504304     False  \n",
       "4   90138537     False  "
      ]
     },
     "execution_count": 10,
     "metadata": {},
     "output_type": "execute_result"
    }
   ],
   "source": [
    "df_train_merged.head()"
   ]
  },
  {
   "cell_type": "markdown",
   "id": "bacab9be-9d88-4080-83c2-06e9bf1dba00",
   "metadata": {},
   "source": [
    "### Generate embeddings for name attribute"
   ]
  },
  {
   "cell_type": "code",
   "execution_count": 11,
   "id": "8828e545-b8b0-4353-b831-f24ce5b23ee8",
   "metadata": {
    "tags": []
   },
   "outputs": [
    {
     "name": "stdout",
     "output_type": "stream",
     "text": [
      "CPU times: user 9.04 ms, sys: 1.83 ms, total: 10.9 ms\n",
      "Wall time: 10.9 ms\n"
     ]
    }
   ],
   "source": [
    "%%time\n",
    "# Wall time: 25.5 s\n",
    "embeddings_model = OpenAIEmbeddings()"
   ]
  },
  {
   "cell_type": "markdown",
   "id": "6f9afbb3-0d4c-4c3d-9fcc-8086deaee8e8",
   "metadata": {},
   "source": [
    "#### Name embeddings"
   ]
  },
  {
   "cell_type": "code",
   "execution_count": 12,
   "id": "7631f630-457b-4a85-98e8-a2c04217be14",
   "metadata": {},
   "outputs": [],
   "source": [
    "names_abt = df_train_merged.name_x.tolist()\n",
    "names_buy = df_train_merged.name_y.tolist()"
   ]
  },
  {
   "cell_type": "code",
   "execution_count": 13,
   "id": "03da3e7b-b167-4ca7-acb0-4ebc91761ff5",
   "metadata": {
    "tags": []
   },
   "outputs": [
    {
     "name": "stdout",
     "output_type": "stream",
     "text": [
      "CPU times: user 3 µs, sys: 0 ns, total: 3 µs\n",
      "Wall time: 5.01 µs\n"
     ]
    }
   ],
   "source": [
    "%%time \n",
    "# ~ 25seconds\n",
    "\n",
    "generate_name_embeddings = False\n",
    "\n",
    "if generate_name_embeddings == True:\n",
    "    embeddings_abt = embeddings_model.embed_documents(names_abt)\n",
    "    embeddings_buy = embeddings_model.embed_documents(names_buy)\n",
    "\n",
    "    # save to pickle\n",
    "    file = open(data_path / 'embeddings_abt_name_train.pickle', 'wb')\n",
    "    pickle.dump(embeddings_abt, file)\n",
    "    file.close()\n",
    "    \n",
    "    file = open(data_path / 'embeddings_buy_name_train.pickle', 'wb')\n",
    "    pickle.dump(embeddings_buy, file)\n",
    "    file.close()"
   ]
  },
  {
   "cell_type": "markdown",
   "id": "cfc347a2-e73d-49f7-9f50-04c041b17435",
   "metadata": {
    "tags": []
   },
   "source": [
    "#### Read embeddings from file"
   ]
  },
  {
   "cell_type": "code",
   "execution_count": 14,
   "id": "c26931e7-7e8f-4b90-8a05-be05c1ea652d",
   "metadata": {
    "tags": []
   },
   "outputs": [],
   "source": [
    "embeddings_abt = pickle.load(open(data_path / 'embeddings_abt_name_train.pickle', 'rb'))\n",
    "embeddings_buy = pickle.load(open(data_path / 'embeddings_buy_name_train.pickle', 'rb'))"
   ]
  },
  {
   "cell_type": "markdown",
   "id": "ff749a86-753a-4f65-9df3-dac97b9fbb5f",
   "metadata": {},
   "source": [
    "#### Evaluate"
   ]
  },
  {
   "cell_type": "code",
   "execution_count": 15,
   "id": "bf9293b0-3825-4a5f-a657-47d2eafed5aa",
   "metadata": {
    "tags": []
   },
   "outputs": [
    {
     "data": {
      "image/png": "[encoded data removed]",
      "text/plain": [
       "<Figure size 640x480 with 1 Axes>"
      ]
     },
     "metadata": {},
     "output_type": "display_data"
    },
    {
     "name": "stdout",
     "output_type": "stream",
     "text": [
      "              precision    recall  f1-score   support\n",
      "\n",
      "    no match       0.89      0.98      0.93      1263\n",
      "       match       0.77      0.39      0.52       240\n",
      "\n",
      "    accuracy                           0.88      1503\n",
      "   macro avg       0.83      0.68      0.73      1503\n",
      "weighted avg       0.87      0.88      0.87      1503\n",
      "\n",
      "f1 score:  0.5193370165745856\n"
     ]
    },
    {
     "data": {
      "image/png": "[encoded data removed]",
      "text/plain": [
       "<Figure size 640x480 with 1 Axes>"
      ]
     },
     "metadata": {},
     "output_type": "display_data"
    }
   ],
   "source": [
    "evaluate(embeddings_abt, embeddings_buy, df_train)"
   ]
  },
  {
   "cell_type": "markdown",
   "id": "b2e6358a-2da3-4a02-9da7-aa9672afe447",
   "metadata": {},
   "source": [
    "### Description embeddings"
   ]
  },
  {
   "cell_type": "code",
   "execution_count": 16,
   "id": "5e5bedde-23ad-4902-a23c-1124e0bd2a4b",
   "metadata": {
    "tags": []
   },
   "outputs": [],
   "source": [
    "descriptions_abt = [str(s) for s in df_train_merged.description_x.tolist()]\n",
    "descriptions_buy = [str(s) for s in df_train_merged.description_y.tolist()]"
   ]
  },
  {
   "cell_type": "code",
   "execution_count": 17,
   "id": "c8e94b10-2f7d-47a1-bfbd-6a7466198c2e",
   "metadata": {
    "tags": []
   },
   "outputs": [
    {
     "name": "stdout",
     "output_type": "stream",
     "text": [
      "CPU times: user 5 µs, sys: 10 µs, total: 15 µs\n",
      "Wall time: 4.05 µs\n"
     ]
    }
   ],
   "source": [
    "%%time\n",
    "# Wall time: 32.4 s\n",
    "generate_description_embeddings = False\n",
    "\n",
    "if generate_description_embeddings == True:\n",
    "    embeddings_abt = embeddings_model.embed_documents(descriptions_abt)\n",
    "    print(\"abt embeddings done\")\n",
    "    embeddings_buy = embeddings_model.embed_documents(descriptions_buy)\n",
    "    print(\"buy embeddings done\")\n",
    "    \n",
    "    # save to pickle\n",
    "    file = open(data_path / 'embeddings_abt_description_train.pickle', 'wb')\n",
    "    pickle.dump(embeddings_abt, file)\n",
    "    file.close()\n",
    "    \n",
    "    file = open(data_path / 'embeddings_buy_description_train.pickle', 'wb')\n",
    "    pickle.dump(embeddings_buy, file)\n",
    "    file.close()"
   ]
  },
  {
   "cell_type": "markdown",
   "id": "c95f9369-22e4-49b5-baa7-8825dfa5c97c",
   "metadata": {},
   "source": [
    "#### Read embeddings from file"
   ]
  },
  {
   "cell_type": "code",
   "execution_count": 18,
   "id": "be74c33a-1b1d-46e2-8697-b4481a2f1ba0",
   "metadata": {
    "tags": []
   },
   "outputs": [],
   "source": [
    "embeddings_abt = pickle.load(open(data_path / 'embeddings_abt_description_train.pickle', 'rb'))\n",
    "embeddings_buy = pickle.load(open(data_path / 'embeddings_buy_description_train.pickle', 'rb'))"
   ]
  },
  {
   "cell_type": "markdown",
   "id": "b8e0f55e-36d9-4205-b1bf-1b338da0cd0c",
   "metadata": {},
   "source": [
    "#### Evaluate"
   ]
  },
  {
   "cell_type": "code",
   "execution_count": 19,
   "id": "40682b54-5b61-4872-b932-dea60f5f2ed4",
   "metadata": {
    "tags": []
   },
   "outputs": [
    {
     "data": {
      "image/png": "[encoded data removed]",
      "text/plain": [
       "<Figure size 640x480 with 1 Axes>"
      ]
     },
     "metadata": {},
     "output_type": "display_data"
    },
    {
     "name": "stdout",
     "output_type": "stream",
     "text": [
      "              precision    recall  f1-score   support\n",
      "\n",
      "    no match       0.85      0.99      0.92      1263\n",
      "       match       0.74      0.10      0.17       240\n",
      "\n",
      "    accuracy                           0.85      1503\n",
      "   macro avg       0.80      0.54      0.54      1503\n",
      "weighted avg       0.83      0.85      0.80      1503\n",
      "\n",
      "f1 score:  0.16974169741697417\n"
     ]
    },
    {
     "data": {
      "image/png": "[encoded data removed]",
      "text/plain": [
       "<Figure size 640x480 with 1 Axes>"
      ]
     },
     "metadata": {},
     "output_type": "display_data"
    }
   ],
   "source": [
    "evaluate(embeddings_abt, embeddings_buy, df_train)"
   ]
  },
  {
   "cell_type": "markdown",
   "id": "f07519b5-15e7-4e19-91ce-a0d4a8060c0d",
   "metadata": {},
   "source": [
    "### Name + Description embeddings"
   ]
  },
  {
   "cell_type": "code",
   "execution_count": 20,
   "id": "a8f1a786-42eb-40d9-8db2-abcf6b2e427c",
   "metadata": {
    "tags": []
   },
   "outputs": [],
   "source": [
    "descriptions_name_abt = [f\"{names_abt[i]}-{description}\" for i, description in enumerate(descriptions_abt)]\n",
    "descriptions_name_buy = [f\"{names_buy[i]}-{description}\" for i, description in enumerate(descriptions_buy)]"
   ]
  },
  {
   "cell_type": "code",
   "execution_count": 21,
   "id": "e290a432-095a-4630-b800-bf3fecd6c750",
   "metadata": {
    "tags": []
   },
   "outputs": [
    {
     "name": "stdout",
     "output_type": "stream",
     "text": [
      "CPU times: user 5 µs, sys: 23 µs, total: 28 µs\n",
      "Wall time: 9.3 µs\n"
     ]
    }
   ],
   "source": [
    "%%time\n",
    "# Wall time: 39.5 s\n",
    "generate_name_description_embeddings = False\n",
    "\n",
    "if generate_name_description_embeddings == True:\n",
    "    embeddings_abt = embeddings_model.embed_documents(descriptions_name_abt)\n",
    "    print(\"abt embeddings done\")\n",
    "    embeddings_buy = embeddings_model.embed_documents(descriptions_name_buy)\n",
    "    print(\"buy embeddings done\")\n",
    "    \n",
    "    # save to pickle\n",
    "    file = open(data_path / 'embeddings_abt_name_description_train.pickle', 'wb')\n",
    "    pickle.dump(embeddings_abt, file)\n",
    "    file.close()\n",
    "    \n",
    "    file = open(data_path / 'embeddings_buy_name_description_train.pickle', 'wb')\n",
    "    pickle.dump(embeddings_buy, file)\n",
    "    file.close()"
   ]
  },
  {
   "cell_type": "markdown",
   "id": "7d7b6114-1de4-4fb7-940b-39558e88cb55",
   "metadata": {},
   "source": [
    "#### Read embeddings from file"
   ]
  },
  {
   "cell_type": "code",
   "execution_count": 22,
   "id": "ce1a3ef3-2bb8-494a-9e19-59e794ac72cb",
   "metadata": {
    "tags": []
   },
   "outputs": [],
   "source": [
    "embeddings_abt = pickle.load(open(data_path / 'embeddings_abt_name_description_train.pickle', 'rb'))\n",
    "embeddings_buy = pickle.load(open(data_path / 'embeddings_buy_name_description_train.pickle', 'rb'))"
   ]
  },
  {
   "cell_type": "markdown",
   "id": "7d16cd22-e54e-4435-bc94-cee7b7dfdb3c",
   "metadata": {},
   "source": [
    "#### Evaluate"
   ]
  },
  {
   "cell_type": "code",
   "execution_count": 23,
   "id": "b0f16479-278b-4350-9951-8343c285af61",
   "metadata": {
    "tags": []
   },
   "outputs": [
    {
     "data": {
      "image/png": "[encoded data removed]",
      "text/plain": [
       "<Figure size 640x480 with 1 Axes>"
      ]
     },
     "metadata": {},
     "output_type": "display_data"
    },
    {
     "name": "stdout",
     "output_type": "stream",
     "text": [
      "              precision    recall  f1-score   support\n",
      "\n",
      "    no match       0.87      0.98      0.92      1263\n",
      "       match       0.74      0.23      0.35       240\n",
      "\n",
      "    accuracy                           0.86      1503\n",
      "   macro avg       0.80      0.60      0.63      1503\n",
      "weighted avg       0.85      0.86      0.83      1503\n",
      "\n",
      "f1 score:  0.3450479233226837\n"
     ]
    },
    {
     "data": {
      "image/png": "[encoded data removed]",
      "text/plain": [
       "<Figure size 640x480 with 1 Axes>"
      ]
     },
     "metadata": {},
     "output_type": "display_data"
    }
   ],
   "source": [
    "evaluate(embeddings_abt, embeddings_buy, df_train)"
   ]
  },
  {
   "cell_type": "markdown",
   "id": "877b658d-6402-483d-8c57-3d17af18fd5b",
   "metadata": {},
   "source": [
    "### Results"
   ]
  },
  {
   "cell_type": "markdown",
   "id": "4bbed9da-8e26-4330-a9f6-0b12b9b01af9",
   "metadata": {},
   "source": [
    "#### Populations: matches/no-matches"
   ]
  },
  {
   "cell_type": "markdown",
   "id": "8cb9ce37-2335-4f2c-8848-56bf261012ff",
   "metadata": {},
   "source": [
    "* f1-score for OpenAI embeddings on `name`: 0.5193370165745856\n",
    "* f1-score for OpenAI embeddings on `description`: 0.16974169741697417 (!)\n",
    "* f1-score for OpenAI embeddings on `name` and `description`: 0.3450479233226837"
   ]
  }
 ],
 "metadata": {
  "kernelspec": {
   "display_name": "Python 3 (ipykernel)",
   "language": "python",
   "name": "python3"
  },
  "language_info": {
   "codemirror_mode": {
    "name": "ipython",
    "version": 3
   },
   "file_extension": ".py",
   "mimetype": "text/x-python",
   "name": "python",
   "nbconvert_exporter": "python",
   "pygments_lexer": "ipython3",
   "version": "3.9.12"
  }
 },
 "nbformat": 4,
 "nbformat_minor": 5
}
