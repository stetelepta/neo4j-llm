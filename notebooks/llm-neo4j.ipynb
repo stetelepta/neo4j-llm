{
 "cells": [
  {
   "cell_type": "markdown",
   "id": "8e7e7b80-d626-4094-86e9-c62bca2c997c",
   "metadata": {},
   "source": [
    "## LLM Agents\n",
    "\n",
    "* Local implementation following this tutorial: https://graphacademy.neo4j.com/courses/llm-fundamentals/3-intro-to-langchain/4-agents/"
   ]
  },
  {
   "cell_type": "markdown",
   "id": "c8b93c37-f0a9-46c8-82e9-dd7ff1f6f2f0",
   "metadata": {},
   "source": [
    "### Requirements"
   ]
  },
  {
   "cell_type": "code",
   "execution_count": 11,
   "id": "722da72e-0aaf-4023-bdc4-22853d1c9cb8",
   "metadata": {
    "tags": []
   },
   "outputs": [],
   "source": [
    "!pip install langchain openai langchain-openai neo4j python-dotenv langchainhub langchain-community --quiet"
   ]
  },
  {
   "cell_type": "code",
   "execution_count": 1,
   "id": "d91031e7-9e19-4834-8e2e-6a6c688a3b61",
   "metadata": {
    "tags": []
   },
   "outputs": [
    {
     "name": "stdout",
     "output_type": "stream",
     "text": [
      "langchain          : 0.1.5\n",
      "langchainhub       : 0.1.14\n",
      "langchain_community: 0.0.17\n",
      "\n"
     ]
    }
   ],
   "source": [
    "%load_ext watermark\n",
    "%watermark -p langchain,langchainhub,langchain_community"
   ]
  },
  {
   "cell_type": "markdown",
   "id": "9f718c68-90df-407e-87e3-8235c2f06180",
   "metadata": {},
   "source": [
    "### Imports"
   ]
  },
  {
   "cell_type": "code",
   "execution_count": 2,
   "id": "b3a5300d-35fe-4929-b7a8-ded5d5d64a1c",
   "metadata": {
    "tags": []
   },
   "outputs": [],
   "source": [
    "import os\n",
    "from graphdatascience import GraphDataScience\n",
    "from dotenv import load_dotenv, find_dotenv\n",
    "from pathlib import Path\n",
    "import neo4j"
   ]
  },
  {
   "cell_type": "markdown",
   "id": "9836fbd4-fa26-49c7-b758-d01d2fc2e97c",
   "metadata": {},
   "source": [
    "### Settings"
   ]
  },
  {
   "cell_type": "code",
   "execution_count": 3,
   "id": "41d7b49c-ce17-42d0-85cc-fe21f86a8318",
   "metadata": {
    "tags": []
   },
   "outputs": [],
   "source": [
    "project_path = Path(os.getcwd()).parent\n",
    "data_path = project_path / \"data\"\n",
    "model_path = project_path / \"models\"\n",
    "output_path = project_path / \"output\"\n",
    "\n",
    "# load env settings\n",
    "_ = load_dotenv(find_dotenv())\n",
    "\n",
    "llm_model = \"gpt-4\"\n",
    "database = \"recommendations-50\"\n",
    "\n",
    "openai_api_key = os.getenv('OPENAI_API_KEY')"
   ]
  },
  {
   "cell_type": "markdown",
   "id": "00605bc6-e230-4eb5-b867-7ce1dd97722d",
   "metadata": {},
   "source": [
    "### Connect to Neo4j"
   ]
  },
  {
   "cell_type": "code",
   "execution_count": 15,
   "id": "343fcc6d-9942-42b8-97fd-a18489bf05c8",
   "metadata": {
    "tags": []
   },
   "outputs": [
    {
     "name": "stdout",
     "output_type": "stream",
     "text": [
      "[{'m.title': 'Toy Story', 'm.plot': \"A cowboy doll is profoundly threatened and jealous when a new spaceman figure supplants him as top toy in a boy's room.\", 'm.poster': 'https://image.tmdb.org/t/p/w440_and_h660_face/uXDfjJbdP4ijW5hWSBrPrlKpxab.jpg'}]\n"
     ]
    }
   ],
   "source": [
    "graph = Neo4jGraph(\n",
    "    url=os.getenv('NEO4J_URL'),\n",
    "    username=os.getenv('NEO4J_USER'),\n",
    "    password=os.getenv('NEO4J_PASS'),\n",
    "    database=database\n",
    ")\n",
    "result = graph.query(\"\"\"\n",
    "MATCH (m:Movie{title: 'Toy Story'}) \n",
    "RETURN m.title, m.plot, m.poster\n",
    "\"\"\")\n",
    "print(result)"
   ]
  },
  {
   "cell_type": "code",
   "execution_count": 16,
   "id": "8edbb589-7fe3-4feb-8b53-1171a9a718cd",
   "metadata": {
    "tags": []
   },
   "outputs": [
    {
     "name": "stdout",
     "output_type": "stream",
     "text": [
      "Node properties are the following:\n",
      "Movie {url: STRING, runtime: INTEGER, revenue: INTEGER, embedding: LIST, imdbRating: FLOAT, released: STRING, countries: LIST, languages: LIST, plot: STRING, imdbVotes: INTEGER, imdbId: STRING, year: INTEGER, poster: STRING, movieId: STRING, tmdbId: STRING, title: STRING, budget: INTEGER},Genre {name: STRING},User {userId: STRING, name: STRING},Actor {url: STRING, bornIn: STRING, bio: STRING, died: DATE, born: DATE, imdbId: STRING, name: STRING, poster: STRING, tmdbId: STRING},Director {url: STRING, bornIn: STRING, born: DATE, died: DATE, tmdbId: STRING, imdbId: STRING, name: STRING, poster: STRING, bio: STRING},Person {url: STRING, died: DATE, bornIn: STRING, born: DATE, imdbId: STRING, name: STRING, poster: STRING, tmdbId: STRING, bio: STRING}\n",
      "Relationship properties are the following:\n",
      "RATED {rating: FLOAT, timestamp: INTEGER},ACTED_IN {role: STRING},DIRECTED {role: STRING}\n",
      "The relationships are the following:\n",
      "(:Movie)-[:IN_GENRE]->(:Genre),(:User)-[:RATED]->(:Movie),(:Actor)-[:ACTED_IN]->(:Movie),(:Actor)-[:DIRECTED]->(:Movie),(:Director)-[:DIRECTED]->(:Movie),(:Director)-[:ACTED_IN]->(:Movie),(:Person)-[:ACTED_IN]->(:Movie),(:Person)-[:DIRECTED]->(:Movie)\n"
     ]
    }
   ],
   "source": [
    "print(graph.schema)"
   ]
  },
  {
   "cell_type": "markdown",
   "id": "3ebd26b4-7814-4832-975c-55859bad6295",
   "metadata": {},
   "source": [
    "* NB: after initialization, Neo4jGraph overwrites the passed arguments and replaces them with environment settings, which does not seem to be such a good practice to me.\n",
    "\n",
    "<pre>\n",
    "url = get_from_env(\"url\", \"NEO4J_URI\", url)\n",
    "username = get_from_env(\"username\", \"NEO4J_USERNAME\", username)\n",
    "password = get_from_env(\"password\", \"NEO4J_PASSWORD\", password)\n",
    "database = get_from_env(\"database\", \"NEO4J_DATABASE\", database)\n",
    "</pre>"
   ]
  },
  {
   "cell_type": "markdown",
   "id": "f73f1423-7bfb-41c0-9c3d-a257d07c087d",
   "metadata": {},
   "source": [
    "### Retrievers\n",
    "\n",
    "https://graphacademy.neo4j.com/courses/llm-fundamentals/3-intro-to-langchain/6-retrievers/\n",
    "\n",
    "The Neo4jVector is a Langchain vector store that uses a Neo4j database as the underlying data structure.\n",
    "\n",
    "You can use the Neo4jVector to generate embeddings, store them in the database and retrieve them."
   ]
  },
  {
   "cell_type": "code",
   "execution_count": 35,
   "id": "af69c662-233a-4394-a863-df6b3d0d002e",
   "metadata": {
    "tags": []
   },
   "outputs": [
    {
     "name": "stdout",
     "output_type": "stream",
     "text": [
      "Coneheads - Aliens with conical crania crash land on Earth.\n",
      "Aliens - The planet from Alien (1979) has been colonized, but contact is lost. This time, the rescue team has impressive firepower, but will it be enough?\n",
      "Independence Day (a.k.a. ID4) - The aliens are coming and their goal is to invade and destroy Earth. Fighting superior technology, mankind's best weapon is the will to survive.\n",
      "Arrival, The - Zane, an astronomer, discovers intelligent alien life. But the aliens are keeping a deadly secret, and will do anything to stop Zane from learning it.\n"
     ]
    }
   ],
   "source": [
    "from langchain_openai import OpenAIEmbeddings\n",
    "from langchain.vectorstores.neo4j_vector import Neo4jVector\n",
    "\n",
    "embedding_provider = OpenAIEmbeddings(\n",
    "    openai_api_key=openai_api_key\n",
    ")\n",
    "\n",
    "movie_plot_vector = Neo4jVector.from_existing_index(\n",
    "    embedding_provider,\n",
    "    url=os.getenv('NEO4J_URL'),\n",
    "    username=os.getenv('NEO4J_USER'),\n",
    "    password=os.getenv('NEO4J_PASS'),\n",
    "    index_name=\"moviePlots\",\n",
    "    embedding_node_property=\"embedding\",\n",
    "    text_node_property=\"plot\"\n",
    ")\n",
    "\n",
    "result = movie_plot_vector.similarity_search(\"A movie where aliens land and attack earth.\")\n",
    "for doc in result:\n",
    "    print(doc.metadata[\"title\"], \"-\", doc.page_content)"
   ]
  },
  {
   "cell_type": "markdown",
   "id": "b41183f0-ebfd-4813-afa2-4eacb4f368dc",
   "metadata": {},
   "source": [
    "#### Lets compare the results with a call to queryNodes"
   ]
  },
  {
   "cell_type": "markdown",
   "id": "ef43e475-72db-4475-8d21-627a9c0447d9",
   "metadata": {
    "tags": []
   },
   "source": [
    "#### Use movie_plot_vector.similarity_search"
   ]
  },
  {
   "cell_type": "code",
   "execution_count": 32,
   "id": "452b51d4-2c6e-4618-a9fc-9010062016f5",
   "metadata": {
    "tags": []
   },
   "outputs": [
    {
     "name": "stdout",
     "output_type": "stream",
     "text": [
      "* Toy Story - A cowboy doll is profoundly threatened and jealous when a new spaceman figure supplants him as top toy in a boy's room.\n",
      "* NeverEnding Story III, The - A young boy must restore order when a group of bullies steal the magical book that acts as a portal between Earth and the imaginary world of Fantasia.\n",
      "* E.T. the Extra-Terrestrial - A troubled child summons the courage to help a friendly alien escape Earth and return to his home-world.\n",
      "* Last Action Hero - With the help of a magic ticket, a young film fan is transported into the fictional world of his favorite action film character.\n"
     ]
    }
   ],
   "source": [
    "movie_title = \"Toy Story\"\n",
    "result = movie_plot_vector.similarity_search(movie_title, k=4)\n",
    "for doc in result:\n",
    "    print(\"*\", doc.metadata[\"title\"], \"-\", doc.page_content)"
   ]
  },
  {
   "cell_type": "markdown",
   "id": "814c7397-91cb-4f81-b6ab-62ed2b08cb40",
   "metadata": {},
   "source": [
    "##### Use similarity_search_with_relevance_scores"
   ]
  },
  {
   "cell_type": "code",
   "execution_count": 55,
   "id": "8f445bd3-600c-4b37-93d6-ab698f121520",
   "metadata": {
    "tags": []
   },
   "outputs": [
    {
     "name": "stdout",
     "output_type": "stream",
     "text": [
      "Toy Story 0.9472463130950928\n",
      "A cowboy doll is profoundly threatened and jealous when a new spaceman figure supplants him as top toy in a boy's room.\n",
      "\n",
      "NeverEnding Story III, The 0.9195799827575684\n",
      "A young boy must restore order when a group of bullies steal the magical book that acts as a portal between Earth and the imaginary world of Fantasia.\n",
      "\n",
      "E.T. the Extra-Terrestrial 0.916156530380249\n",
      "A troubled child summons the courage to help a friendly alien escape Earth and return to his home-world.\n",
      "\n",
      "Last Action Hero 0.9161075353622437\n",
      "With the help of a magic ticket, a young film fan is transported into the fictional world of his favorite action film character.\n",
      "\n"
     ]
    }
   ],
   "source": [
    "movie_title = \"Toy Story\"\n",
    "result = movie_plot_vector.similarity_search_with_relevance_scores(movie_title, k=4)\n",
    "for doc, similarity in result:\n",
    "    print(doc.metadata['title'], similarity)\n",
    "    print(doc.page_content)\n",
    "    print()"
   ]
  },
  {
   "cell_type": "markdown",
   "id": "91a072ec-daef-4113-8076-1ad5345ef222",
   "metadata": {},
   "source": [
    "##### Use query: CALL db.index.vector.queryNodes"
   ]
  },
  {
   "cell_type": "code",
   "execution_count": 56,
   "id": "ff0ae1e9-91e7-4dc6-bafe-68f4705b73c6",
   "metadata": {
    "tags": []
   },
   "outputs": [
    {
     "data": {
      "text/plain": [
       "[{'title': 'Toy Story',\n",
       "  'plot': \"A cowboy doll is profoundly threatened and jealous when a new spaceman figure supplants him as top toy in a boy's room.\",\n",
       "  'score': 1.0},\n",
       " {'title': 'Little Rascals, The',\n",
       "  'plot': 'Alfalfa is wooing Darla and his He-Man-Woman-Hating friends attempt to sabotage the relationship.',\n",
       "  'score': 0.9214372634887695},\n",
       " {'title': 'NeverEnding Story III, The',\n",
       "  'plot': 'A young boy must restore order when a group of bullies steal the magical book that acts as a portal between Earth and the imaginary world of Fantasia.',\n",
       "  'score': 0.9206198453903198},\n",
       " {'title': 'Drop Dead Fred',\n",
       "  'plot': 'A young woman finds her already unstable life rocked by the presence of a rambunctious imaginary friend from childhood.',\n",
       "  'score': 0.9199690818786621}]"
      ]
     },
     "execution_count": 56,
     "metadata": {},
     "output_type": "execute_result"
    }
   ],
   "source": [
    "movie_title = \"Toy Story\"\n",
    "nr_nearest_neighbours = 4\n",
    "\n",
    "query = f\"\"\"\n",
    "MATCH (m:Movie {{title: \"{movie_title}\"}})\n",
    "\n",
    "CALL db.index.vector.queryNodes('moviePlots', {nr_nearest_neighbours}, m.embedding)\n",
    "YIELD node, score\n",
    "\n",
    "RETURN node.title AS title, node.plot AS plot, score\n",
    "\"\"\"\n",
    "\n",
    "graph.query(query)"
   ]
  },
  {
   "cell_type": "markdown",
   "id": "96ad5ec8-236e-495d-9db0-2d40d233e2ca",
   "metadata": {},
   "source": [
    "### Create embeddings\n",
    "\n",
    "The Neo4jVector class can also generate embeddings and vector indexes - this is useful when creating vectors programmatically or at run time.\n",
    "\n",
    "The following code would create embeddings and a new index called myVectorIndex in the database for Chunk nodes with a text property:"
   ]
  },
  {
   "cell_type": "code",
   "execution_count": 101,
   "id": "5a7145bf-8a98-47bf-b657-bfe60422e1a9",
   "metadata": {
    "tags": []
   },
   "outputs": [],
   "source": [
    "from langchain_openai import OpenAIEmbeddings\n",
    "from langchain.vectorstores.neo4j_vector import Neo4jVector\n",
    "from langchain.schema import Document\n",
    "\n",
    "# A list of Documents\n",
    "documents = [\n",
    "    Document(\n",
    "        page_content=\"Text to be indexed\",\n",
    "        metadata={\"source\": \"local\"}\n",
    "    ),\n",
    "    Document(\n",
    "        page_content=\"Toy Story\",\n",
    "        metadata={\"source\": \"local\"}\n",
    "    )\n",
    "]\n",
    "\n",
    "# Service used to create the embeddings\n",
    "embedding_provider = OpenAIEmbeddings(openai_api_key=openai_api_key)\n",
    "\n",
    "new_vector = Neo4jVector.from_documents(\n",
    "    documents,\n",
    "    embedding_provider,\n",
    "    url=os.getenv('NEO4J_URL'),\n",
    "    username=os.getenv('NEO4J_USER'),\n",
    "    password=os.getenv('NEO4J_PASS'),\n",
    "    index_name=\"myVectorIndex\",\n",
    "    node_label=\"Chunk\",\n",
    "    text_node_property=\"text\",\n",
    "    embedding_node_property=\"embedding\",\n",
    "    create_id_index=True,\n",
    ")"
   ]
  },
  {
   "cell_type": "markdown",
   "id": "d41b526d-a28d-4d36-a3a4-cfd366fb3265",
   "metadata": {},
   "source": [
    "* `Neo4jVector.from_documents` created a node Chunk"
   ]
  },
  {
   "cell_type": "code",
   "execution_count": 105,
   "id": "aefd9b4c-78c9-4242-af45-145ff66183f1",
   "metadata": {
    "tags": []
   },
   "outputs": [
    {
     "name": "stdout",
     "output_type": "stream",
     "text": [
      "Node properties are the following:\n",
      "Movie {url: STRING, runtime: INTEGER, revenue: INTEGER, embedding: LIST, imdbRating: FLOAT, released: STRING, countries: LIST, languages: LIST, plot: STRING, imdbVotes: INTEGER, imdbId: STRING, year: INTEGER, poster: STRING, movieId: STRING, tmdbId: STRING, title: STRING, budget: INTEGER},Genre {name: STRING},User {userId: STRING, name: STRING},Actor {url: STRING, bornIn: STRING, bio: STRING, died: DATE, born: DATE, imdbId: STRING, name: STRING, poster: STRING, tmdbId: STRING},Director {url: STRING, bornIn: STRING, born: DATE, died: DATE, tmdbId: STRING, imdbId: STRING, name: STRING, poster: STRING, bio: STRING},Person {url: STRING, bornIn: STRING, bio: STRING, died: DATE, born: DATE, imdbId: STRING, name: STRING, poster: STRING, tmdbId: STRING},Chunk {embedding: LIST, text: STRING, source: STRING, id: STRING}\n",
      "Relationship properties are the following:\n",
      "RATED {rating: FLOAT, timestamp: INTEGER},ACTED_IN {role: STRING},DIRECTED {role: STRING}\n",
      "The relationships are the following:\n",
      "(:Movie)-[:IN_GENRE]->(:Genre),(:User)-[:RATED]->(:Movie),(:Actor)-[:ACTED_IN]->(:Movie),(:Actor)-[:DIRECTED]->(:Movie),(:Director)-[:DIRECTED]->(:Movie),(:Director)-[:ACTED_IN]->(:Movie),(:Person)-[:ACTED_IN]->(:Movie),(:Person)-[:DIRECTED]->(:Movie)\n"
     ]
    }
   ],
   "source": [
    "graph.refresh_schema()\n",
    "print(graph.schema)"
   ]
  },
  {
   "cell_type": "code",
   "execution_count": 106,
   "id": "61b9ef0b-4a19-4c47-ae4c-de6208351875",
   "metadata": {
    "tags": []
   },
   "outputs": [
    {
     "name": "stdout",
     "output_type": "stream",
     "text": [
      "{'n.id': '63a6fc72-c1d9-11ee-8ffa-266f09938552', 'n.text': 'Text to be indexed', 'n.source': 'local'}\n",
      "{'n.id': '43b125d6-c1da-11ee-8ffa-266f09938552', 'n.text': 'Text to be indexed', 'n.source': 'local'}\n",
      "{'n.id': '43b1291e-c1da-11ee-8ffa-266f09938552', 'n.text': 'Toy Story', 'n.source': 'local'}\n",
      "{'n.id': 'a568abe6-c1da-11ee-8ffa-266f09938552', 'n.text': 'Text to be indexed', 'n.source': 'local'}\n",
      "{'n.id': 'a568af7e-c1da-11ee-8ffa-266f09938552', 'n.text': 'Toy Story', 'n.source': 'local'}\n",
      "{'n.id': 'ae107116-c1da-11ee-8ffa-266f09938552', 'n.text': 'Text to be indexed', 'n.source': 'local'}\n",
      "{'n.id': 'ae1073e6-c1da-11ee-8ffa-266f09938552', 'n.text': 'Toy Story', 'n.source': 'local'}\n"
     ]
    }
   ],
   "source": [
    "results = graph.query(\"MATCH (n:Chunk) RETURN n.id, n.text, n.source LIMIT 25\")\n",
    "for r in results:\n",
    "    print(r)"
   ]
  },
  {
   "cell_type": "markdown",
   "id": "59f3a4a5-41e3-46d7-9258-5318d5efe537",
   "metadata": {
    "tags": []
   },
   "source": [
    "* Each call to `from_documents` will create new chunks. \n",
    "* id seems to be linked to the call, so multiple documents share the same id"
   ]
  },
  {
   "cell_type": "markdown",
   "id": "06b50ffb-f912-4232-958b-7faebac087ea",
   "metadata": {},
   "source": [
    "### Retriever chain\n",
    "\n",
    "To incorporate a retriever and Neo4j vector into a Langchain application, you can create a retrieval chain.\n",
    "\n",
    "The Neo4jVector class has a as_retriever() method that returns a retriever.\n",
    "\n",
    "The RetrievalQA class is a chain that uses a retriever as part of its pipeline. It will use the retriever to retrieve documents and pass them to a language model.\n",
    "\n",
    "By incorporating Neo4jVector into a RetrievalQA chain, you can use data and vectors in Neo4j in a Langchain application.\n",
    "\n",
    "Review this program incorporating the moviePlots vector index into a retrieval chain."
   ]
  },
  {
   "cell_type": "code",
   "execution_count": 115,
   "id": "2fdf9d82-2b3d-4297-b45d-7cd374870361",
   "metadata": {
    "tags": []
   },
   "outputs": [
    {
     "name": "stdout",
     "output_type": "stream",
     "text": [
      "\n",
      "\n",
      "\u001b[1m> Entering new RetrievalQA chain...\u001b[0m\n",
      "\n",
      "\u001b[1m> Finished chain.\u001b[0m\n",
      "{'query': 'A movie where a mission to the moon goes wrong', 'result': 'The movie you are referring to is \"2001: A Space Odyssey\" (1968). In this film, a mission to the moon encounters a mysterious and dangerous object buried beneath the lunar surface, leading to unexpected consequences for the crew and their intelligent computer, H.A.L. 9000.', 'source_documents': [Document(page_content='Humanity finds a mysterious, obviously artificial object buried beneath the Lunar surface and, with the intelligent computer H.A.L. 9000, sets off on a quest.', metadata={'budget': 12000000, 'movieId': '924', 'tmdbId': '62', 'imdbVotes': 407650, 'runtime': 149, 'countries': ['USA', ' UK'], 'imdbId': '0062622', 'url': 'https://themoviedb.org/movie/62', 'released': '1968-05-15', 'languages': ['English', ' Russian'], 'imdbRating': 8.3, 'title': '2001: A Space Odyssey', 'poster': 'https://image.tmdb.org/t/p/w440_and_h660_face/zmmYdPa8Lxx999Af9vnVP4XQ1V6.jpg', 'year': 1968, 'revenue': 68700000}), Document(page_content='NASA must devise a strategy to return Apollo 13 to Earth safely after the spacecraft undergoes massive internal damage putting the lives of the three astronauts on board in jeopardy.', metadata={'budget': 52000000, 'movieId': '150', 'tmdbId': '568', 'imdbVotes': 203181, 'runtime': 140, 'countries': ['USA'], 'imdbId': '0112384', 'url': 'https://themoviedb.org/movie/568', 'released': '1995-06-30', 'languages': ['English'], 'imdbRating': 7.6, 'title': 'Apollo 13', 'poster': 'https://image.tmdb.org/t/p/w440_and_h660_face/oYUZHYMwNKnE1ef4WE5Hw2a9OAY.jpg', 'year': 1995, 'revenue': 355237933}), Document(page_content='The planet from Alien (1979) has been colonized, but contact is lost. This time, the rescue team has impressive firepower, but will it be enough?', metadata={'budget': 18500000, 'movieId': '1200', 'tmdbId': '679', 'imdbVotes': 469658, 'runtime': 137, 'countries': ['UK', ' USA'], 'imdbId': '0090605', 'url': 'https://themoviedb.org/movie/679', 'released': '1986-07-18', 'languages': ['English'], 'imdbRating': 8.4, 'title': 'Aliens', 'poster': 'https://image.tmdb.org/t/p/w440_and_h660_face/xwdPTZyyBa4U3V2N0EmozTCeEAY.jpg', 'year': 1986, 'revenue': 183316455}), Document(page_content='Aliens with conical crania crash land on Earth.', metadata={'movieId': '435', 'tmdbId': '9612', 'imdbVotes': 41167, 'runtime': 88, 'countries': ['USA'], 'imdbId': '0106598', 'url': 'https://themoviedb.org/movie/9612', 'released': '1993-07-23', 'languages': ['English'], 'imdbRating': 5.2, 'title': 'Coneheads', 'poster': 'https://image.tmdb.org/t/p/w440_and_h660_face/kmD0llGIO4LXSkIqCIlswWQ2Hy3.jpg', 'year': 1993})]}\n"
     ]
    }
   ],
   "source": [
    "from langchain.chains import RetrievalQA\n",
    "from langchain_openai import ChatOpenAI, OpenAIEmbeddings\n",
    "from langchain_community.vectorstores.neo4j_vector import Neo4jVector\n",
    "\n",
    "\n",
    "chat_llm = ChatOpenAI(openai_api_key=openai_api_key, verbose=True)\n",
    "\n",
    "embedding_provider = OpenAIEmbeddings(openai_api_key=openai_api_key)\n",
    "\n",
    "movie_plot_vector = Neo4jVector.from_existing_index(\n",
    "    embedding_provider,\n",
    "    url=os.getenv('NEO4J_URL'),\n",
    "    username=os.getenv('NEO4J_USER'),\n",
    "    password=os.getenv('NEO4J_PASS'),\n",
    "    index_name=\"moviePlots\",\n",
    "    embedding_node_property=\"embedding\",\n",
    "    text_node_property=\"plot\",\n",
    ")\n",
    "\n",
    "plot_retriever = RetrievalQA.from_llm(\n",
    "    llm=chat_llm,\n",
    "    retriever=movie_plot_vector.as_retriever(),\n",
    "    verbose=True,\n",
    "    return_source_documents=True\n",
    ")\n",
    "\n",
    "result = plot_retriever.invoke(\n",
    "    {\"query\": \"A movie where a mission to the moon goes wrong\"}\n",
    ")\n",
    "\n",
    "print(result)"
   ]
  },
  {
   "cell_type": "code",
   "execution_count": 117,
   "id": "d744b4fe-92d8-4317-a970-6884064bdd06",
   "metadata": {
    "tags": []
   },
   "outputs": [
    {
     "data": {
      "text/plain": [
       "'The movie you are referring to is \"2001: A Space Odyssey\" (1968). In this film, a mission to the moon encounters a mysterious and dangerous object buried beneath the lunar surface, leading to unexpected consequences for the crew and their intelligent computer, H.A.L. 9000.'"
      ]
     },
     "execution_count": 117,
     "metadata": {},
     "output_type": "execute_result"
    }
   ],
   "source": [
    "result['result']"
   ]
  },
  {
   "cell_type": "code",
   "execution_count": 120,
   "id": "dbf2f396-3131-4a5d-9a9f-fa236bfd5f4d",
   "metadata": {
    "tags": []
   },
   "outputs": [
    {
     "name": "stdout",
     "output_type": "stream",
     "text": [
      "- 2001: A Space Odyssey\n",
      "- Apollo 13\n",
      "- Aliens\n",
      "- Coneheads\n"
     ]
    }
   ],
   "source": [
    "for document in result['source_documents']:\n",
    "    print(f\"- {document.metadata['title']}\")"
   ]
  },
  {
   "cell_type": "markdown",
   "id": "6a4c3b70-080a-4a2f-b5e4-43be69f52f0c",
   "metadata": {},
   "source": [
    "* Euh.. I would have said Apollo 13, not 2001: A Space Odyssey :)"
   ]
  },
  {
   "cell_type": "code",
   "execution_count": 121,
   "id": "6c9b7443-bfb3-4dc2-a874-9e6f44dd2f8c",
   "metadata": {
    "tags": []
   },
   "outputs": [
    {
     "data": {
      "text/plain": [
       "[{'m.title': 'Apollo 13'},\n",
       " {'m.title': 'Space Jam'},\n",
       " {'m.title': '2001: A Space Odyssey'},\n",
       " {'m.title': 'Lost in Space'},\n",
       " {'m.title': 'Plan 9 from Outer Space'},\n",
       " {'m.title': 'Cat from Outer Space, The'},\n",
       " {'m.title': 'Office Space'},\n",
       " {'m.title': 'It Came from Outer Space'},\n",
       " {'m.title': 'Muppets From Space'},\n",
       " {'m.title': 'Spaceballs'},\n",
       " {'m.title': 'Quatermass 2 (Enemy from Space)'},\n",
       " {'m.title': 'Space Cowboys'},\n",
       " {'m.title': 'Dogs in Space'},\n",
       " {'m.title': 'SpaceCamp'},\n",
       " {'m.title': 'Morons From Outer Space'},\n",
       " {'m.title': 'Spacehunter: Adventures in the Forbidden Zone'},\n",
       " {'m.title': 'Space Chimps'},\n",
       " {'m.title': 'Apollo 13: To the Edge and Back'},\n",
       " {'m.title': 'Monsters vs Aliens: Mutant Pumpkins from Outer Space'}]"
      ]
     },
     "execution_count": 121,
     "metadata": {},
     "output_type": "execute_result"
    }
   ],
   "source": [
    "query = \"MATCH (m:Movie) WHERE m.title CONTAINS 'Space' OR m.title CONTAINS 'Apollo' RETURN m.title\"\n",
    "graph.query(query)"
   ]
  },
  {
   "cell_type": "code",
   "execution_count": 122,
   "id": "41099d19-306b-456b-93bd-690d31556347",
   "metadata": {
    "tags": []
   },
   "outputs": [
    {
     "name": "stdout",
     "output_type": "stream",
     "text": [
      "{'query': \"A movie where a mission to the moon goes wrong and it's not 2001.. \", 'result': 'Apollo 13 (1995) is a movie where a mission to the moon goes wrong. It is based on the true story of the Apollo 13 mission, where an oxygen tank exploded onboard the spacecraft, jeopardizing the lives of the astronauts and forcing NASA to come up with a strategy to bring them back safely to Earth.'}\n"
     ]
    }
   ],
   "source": [
    "from langchain.chains import RetrievalQA\n",
    "from langchain_openai import ChatOpenAI, OpenAIEmbeddings\n",
    "from langchain_community.vectorstores.neo4j_vector import Neo4jVector\n",
    "\n",
    "\n",
    "chat_llm = ChatOpenAI(openai_api_key=openai_api_key)\n",
    "\n",
    "embedding_provider = OpenAIEmbeddings(openai_api_key=openai_api_key)\n",
    "\n",
    "movie_plot_vector = Neo4jVector.from_existing_index(\n",
    "    embedding_provider,\n",
    "    url=os.getenv('NEO4J_URL'),\n",
    "    username=os.getenv('NEO4J_USER'),\n",
    "    password=os.getenv('NEO4J_PASS'),\n",
    "    index_name=\"moviePlots\",\n",
    "    embedding_node_property=\"embedding\",\n",
    "    text_node_property=\"plot\",\n",
    ")\n",
    "\n",
    "plot_retriever = RetrievalQA.from_llm(\n",
    "    llm=chat_llm,\n",
    "    retriever=movie_plot_vector.as_retriever()\n",
    ")\n",
    "\n",
    "result = plot_retriever.invoke(\n",
    "    {\"query\": \"A movie where a mission to the moon goes wrong and it's not 2001.. \"}\n",
    ")\n",
    "\n",
    "print(result)"
   ]
  },
  {
   "cell_type": "markdown",
   "id": "6462acaa-2221-4e4f-ac6f-846f675c711b",
   "metadata": {},
   "source": [
    "* Ah, with a little persuasion it gets to Apollo 13 :)"
   ]
  }
 ],
 "metadata": {
  "kernelspec": {
   "display_name": "Python 3 (ipykernel)",
   "language": "python",
   "name": "python3"
  },
  "language_info": {
   "codemirror_mode": {
    "name": "ipython",
    "version": 3
   },
   "file_extension": ".py",
   "mimetype": "text/x-python",
   "name": "python",
   "nbconvert_exporter": "python",
   "pygments_lexer": "ipython3",
   "version": "3.9.12"
  }
 },
 "nbformat": 4,
 "nbformat_minor": 5
}
