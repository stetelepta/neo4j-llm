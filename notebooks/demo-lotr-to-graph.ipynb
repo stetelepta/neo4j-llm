{
 "cells": [
  {
   "cell_type": "markdown",
   "id": "8e7e7b80-d626-4094-86e9-c62bca2c997c",
   "metadata": {},
   "source": [
    "# Demo - Lord of the Rings to Graph\n",
    "\n",
    "* Read page from PDF document\n",
    "* Prompt LLM to Extract interesting characters, locations and events and relationships\n",
    "* Get output as JSON\n",
    "* Use GraphCypherQAChain to translate the JSON to Cypher and store the found nodes and relations to Neo4\n",
    "\n",
    "### Sources:\n",
    "* https://learn.deeplearning.ai/langchain\n",
    "* https://python.langchain.com/docs/get_started/quickstart"
   ]
  },
  {
   "cell_type": "markdown",
   "id": "c8b93c37-f0a9-46c8-82e9-dd7ff1f6f2f0",
   "metadata": {},
   "source": [
    "### Requirements"
   ]
  },
  {
   "cell_type": "code",
   "execution_count": 2,
   "id": "722da72e-0aaf-4023-bdc4-22853d1c9cb8",
   "metadata": {
    "tags": []
   },
   "outputs": [],
   "source": [
    "!pip install pypdf langchain openai langchain-openai neo4j python-dotenv langchainhub langchain-community --quiet"
   ]
  },
  {
   "cell_type": "code",
   "execution_count": 1,
   "id": "d91031e7-9e19-4834-8e2e-6a6c688a3b61",
   "metadata": {
    "tags": []
   },
   "outputs": [
    {
     "name": "stdout",
     "output_type": "stream",
     "text": [
      "langchain          : 0.1.5\n",
      "langchainhub       : 0.1.14\n",
      "langchain_community: 0.0.17\n",
      "pypdf              : 4.0.1\n",
      "\n"
     ]
    }
   ],
   "source": [
    "%load_ext watermark\n",
    "%watermark -p langchain,langchainhub,langchain_community,pypdf"
   ]
  },
  {
   "cell_type": "markdown",
   "id": "9f718c68-90df-407e-87e3-8235c2f06180",
   "metadata": {},
   "source": [
    "### Imports"
   ]
  },
  {
   "cell_type": "code",
   "execution_count": 36,
   "id": "b3a5300d-35fe-4929-b7a8-ded5d5d64a1c",
   "metadata": {
    "tags": []
   },
   "outputs": [],
   "source": [
    "import os\n",
    "from graphdatascience import GraphDataScience\n",
    "from dotenv import load_dotenv, find_dotenv, dotenv_values\n",
    "from pathlib import Path\n",
    "import neo4j\n",
    "\n",
    "from langchain_openai import ChatOpenAI\n",
    "\n",
    "from langchain.agents import AgentExecutor, create_react_agent\n",
    "from langchain.chains import LLMChain\n",
    "from langchain.chains.conversation.memory import ConversationBufferMemory\n",
    "from langchain.chains.combine_documents import create_stuff_documents_chain\n",
    "from langchain.output_parsers.json import SimpleJsonOutputParser\n",
    "from langchain.prompts import PromptTemplate\n",
    "from langchain.tools import Tool\n",
    "\n",
    "from langchain_community.graphs import Neo4jGraph\n",
    "from langchain.chains import GraphCypherQAChain\n",
    "\n",
    "from langchain import hub\n",
    "from langchain_community.document_loaders import PyPDFLoader"
   ]
  },
  {
   "cell_type": "markdown",
   "id": "9836fbd4-fa26-49c7-b758-d01d2fc2e97c",
   "metadata": {},
   "source": [
    "### Settings"
   ]
  },
  {
   "cell_type": "code",
   "execution_count": 6,
   "id": "41d7b49c-ce17-42d0-85cc-fe21f86a8318",
   "metadata": {
    "tags": []
   },
   "outputs": [],
   "source": [
    "project_path = Path(os.getcwd()).parent\n",
    "data_path = project_path / \"data\"\n",
    "model_path = project_path / \"models\"\n",
    "output_path = project_path / \"output\"\n",
    "\n",
    "llm_model = \"gpt-4\"\n",
    "\n",
    "# load env settings\n",
    "load_dotenv(\"../.env.lotr\")\n",
    "\n",
    "neo4j_url = os.getenv('NEO4J_URL')\n",
    "neo4j_database = os.getenv('NEO4J_DATABASE')\n",
    "neo4j_user = os.getenv('NEO4J_USER')\n",
    "neo4j_pass = os.getenv('NEO4J_PASS')\n",
    "openai_api_key = os.getenv('OPENAI_API_KEY')"
   ]
  },
  {
   "cell_type": "markdown",
   "id": "8dfbe0a7-229a-47b5-8f9c-88bb567b0889",
   "metadata": {},
   "source": [
    "### 1. Read pdf\n",
    "\n",
    "* Picked PyMyPDF because of this article: https://medium.com/social-impact-analytics/comparing-4-methods-for-pdf-text-extraction-in-python-fd34531034f"
   ]
  },
  {
   "cell_type": "code",
   "execution_count": 7,
   "id": "9812ba1d-1ca9-484f-be1e-4c15ca0dd30e",
   "metadata": {
    "tags": []
   },
   "outputs": [],
   "source": [
    "filename = \"JRR Tolkien - Lord of the Rings Collection.pdf\""
   ]
  },
  {
   "cell_type": "code",
   "execution_count": 8,
   "id": "852b7bef-368f-48bc-b465-dcf8df3b01ad",
   "metadata": {
    "tags": []
   },
   "outputs": [
    {
     "name": "stdout",
     "output_type": "stream",
     "text": [
      "CPU times: user 4.15 s, sys: 48.8 ms, total: 4.2 s\n",
      "Wall time: 4.21 s\n"
     ]
    }
   ],
   "source": [
    "%%time\n",
    "# Wall time: 4.18 s\n",
    "\n",
    "loader = PyPDFLoader(str(data_path / filename))\n",
    "pages = loader.load_and_split()"
   ]
  },
  {
   "cell_type": "code",
   "execution_count": 10,
   "id": "d2cbf54a-717c-4a5d-bb2e-4a6cedeb1040",
   "metadata": {
    "tags": []
   },
   "outputs": [
    {
     "name": "stdout",
     "output_type": "stream",
     "text": [
      "Chapter I  \n",
      "An Unexpected Party  \n",
      " \n",
      " \n",
      "In a hole in the ground there lived a hobbit. Not a nasty, dirty, wet hole, filled with \n",
      "the ends of worms and an oozy smell, nor yet a dry, bare, sandy hole with nothing \n",
      "in it to sit down on or to eat: it was a hobbit -hole, and that means comfort.  \n",
      "It had a p erfectly round door like a porthole, painted green, with a shiny \n",
      "yellow brass knob in the exact middle. The door opened on to a tube -shaped hall \n",
      "like a tunnel: a very comfortable tunnel without smoke, with panelled walls, and \n",
      "floors tiled and carpeted, pro vided with polished chairs, and lots and lots of pegs \n",
      "for hats and coats  - the hobbit was fond of visitors. The tunnel wound on and on, \n",
      "going fairly but not quite straight into the side of the hill - The Hill, as all the \n",
      "people for many miles round called it - and many little round doors opened out of \n",
      "it, first on one side and then on another. No going upstairs for the hobbit: \n",
      "bedrooms, bathrooms, cellars, pantries (lots of these), wardrobes (he had whole \n",
      "rooms devoted to clothes), kitchens, dining -rooms, a ll were on the same floor, and \n",
      "indeed on the same passage. The best rooms were all on the left -hand side (going \n",
      "in), for these were the only ones to have windows, deep -set round windows \n",
      "looking over his garden and meadows beyond, sloping down to the river.  \n",
      "This hobbit was a very well -to-do hobbit, and his name was Baggins. The \n",
      "Bagginses had lived in the neighbourhood of The Hill for time out of mind, and \n",
      "people considered them very respectable, not only because most of them were rich, \n",
      "but also because they never had any adventures or did anything unexpected: you \n",
      "could tell what a Baggins would say on any question without the bother of asking \n",
      "him. This is a story of how a Baggins had an adventure, found himself doing and \n",
      "saying things altogether unexpected. H e may have lost the neighbours' respect, but \n",
      "he gained -well, you will see whether he gained anything in the end.  \n",
      "The mother of our particular hobbit … what is a hobbit? I suppose hobbits \n",
      "need some description nowadays, since they have become rare and shy o f the Big \n",
      "People, as they call us. They are (or were) a little people, about half our height, \n",
      "and smaller than the bearded Dwarves. Hobbits have no beards. There is little or \n",
      "no magic about them, except the ordinary everyday sort which helps them to \n",
      "disapp ear quietly and quickly when large stupid folk like you and me come \n",
      "blundering along, making a noise like elephants which they can hear a mile off. \n",
      "They are inclined to be  at in the stomach; they dress in bright colours (chiefly\n"
     ]
    }
   ],
   "source": [
    "print(pages[1].page_content)"
   ]
  },
  {
   "cell_type": "markdown",
   "id": "2518676a-f0fb-40fe-b334-dd68cdea7b14",
   "metadata": {},
   "source": [
    "### 2. Extract nodes and relations from text "
   ]
  },
  {
   "cell_type": "markdown",
   "id": "bdc2ea5b-df63-4a2a-b053-218bf4a69619",
   "metadata": {},
   "source": [
    "#### 2.1 Response as text"
   ]
  },
  {
   "cell_type": "code",
   "execution_count": 74,
   "id": "c929a3c1-3572-460e-9a92-0ff015d68203",
   "metadata": {
    "tags": []
   },
   "outputs": [
    {
     "name": "stdout",
     "output_type": "stream",
     "text": [
      "llm.temperature: 0.0\n"
     ]
    }
   ],
   "source": [
    "llm = ChatOpenAI(openai_api_key=openai_api_key, temperature=0)\n",
    "print(\"llm.temperature:\", llm.temperature)\n",
    "\n",
    "prompt = PromptTemplate(template=\"\"\"Extract interesting elements out of a piece of text, can you extract the following from a text?\n",
    "- Characters\n",
    "- Events\n",
    "- Locations\n",
    "- Objects\n",
    "\n",
    "<context>\n",
    "{context}\n",
    "</context>\n",
    "\n",
    "Also, can you link these entities in the following way:\n",
    "- character - RELATES_TO (`how`) - character\n",
    "- character - INTERACTS_WITH (`how`)- character\n",
    "- character - INVOLVED_IN - event\n",
    "- event - LOCATED_ AT Location\n",
    "- object - RELEVANT_FOR (relevance_score (between 0 - 1, why)- event\n",
    "\n",
    "if the attribute `how` is not relevant omit it.\n",
    "\n",
    "* Please estimate the relevance score yourself\n",
    "* For RELATES_TO, provide max 2 words of how the characters relate (ie. has_father, has_mother, has_son, has_daughter, has_uncle, has_aunt, has_friend, has_colleague, etc) or interact. \n",
    "    * for the entiity links, add the keyword 'how' to indicate the type of relationship, ie. \"Bilbo Baggins RELATES_TO (how:has_mother) Belladonna Took\"\n",
    "* For INTERACTS_WITH, provide a short summary why it is relevant and add it as a attribute 'why'\n",
    "\n",
    "* For RELEVANT FOR, provide max 2 words of why the object is relevant.\n",
    "    * for the entity links, add the keyword 'why' to indicate the type of relationship, ie. \"Bilbo Baggins RELATES_TO (how:has_mother) Belladonna Took\"\n",
    "* For INTERACTS_WITH, provide a short summary why it is relevant and add it as a attribute 'why', ie: Staff - RELEVANT_FOR (relevance_score: 0.8, why: \"Gandalf's staff is highly relevant to him as it is part of his iconic appearance and magical abilities.\") - Gandalf\n",
    "\n",
    "\n",
    "Finally, provide a summary for the text.\n",
    "\n",
    "{output}\n",
    "\"\"\", input_variables=[\"context\", \"output\"])"
   ]
  },
  {
   "cell_type": "code",
   "execution_count": 75,
   "id": "82bc1db3-ba7b-45f1-8f84-4aa541568a8b",
   "metadata": {
    "tags": []
   },
   "outputs": [
    {
     "name": "stdout",
     "output_type": "stream",
     "text": [
      "Characters:\n",
      "- Hobbit (unnamed)\n",
      "- Baggins (unnamed)\n",
      "- Big People (mentioned)\n",
      "\n",
      "Events:\n",
      "- An Unexpected Party (mentioned)\n",
      "\n",
      "Locations:\n",
      "- A hole in the ground\n",
      "- The Hill\n",
      "- Garden\n",
      "- Meadows\n",
      "- River\n",
      "\n",
      "Objects:\n",
      "- Round door\n",
      "- Porthole\n",
      "- Green paint\n",
      "- Shiny yellow brass knob\n",
      "- Tube-shaped hall\n",
      "- Tunnel\n",
      "- Panelled walls\n",
      "- Tiled and carpeted floors\n",
      "- Polished chairs\n",
      "- Pegs for hats and coats\n",
      "- Bedrooms\n",
      "- Bathrooms\n",
      "- Cellars\n",
      "- Pantries\n",
      "- Wardrobes\n",
      "- Kitchens\n",
      "- Dining-rooms\n",
      "- Windows\n",
      "- Deep-set round windows\n",
      "\n",
      "Character - RELATES_TO (how: has_friend) - Baggins\n",
      "Character - INTERACTS_WITH (how: interacts_with) - Big People\n",
      "Character - INVOLVED_IN - An Unexpected Party\n",
      "An Unexpected Party - LOCATED_AT - The Hill\n",
      "Object - RELEVANT_FOR (relevance_score: 0.7, why: The round door is relevant as it represents the entrance to the hobbit's comfortable home.)\n",
      "\n",
      "Summary:\n",
      "The text introduces a hobbit who lives in a comfortable hole in the ground. The hobbit's name is Baggins, and they are considered respectable and predictable. However, the story tells of an adventure that Baggins embarks on, which is unexpected for a hobbit. The hobbits are described as a little people who are smaller than Dwarves and possess some magical abilities. The text also mentions the Big People, with whom the hobbits interact. The story revolves around an event called An Unexpected Party, which takes place at The Hill. Various objects and locations are described, emphasizing the comfort and coziness of the hobbit's home.\n",
      "CPU times: user 29.2 ms, sys: 5 ms, total: 34.2 ms\n",
      "Wall time: 14.6 s\n"
     ]
    }
   ],
   "source": [
    "%%time\n",
    "\n",
    "document_chain = create_stuff_documents_chain(llm, prompt)\n",
    "\n",
    "response = document_chain.invoke({\n",
    "    \"context\": [pages[1]], \"output\": \"\"\n",
    "})\n",
    "print(response)"
   ]
  },
  {
   "cell_type": "markdown",
   "id": "0be01760-8d0f-4c05-a74c-b5dc432f7d5a",
   "metadata": {},
   "source": [
    "#### 2.2 Response as JSON"
   ]
  },
  {
   "cell_type": "code",
   "execution_count": 81,
   "id": "99969599-fba7-4899-940c-34e42dad7926",
   "metadata": {
    "tags": []
   },
   "outputs": [
    {
     "name": "stdout",
     "output_type": "stream",
     "text": [
      "CPU times: user 32.8 ms, sys: 6.87 ms, total: 39.7 ms\n",
      "Wall time: 50.5 s\n"
     ]
    },
    {
     "data": {
      "text/plain": [
       "{'characters': ['hobbit', 'Baggins', 'mother', 'Dwarves', 'Big People'],\n",
       " 'events': ['An Unexpected Party'],\n",
       " 'locations': ['The Hill', 'garden', 'meadows', 'river'],\n",
       " 'objects': ['door',\n",
       "  'knob',\n",
       "  'tunnel',\n",
       "  'walls',\n",
       "  'floors',\n",
       "  'chairs',\n",
       "  'pegs',\n",
       "  'windows',\n",
       "  'rooms',\n",
       "  'wardrobes',\n",
       "  'kitchens',\n",
       "  'dining-rooms',\n",
       "  'bedrooms',\n",
       "  'bathrooms',\n",
       "  'cellars',\n",
       "  'pantries',\n",
       "  'bright colours',\n",
       "  'magic'],\n",
       " 'links': [{'entity1': 'hobbit',\n",
       "   'relation': 'RELATES_TO',\n",
       "   'entity2': 'Baggins',\n",
       "   'how': 'has_surname'},\n",
       "  {'entity1': 'hobbit',\n",
       "   'relation': 'INTERACTS_WITH',\n",
       "   'entity2': 'Dwarves',\n",
       "   'why': 'The hobbit interacts with the Dwarves during the unexpected party.'},\n",
       "  {'entity1': 'Baggins',\n",
       "   'relation': 'INVOLVED_IN',\n",
       "   'entity2': 'An Unexpected Party'},\n",
       "  {'entity1': 'An Unexpected Party',\n",
       "   'relation': 'LOCATED_AT',\n",
       "   'entity2': 'The Hill'},\n",
       "  {'entity1': 'door',\n",
       "   'relation': 'RELEVANT_FOR',\n",
       "   'entity2': 'An Unexpected Party',\n",
       "   'why': 'The door is the entrance to the party location.'},\n",
       "  {'entity1': 'knob',\n",
       "   'relation': 'RELEVANT_FOR',\n",
       "   'entity2': 'An Unexpected Party',\n",
       "   'why': 'The knob is part of the door that leads to the party location.'},\n",
       "  {'entity1': 'tunnel',\n",
       "   'relation': 'RELEVANT_FOR',\n",
       "   'entity2': 'An Unexpected Party',\n",
       "   'why': 'The tunnel is the passage that leads to the party location.'},\n",
       "  {'entity1': 'walls',\n",
       "   'relation': 'RELEVANT_FOR',\n",
       "   'entity2': 'An Unexpected Party',\n",
       "   'why': 'The walls provide structure and comfort to the party location.'},\n",
       "  {'entity1': 'floors',\n",
       "   'relation': 'RELEVANT_FOR',\n",
       "   'entity2': 'An Unexpected Party',\n",
       "   'why': 'The floors provide a surface to walk on in the party location.'},\n",
       "  {'entity1': 'chairs',\n",
       "   'relation': 'RELEVANT_FOR',\n",
       "   'entity2': 'An Unexpected Party',\n",
       "   'why': 'The chairs provide seating for the guests at the party.'},\n",
       "  {'entity1': 'pegs',\n",
       "   'relation': 'RELEVANT_FOR',\n",
       "   'entity2': 'An Unexpected Party',\n",
       "   'why': 'The pegs provide a place to hang hats and coats at the party.'},\n",
       "  {'entity1': 'windows',\n",
       "   'relation': 'RELEVANT_FOR',\n",
       "   'entity2': 'An Unexpected Party',\n",
       "   'why': 'The windows offer a view of the garden and meadows from the party location.'},\n",
       "  {'entity1': 'rooms',\n",
       "   'relation': 'RELEVANT_FOR',\n",
       "   'entity2': 'An Unexpected Party',\n",
       "   'why': 'The rooms provide space for various activities during the party.'},\n",
       "  {'entity1': 'wardrobes',\n",
       "   'relation': 'RELEVANT_FOR',\n",
       "   'entity2': 'An Unexpected Party',\n",
       "   'why': 'The wardrobes store clothes for the guests at the party.'},\n",
       "  {'entity1': 'kitchens',\n",
       "   'relation': 'RELEVANT_FOR',\n",
       "   'entity2': 'An Unexpected Party',\n",
       "   'why': 'The kitchens provide food preparation and storage for the party.'},\n",
       "  {'entity1': 'dining-rooms',\n",
       "   'relation': 'RELEVANT_FOR',\n",
       "   'entity2': 'An Unexpected Party',\n",
       "   'why': 'The dining-rooms offer a space for guests to eat during the party.'},\n",
       "  {'entity1': 'bedrooms',\n",
       "   'relation': 'RELEVANT_FOR',\n",
       "   'entity2': 'An Unexpected Party',\n",
       "   'why': 'The bedrooms provide sleeping quarters for the guests at the party.'},\n",
       "  {'entity1': 'bathrooms',\n",
       "   'relation': 'RELEVANT_FOR',\n",
       "   'entity2': 'An Unexpected Party',\n",
       "   'why': 'The bathrooms offer facilities for personal hygiene during the party.'},\n",
       "  {'entity1': 'cellars',\n",
       "   'relation': 'RELEVANT_FOR',\n",
       "   'entity2': 'An Unexpected Party',\n",
       "   'why': 'The cellars provide storage for drinks and supplies for the party.'},\n",
       "  {'entity1': 'pantries',\n",
       "   'relation': 'RELEVANT_FOR',\n",
       "   'entity2': 'An Unexpected Party',\n",
       "   'why': 'The pantries store food and ingredients for the party.'},\n",
       "  {'entity1': 'bright colours',\n",
       "   'relation': 'RELEVANT_FOR',\n",
       "   'entity2': 'An Unexpected Party',\n",
       "   'why': \"The bright colours of the hobbits' clothing add to the festive atmosphere of the party.\"},\n",
       "  {'entity1': 'magic',\n",
       "   'relation': 'RELEVANT_FOR',\n",
       "   'entity2': 'An Unexpected Party',\n",
       "   'why': 'The presence of magic adds an element of wonder and excitement to the party.'}],\n",
       " 'summary': \"The text introduces a hobbit named Baggins who lives in a comfortable hobbit-hole in The Hill. Baggins, who is considered respectable and unadventurous, unexpectedly finds himself having an adventure. The story revolves around an event called 'An Unexpected Party' located at The Hill. Various objects such as doors, knobs, tunnels, walls, floors, chairs, pegs, windows, rooms, wardrobes, kitchens, dining-rooms, bedrooms, bathrooms, cellars, pantries, bright colours, and magic are relevant for the party. The hobbit interacts with the Dwarves during the party, and the presence of magic adds excitement to the event.\"}"
      ]
     },
     "execution_count": 81,
     "metadata": {},
     "output_type": "execute_result"
    }
   ],
   "source": [
    "%%time\n",
    "\n",
    "document_chain = create_stuff_documents_chain(llm, prompt, output_parser=SimpleJsonOutputParser())\n",
    "\n",
    "response = document_chain.invoke({\n",
    "    \"context\": [pages[1]], \"output\": \"Very important is that you output the response as valid JSON!\"\n",
    "})\n",
    "response"
   ]
  },
  {
   "cell_type": "markdown",
   "id": "548e8ecf-c21c-4b1d-8346-40bcaa3bcff6",
   "metadata": {},
   "source": [
    "### 3. Match results with graph"
   ]
  },
  {
   "cell_type": "markdown",
   "id": "abaa9784-66d0-4235-b165-741f3a90a677",
   "metadata": {},
   "source": [
    "#### 3.1 Connect to Neo4j"
   ]
  },
  {
   "cell_type": "code",
   "execution_count": 82,
   "id": "d53c939c-bba8-407b-ab50-b327535bf314",
   "metadata": {},
   "outputs": [
    {
     "data": {
      "text/plain": [
       "'neo4j'"
      ]
     },
     "execution_count": 82,
     "metadata": {},
     "output_type": "execute_result"
    }
   ],
   "source": [
    "graph = Neo4jGraph(\n",
    "    url=neo4j_url,\n",
    "    username=neo4j_user,\n",
    "    password=neo4j_pass\n",
    ")\n",
    "\n",
    "# double check if database is correct. Neo4jGraph uses magic to override the database argument with a value from the environment\n",
    "graph._database"
   ]
  },
  {
   "cell_type": "code",
   "execution_count": 83,
   "id": "e57c87b8-81f9-4b24-abdc-dd40f9a24e19",
   "metadata": {
    "tags": []
   },
   "outputs": [],
   "source": [
    "# Deletes all nodes and edges from the graph!\n",
    "delete_all = False\n",
    "\n",
    "if delete_all == True:\n",
    "    query = \"MATCH (n) DETACH DELETE n\"\n",
    "    graph.query(query)"
   ]
  },
  {
   "cell_type": "code",
   "execution_count": 84,
   "id": "cb6df4b8-2421-43fa-94dc-3d8d5dbbefbc",
   "metadata": {
    "tags": []
   },
   "outputs": [
    {
     "name": "stdout",
     "output_type": "stream",
     "text": [
      "\n",
      "\n",
      "\u001b[1m> Entering new GraphCypherQAChain chain...\u001b[0m\n",
      "Generated Cypher:\n",
      "\u001b[32;1m\u001b[1;3mMERGE (hobbit:Character {name: 'hobbit'})\n",
      "MERGE (Baggins:Character {name: 'Baggins'})\n",
      "MERGE (mother:Character {name: 'mother'})\n",
      "MERGE (Dwarves:Character {name: 'Dwarves'})\n",
      "MERGE (BigPeople:Character {name: 'Big People'})\n",
      "MERGE (AnUnexpectedParty:Event {name: 'An Unexpected Party'})\n",
      "MERGE (TheHill:Location {name: 'The Hill'})\n",
      "MERGE (garden:Location {name: 'garden'})\n",
      "MERGE (meadows:Location {name: 'meadows'})\n",
      "MERGE (river:Location {name: 'river'})\n",
      "MERGE (door:Object {name: 'door'})\n",
      "MERGE (knob:Object {name: 'knob'})\n",
      "MERGE (tunnel:Object {name: 'tunnel'})\n",
      "MERGE (walls:Object {name: 'walls'})\n",
      "MERGE (floors:Object {name: 'floors'})\n",
      "MERGE (chairs:Object {name: 'chairs'})\n",
      "MERGE (pegs:Object {name: 'pegs'})\n",
      "MERGE (windows:Object {name: 'windows'})\n",
      "MERGE (rooms:Object {name: 'rooms'})\n",
      "MERGE (wardrobes:Object {name: 'wardrobes'})\n",
      "MERGE (kitchens:Object {name: 'kitchens'})\n",
      "MERGE (diningRooms:Object {name: 'dining-rooms'})\n",
      "MERGE (bedrooms:Object {name: 'bedrooms'})\n",
      "MERGE (bathrooms:Object {name: 'bathrooms'})\n",
      "MERGE (cellars:Object {name: 'cellars'})\n",
      "MERGE (pantries:Object {name: 'pantries'})\n",
      "MERGE (brightColours:Object {name: 'bright colours'})\n",
      "MERGE (magic:Object {name: 'magic'})\n",
      "MERGE (hobbit)-[:RELATES_TO {how: 'has_surname'}]->(Baggins)\n",
      "MERGE (hobbit)-[:INTERACTS_WITH {why: 'The hobbit interacts with the Dwarves during the unexpected party.'}]->(Dwarves)\n",
      "MERGE (Baggins)-[:INVOLVED_IN]->(AnUnexpectedParty)\n",
      "MERGE (AnUnexpectedParty)-[:LOCATED_AT]->(TheHill)\n",
      "MERGE (door)-[:RELEVANT_FOR {why: 'The door is the entrance to the party location.'}]->(AnUnexpectedParty)\n",
      "MERGE (knob)-[:RELEVANT_FOR {why: 'The knob is part of the door that leads to the party location.'}]->(AnUnexpectedParty)\n",
      "MERGE (tunnel)-[:RELEVANT_FOR {why: 'The tunnel is the passage that leads to the party location.'}]->(AnUnexpectedParty)\n",
      "MERGE (walls)-[:RELEVANT_FOR {why: 'The walls provide structure and comfort to the party location.'}]->(AnUnexpectedParty)\n",
      "MERGE (floors)-[:RELEVANT_FOR {why: 'The floors provide a surface to walk on in the party location.'}]->(AnUnexpectedParty)\n",
      "MERGE (chairs)-[:RELEVANT_FOR {why: 'The chairs provide seating for the guests at the party.'}]->(AnUnexpectedParty)\n",
      "MERGE (pegs)-[:RELEVANT_FOR {why: 'The pegs provide a place to hang hats and coats at the party.'}]->(AnUnexpectedParty)\n",
      "MERGE (windows)-[:RELEVANT_FOR {why: 'The windows offer a view of the garden and meadows from the party location.'}]->(AnUnexpectedParty)\n",
      "MERGE (rooms)-[:RELEVANT_FOR {why: 'The rooms provide space for various activities during the party.'}]->(AnUnexpectedParty)\n",
      "MERGE (wardrobes)-[:RELEVANT_FOR {why: 'The wardrobes store clothes for the guests at the party.'}]->(AnUnexpectedParty)\n",
      "MERGE (kitchens)-[:RELEVANT_FOR {why: 'The kitchens provide food preparation and storage for the party.'}]->(AnUnexpectedParty)\n",
      "MERGE (diningRooms)-[:RELEVANT_FOR {why: 'The dining-rooms offer a space for guests to eat during the party.'}]->(AnUnexpectedParty)\n",
      "MERGE (bedrooms)-[:RELEVANT_FOR {why: 'The bedrooms provide sleeping quarters for the guests at the party.'}]->(AnUnexpectedParty)\n",
      "MERGE (bathrooms)-[:RELEVANT_FOR {why: 'The bathrooms offer facilities for personal hygiene during the party.'}]->(AnUnexpectedParty)\n",
      "MERGE (cellars)-[:RELEVANT_FOR {why: 'The cellars provide storage for drinks and supplies for the party.'}]->(AnUnexpectedParty)\n",
      "MERGE (pantries)-[:RELEVANT_FOR {why: 'The pantries store food and ingredients for the party.'}]->(AnUnexpectedParty)\n",
      "MERGE (brightColours)-[:RELEVANT_FOR {why: \"The bright colours of the hobbits' clothing add to the festive atmosphere of the party.\"}]->(AnUnexpectedParty)\n",
      "MERGE (magic)-[:RELEVANT_FOR {why: 'The presence of magic adds an element of wonder and excitement to the party.'}]->(AnUnexpectedParty);\u001b[0m\n",
      "Full Context:\n",
      "\u001b[32;1m\u001b[1;3m[]\u001b[0m\n",
      "\n",
      "\u001b[1m> Finished chain.\u001b[0m\n"
     ]
    },
    {
     "data": {
      "text/plain": [
       "{'query': '{\\'characters\\': [\\'hobbit\\', \\'Baggins\\', \\'mother\\', \\'Dwarves\\', \\'Big People\\'], \\'events\\': [\\'An Unexpected Party\\'], \\'locations\\': [\\'The Hill\\', \\'garden\\', \\'meadows\\', \\'river\\'], \\'objects\\': [\\'door\\', \\'knob\\', \\'tunnel\\', \\'walls\\', \\'floors\\', \\'chairs\\', \\'pegs\\', \\'windows\\', \\'rooms\\', \\'wardrobes\\', \\'kitchens\\', \\'dining-rooms\\', \\'bedrooms\\', \\'bathrooms\\', \\'cellars\\', \\'pantries\\', \\'bright colours\\', \\'magic\\'], \\'links\\': [{\\'entity1\\': \\'hobbit\\', \\'relation\\': \\'RELATES_TO\\', \\'entity2\\': \\'Baggins\\', \\'how\\': \\'has_surname\\'}, {\\'entity1\\': \\'hobbit\\', \\'relation\\': \\'INTERACTS_WITH\\', \\'entity2\\': \\'Dwarves\\', \\'why\\': \\'The hobbit interacts with the Dwarves during the unexpected party.\\'}, {\\'entity1\\': \\'Baggins\\', \\'relation\\': \\'INVOLVED_IN\\', \\'entity2\\': \\'An Unexpected Party\\'}, {\\'entity1\\': \\'An Unexpected Party\\', \\'relation\\': \\'LOCATED_AT\\', \\'entity2\\': \\'The Hill\\'}, {\\'entity1\\': \\'door\\', \\'relation\\': \\'RELEVANT_FOR\\', \\'entity2\\': \\'An Unexpected Party\\', \\'why\\': \\'The door is the entrance to the party location.\\'}, {\\'entity1\\': \\'knob\\', \\'relation\\': \\'RELEVANT_FOR\\', \\'entity2\\': \\'An Unexpected Party\\', \\'why\\': \\'The knob is part of the door that leads to the party location.\\'}, {\\'entity1\\': \\'tunnel\\', \\'relation\\': \\'RELEVANT_FOR\\', \\'entity2\\': \\'An Unexpected Party\\', \\'why\\': \\'The tunnel is the passage that leads to the party location.\\'}, {\\'entity1\\': \\'walls\\', \\'relation\\': \\'RELEVANT_FOR\\', \\'entity2\\': \\'An Unexpected Party\\', \\'why\\': \\'The walls provide structure and comfort to the party location.\\'}, {\\'entity1\\': \\'floors\\', \\'relation\\': \\'RELEVANT_FOR\\', \\'entity2\\': \\'An Unexpected Party\\', \\'why\\': \\'The floors provide a surface to walk on in the party location.\\'}, {\\'entity1\\': \\'chairs\\', \\'relation\\': \\'RELEVANT_FOR\\', \\'entity2\\': \\'An Unexpected Party\\', \\'why\\': \\'The chairs provide seating for the guests at the party.\\'}, {\\'entity1\\': \\'pegs\\', \\'relation\\': \\'RELEVANT_FOR\\', \\'entity2\\': \\'An Unexpected Party\\', \\'why\\': \\'The pegs provide a place to hang hats and coats at the party.\\'}, {\\'entity1\\': \\'windows\\', \\'relation\\': \\'RELEVANT_FOR\\', \\'entity2\\': \\'An Unexpected Party\\', \\'why\\': \\'The windows offer a view of the garden and meadows from the party location.\\'}, {\\'entity1\\': \\'rooms\\', \\'relation\\': \\'RELEVANT_FOR\\', \\'entity2\\': \\'An Unexpected Party\\', \\'why\\': \\'The rooms provide space for various activities during the party.\\'}, {\\'entity1\\': \\'wardrobes\\', \\'relation\\': \\'RELEVANT_FOR\\', \\'entity2\\': \\'An Unexpected Party\\', \\'why\\': \\'The wardrobes store clothes for the guests at the party.\\'}, {\\'entity1\\': \\'kitchens\\', \\'relation\\': \\'RELEVANT_FOR\\', \\'entity2\\': \\'An Unexpected Party\\', \\'why\\': \\'The kitchens provide food preparation and storage for the party.\\'}, {\\'entity1\\': \\'dining-rooms\\', \\'relation\\': \\'RELEVANT_FOR\\', \\'entity2\\': \\'An Unexpected Party\\', \\'why\\': \\'The dining-rooms offer a space for guests to eat during the party.\\'}, {\\'entity1\\': \\'bedrooms\\', \\'relation\\': \\'RELEVANT_FOR\\', \\'entity2\\': \\'An Unexpected Party\\', \\'why\\': \\'The bedrooms provide sleeping quarters for the guests at the party.\\'}, {\\'entity1\\': \\'bathrooms\\', \\'relation\\': \\'RELEVANT_FOR\\', \\'entity2\\': \\'An Unexpected Party\\', \\'why\\': \\'The bathrooms offer facilities for personal hygiene during the party.\\'}, {\\'entity1\\': \\'cellars\\', \\'relation\\': \\'RELEVANT_FOR\\', \\'entity2\\': \\'An Unexpected Party\\', \\'why\\': \\'The cellars provide storage for drinks and supplies for the party.\\'}, {\\'entity1\\': \\'pantries\\', \\'relation\\': \\'RELEVANT_FOR\\', \\'entity2\\': \\'An Unexpected Party\\', \\'why\\': \\'The pantries store food and ingredients for the party.\\'}, {\\'entity1\\': \\'bright colours\\', \\'relation\\': \\'RELEVANT_FOR\\', \\'entity2\\': \\'An Unexpected Party\\', \\'why\\': \"The bright colours of the hobbits\\' clothing add to the festive atmosphere of the party.\"}, {\\'entity1\\': \\'magic\\', \\'relation\\': \\'RELEVANT_FOR\\', \\'entity2\\': \\'An Unexpected Party\\', \\'why\\': \\'The presence of magic adds an element of wonder and excitement to the party.\\'}], \\'summary\\': \"The text introduces a hobbit named Baggins who lives in a comfortable hobbit-hole in The Hill. Baggins, who is considered respectable and unadventurous, unexpectedly finds himself having an adventure. The story revolves around an event called \\'An Unexpected Party\\' located at The Hill. Various objects such as doors, knobs, tunnels, walls, floors, chairs, pegs, windows, rooms, wardrobes, kitchens, dining-rooms, bedrooms, bathrooms, cellars, pantries, bright colours, and magic are relevant for the party. The hobbit interacts with the Dwarves during the party, and the presence of magic adds excitement to the event.\"}',\n",
       " 'result': 'The story revolves around an event called \"An Unexpected Party\" which takes place at The Hill. Various objects such as doors, knobs, tunnels, walls, floors, chairs, pegs, windows, rooms, wardrobes, kitchens, dining-rooms, bedrooms, bathrooms, cellars, pantries, bright colours, and magic are relevant for the party. The hobbit interacts with the Dwarves during the party, and the presence of magic adds excitement to the event.'}"
      ]
     },
     "execution_count": 84,
     "metadata": {},
     "output_type": "execute_result"
    }
   ],
   "source": [
    "CYPHER_GENERATION_TEMPLATE = \"\"\"\n",
    "You are an expert Neo4j Developer translating json into valid Cypher. Use a semicolon ';' after each clause.\n",
    "\n",
    "Make sure that nodes and relations are merged for the following json:\n",
    "{question}\n",
    "\"\"\"\n",
    "\n",
    "cypher_generation_prompt = PromptTemplate(\n",
    "    template=CYPHER_GENERATION_TEMPLATE,\n",
    "    input_variables=[\"question\"],\n",
    ")\n",
    "\n",
    "cypher_chain = GraphCypherQAChain.from_llm(\n",
    "    llm,\n",
    "    graph=graph,\n",
    "    cypher_prompt=cypher_generation_prompt,\n",
    "    verbose=True\n",
    ")\n",
    "\n",
    "cypher_chain.invoke({\"query\": str(response)})"
   ]
  }
 ],
 "metadata": {
  "kernelspec": {
   "display_name": "Python 3 (ipykernel)",
   "language": "python",
   "name": "python3"
  },
  "language_info": {
   "codemirror_mode": {
    "name": "ipython",
    "version": 3
   },
   "file_extension": ".py",
   "mimetype": "text/x-python",
   "name": "python",
   "nbconvert_exporter": "python",
   "pygments_lexer": "ipython3",
   "version": "3.9.12"
  }
 },
 "nbformat": 4,
 "nbformat_minor": 5
}
