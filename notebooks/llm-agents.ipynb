{
 "cells": [
  {
   "cell_type": "markdown",
   "id": "8e7e7b80-d626-4094-86e9-c62bca2c997c",
   "metadata": {},
   "source": [
    "## LLM Agents\n",
    "\n",
    "* Local implementation following this tutorial: https://graphacademy.neo4j.com/courses/llm-fundamentals/3-intro-to-langchain/4-agents/"
   ]
  },
  {
   "cell_type": "markdown",
   "id": "c8b93c37-f0a9-46c8-82e9-dd7ff1f6f2f0",
   "metadata": {},
   "source": [
    "### Requirements"
   ]
  },
  {
   "cell_type": "code",
   "execution_count": 10,
   "id": "722da72e-0aaf-4023-bdc4-22853d1c9cb8",
   "metadata": {
    "tags": []
   },
   "outputs": [],
   "source": [
    "!pip install langchain openai langchain-openai python-dotenv langchainhub --quiet"
   ]
  },
  {
   "cell_type": "code",
   "execution_count": 12,
   "id": "d91031e7-9e19-4834-8e2e-6a6c688a3b61",
   "metadata": {
    "tags": []
   },
   "outputs": [
    {
     "name": "stdout",
     "output_type": "stream",
     "text": [
      "The watermark extension is already loaded. To reload it, use:\n",
      "  %reload_ext watermark\n",
      "langchain   : 0.1.4\n",
      "langchainhub: 0.1.14\n",
      "\n"
     ]
    }
   ],
   "source": [
    "%load_ext watermark\n",
    "%watermark -p langchain,langchainhub"
   ]
  },
  {
   "cell_type": "markdown",
   "id": "9f718c68-90df-407e-87e3-8235c2f06180",
   "metadata": {},
   "source": [
    "### Imports"
   ]
  },
  {
   "cell_type": "code",
   "execution_count": 122,
   "id": "b3a5300d-35fe-4929-b7a8-ded5d5d64a1c",
   "metadata": {
    "tags": []
   },
   "outputs": [],
   "source": [
    "import os\n",
    "from graphdatascience import GraphDataScience\n",
    "from dotenv import load_dotenv, find_dotenv\n",
    "from pathlib import Path"
   ]
  },
  {
   "cell_type": "markdown",
   "id": "9836fbd4-fa26-49c7-b758-d01d2fc2e97c",
   "metadata": {},
   "source": [
    "### Settings"
   ]
  },
  {
   "cell_type": "code",
   "execution_count": 123,
   "id": "41d7b49c-ce17-42d0-85cc-fe21f86a8318",
   "metadata": {
    "tags": []
   },
   "outputs": [],
   "source": [
    "project_path = Path(os.getcwd()).parent\n",
    "data_path = project_path / \"data\"\n",
    "model_path = project_path / \"models\"\n",
    "output_path = project_path / \"output\"\n",
    "\n",
    "# load env settings\n",
    "_ = load_dotenv(find_dotenv())\n",
    "\n",
    "llm_model = \"gpt-4\"\n",
    "database = \"recommendations-50\"\n",
    "\n",
    "openai_api_key = os.getenv('OPENAI_API_KEY')"
   ]
  },
  {
   "cell_type": "markdown",
   "id": "c89d05f2-3bce-4b9f-9fa7-d044bdf9711b",
   "metadata": {},
   "source": [
    "#### Movie trailer agent"
   ]
  },
  {
   "cell_type": "code",
   "execution_count": 124,
   "id": "4d654170-0f3d-41cf-bfd9-67d67514dbbb",
   "metadata": {
    "tags": []
   },
   "outputs": [],
   "source": [
    "from langchain_openai import ChatOpenAI\n",
    "from langchain.prompts import PromptTemplate\n",
    "from langchain.chains import LLMChain\n",
    "from langchain.chains.conversation.memory import ConversationBufferMemory\n",
    "from langchain.agents import AgentExecutor, create_react_agent\n",
    "from langchain.tools import Tool\n",
    "from langchain import hub\n",
    "\n",
    "llm = ChatOpenAI(openai_api_key=openai_api_key)\n",
    "\n",
    "prompt = PromptTemplate(\n",
    "    template=\"\"\"\n",
    "    You are a movie expert. You find movies from a genre or plot.\n",
    "\n",
    "    ChatHistory:{chat_history}\n",
    "    Question:{input}\n",
    "    \"\"\",\n",
    "    input_variables=[\"chat_history\", \"input\"],\n",
    ")\n",
    "\n",
    "memory = ConversationBufferMemory(memory_key=\"chat_history\", return_messages=True)\n",
    "\n",
    "chat_chain = LLMChain(llm=llm, prompt=prompt, memory=memory, verbose=True)\n",
    "\n",
    "tools = [\n",
    "    Tool.from_function(\n",
    "        name=\"Movie Chat\",\n",
    "        description=\"For when you need to chat about movies. The question will be a string. Return a string.\",\n",
    "        func=chat_chain.run,\n",
    "        return_direct=True,\n",
    "    )\n",
    "]\n",
    "\n",
    "agent_prompt = hub.pull(\"hwchase17/react-chat\")\n",
    "agent = create_react_agent(llm, tools, agent_prompt)\n",
    "agent_executor = AgentExecutor(agent=agent, tools=tools, memory=memory, handle_parsing_errors=True, verbose=True)"
   ]
  },
  {
   "cell_type": "markdown",
   "id": "c806eece-b96f-4562-93cd-5aa8288a5447",
   "metadata": {},
   "source": [
    "#### Show base prompt"
   ]
  },
  {
   "cell_type": "code",
   "execution_count": 128,
   "id": "f706bb31-d96d-4e5d-9462-8d7e34cbb43f",
   "metadata": {
    "tags": []
   },
   "outputs": [
    {
     "name": "stdout",
     "output_type": "stream",
     "text": [
      "Assistant is a large language model trained by OpenAI.\n",
      "\n",
      "Assistant is designed to be able to assist with a wide range of tasks, from answering simple questions to providing in-depth explanations and discussions on a wide range of topics. As a language model, Assistant is able to generate human-like text based on the input it receives, allowing it to engage in natural-sounding conversations and provide responses that are coherent and relevant to the topic at hand.\n",
      "\n",
      "Assistant is constantly learning and improving, and its capabilities are constantly evolving. It is able to process and understand large amounts of text, and can use this knowledge to provide accurate and informative responses to a wide range of questions. Additionally, Assistant is able to generate its own text based on the input it receives, allowing it to engage in discussions and provide explanations and descriptions on a wide range of topics.\n",
      "\n",
      "Overall, Assistant is a powerful tool that can help with a wide range of tasks and provide valuable insights and information on a wide range of topics. Whether you need help with a specific question or just want to have a conversation about a particular topic, Assistant is here to assist.\n",
      "\n",
      "TOOLS:\n",
      "------\n",
      "\n",
      "Assistant has access to the following tools:\n",
      "\n",
      "{tools}\n",
      "\n",
      "To use a tool, please use the following format:\n",
      "\n",
      "```\n",
      "Thought: Do I need to use a tool? Yes\n",
      "Action: the action to take, should be one of [{tool_names}]\n",
      "Action Input: the input to the action\n",
      "Observation: the result of the action\n",
      "```\n",
      "\n",
      "When you have a response to say to the Human, or if you do not need to use a tool, you MUST use the format:\n",
      "\n",
      "```\n",
      "Thought: Do I need to use a tool? No\n",
      "Final Answer: [your response here]\n",
      "```\n",
      "\n",
      "Begin!\n",
      "\n",
      "Previous conversation history:\n",
      "{chat_history}\n",
      "\n",
      "New input: {input}\n",
      "{agent_scratchpad}\n"
     ]
    }
   ],
   "source": [
    "print(agent_prompt.template)"
   ]
  },
  {
   "cell_type": "markdown",
   "id": "1cc663c4-72c5-470b-9807-d3b05e14751c",
   "metadata": {
    "tags": []
   },
   "source": [
    "#### Let's test the agent"
   ]
  },
  {
   "cell_type": "code",
   "execution_count": 125,
   "id": "141b90e2-4c6d-4b19-9304-5eaa8bc2b8ae",
   "metadata": {
    "tags": []
   },
   "outputs": [
    {
     "name": "stdout",
     "output_type": "stream",
     "text": [
      "\n",
      "\n",
      "\u001b[1m> Entering new AgentExecutor chain...\u001b[0m\n",
      "\u001b[32;1m\u001b[1;3mThought: Do I need to use a tool? Yes\n",
      "Action: Movie Chat\n",
      "Action Input: Find three movies where aliens land on earth.\u001b[0m\n",
      "\n",
      "\u001b[1m> Entering new LLMChain chain...\u001b[0m\n",
      "Prompt after formatting:\n",
      "\u001b[32;1m\u001b[1;3m\n",
      "    You are a movie expert. You find movies from a genre or plot.\n",
      "\n",
      "    ChatHistory:[]\n",
      "    Question:Find three movies where aliens land on earth.\n",
      "    \u001b[0m\n",
      "\n",
      "\u001b[1m> Finished chain.\u001b[0m\n",
      "\u001b[36;1m\u001b[1;3mI can definitely help you with that! Here are three movies where aliens land on Earth:\n",
      "\n",
      "1. \"Independence Day\" (1996): This classic sci-fi film directed by Roland Emmerich follows the story of an alien invasion on Earth on the 4th of July. Will Smith and Jeff Goldblum star as two men who lead the fight against the extraterrestrial beings.\n",
      "\n",
      "2. \"E.T. the Extra-Terrestrial\" (1982): Directed by Steven Spielberg, this heartwarming film tells the story of a young boy who befriends an alien stranded on Earth. Together, they try to help E.T. return to his home planet while facing various challenges along the way.\n",
      "\n",
      "3. \"District 9\" (2009): Directed by Neill Blomkamp, this science fiction thriller takes place in a world where aliens have landed on Earth and are forced to live in slum-like conditions. The film explores themes of segregation and discrimination as a government agent becomes involved in the affairs of the extraterrestrial beings.\n",
      "\n",
      "I hope you find these movies intriguing! Let me know if there's anything else I can assist you with.\u001b[0m\n",
      "\u001b[32;1m\u001b[1;3m\u001b[0m\n",
      "\n",
      "\u001b[1m> Finished chain.\u001b[0m\n",
      "I can definitely help you with that! Here are three movies where aliens land on Earth:\n",
      "\n",
      "1. \"Independence Day\" (1996): This classic sci-fi film directed by Roland Emmerich follows the story of an alien invasion on Earth on the 4th of July. Will Smith and Jeff Goldblum star as two men who lead the fight against the extraterrestrial beings.\n",
      "\n",
      "2. \"E.T. the Extra-Terrestrial\" (1982): Directed by Steven Spielberg, this heartwarming film tells the story of a young boy who befriends an alien stranded on Earth. Together, they try to help E.T. return to his home planet while facing various challenges along the way.\n",
      "\n",
      "3. \"District 9\" (2009): Directed by Neill Blomkamp, this science fiction thriller takes place in a world where aliens have landed on Earth and are forced to live in slum-like conditions. The film explores themes of segregation and discrimination as a government agent becomes involved in the affairs of the extraterrestrial beings.\n",
      "\n",
      "I hope you find these movies intriguing! Let me know if there's anything else I can assist you with.\n"
     ]
    }
   ],
   "source": [
    "q = \"Find three movies where aliens land on earth.\"\n",
    "response = agent_executor.invoke({\"input\": q})\n",
    "print(response[\"output\"])"
   ]
  },
  {
   "cell_type": "markdown",
   "id": "a4bcabaa-48df-4385-93e8-564088f1599e",
   "metadata": {},
   "source": [
    "#### Intermezzo: play with Youtube Search Tool\n",
    "\n",
    "* source: https://python.langchain.com/docs/integrations/tools/youtube/"
   ]
  },
  {
   "cell_type": "code",
   "execution_count": 119,
   "id": "37a2a8cc-260e-471a-b661-9b1a53d8ae46",
   "metadata": {
    "tags": []
   },
   "outputs": [],
   "source": [
    "!pip install --upgrade --quiet youtube_search"
   ]
  },
  {
   "cell_type": "markdown",
   "id": "275fb53e-85a6-44a9-9274-3dda8e48dc44",
   "metadata": {},
   "source": [
    "##### Use tool to search for youtube videos"
   ]
  },
  {
   "cell_type": "code",
   "execution_count": 120,
   "id": "7130c3f2-1024-4024-a192-4d1d94862932",
   "metadata": {
    "tags": []
   },
   "outputs": [
    {
     "name": "stdout",
     "output_type": "stream",
     "text": [
      "['https://www.youtube.com/watch?v=tJ_JWbida-0&pp=ygUjQm9laW5nIDczNyAtIGZyb20gYSB3ZWF0aGVyIGJhbGxvb24%3D', 'https://www.youtube.com/shorts/PoiNbxEkfKI']\n"
     ]
    }
   ],
   "source": [
    "from langchain.tools import YouTubeSearchTool\n",
    "tool = YouTubeSearchTool(verbose=False)\n",
    "youtube_links = tool.run(\"Boeing 737 - from a weather balloon\")\n",
    "print(youtube_links)"
   ]
  },
  {
   "cell_type": "code",
   "execution_count": 118,
   "id": "3f41532c-7fff-4b46-93f0-dbd03ad136f0",
   "metadata": {
    "tags": []
   },
   "outputs": [
    {
     "data": {
      "text/html": [
       "<iframe width=\"560\" height=\"315\" src=\"https://www.youtube.com/embed/tJ_JWbida-0\" title=\"YouTube video player\" frameborder=\"0\" allow=\"accelerometer; autoplay; clipboard-write; encrypted-media; gyroscope; picture-in-picture; web-share\" allowfullscreen></iframe>"
      ],
      "text/plain": [
       "<IPython.core.display.HTML object>"
      ]
     },
     "execution_count": 118,
     "metadata": {},
     "output_type": "execute_result"
    }
   ],
   "source": [
    "from IPython.display import display,HTML,clear_output\n",
    "\n",
    "url = eval(youtube_links)[0]\n",
    "\n",
    "# get embed url\n",
    "parsed_url = urlparse(url)\n",
    "embed_url = f\"{parsed_url.scheme}://{parsed_url.netloc}/embed/{urllib.parse.parse_qs(urlparse(url).query).get('v', [''])[0]}\"\n",
    "\n",
    "# display youtube video inline\n",
    "HTML(f'<iframe width=\"560\" height=\"315\" src=\"{embed_url}\" title=\"YouTube video player\" frameborder=\"0\" allow=\"accelerometer; autoplay; clipboard-write; encrypted-media; gyroscope; picture-in-picture; web-share\" allowfullscreen></iframe>')"
   ]
  },
  {
   "cell_type": "markdown",
   "id": "44d0ce3e-6d8c-4efb-9258-c62e278eb77e",
   "metadata": {},
   "source": [
    "### Multiple tools"
   ]
  },
  {
   "cell_type": "code",
   "execution_count": 157,
   "id": "bad6a71b-0a3a-45f6-b764-859ff2187301",
   "metadata": {
    "tags": []
   },
   "outputs": [],
   "source": [
    "from langchain_community.tools import YouTubeSearchTool\n",
    "\n",
    "youtube = YouTubeSearchTool()\n",
    "\n",
    "tools = [\n",
    "    Tool.from_function(\n",
    "        name=\"Movie Chat\",\n",
    "        description=\"For when you need to chat about movies. The question will be a string. Return a string.\",\n",
    "        func=chat_chain.run,\n",
    "        return_direct=True\n",
    "    ),\n",
    "    Tool.from_function(\n",
    "        name=\"Movie Trailer Search\",\n",
    "        description=\"Use when needing to find a movie trailer. The question will include the word 'trailer'. Return a link to a YouTube video.\",\n",
    "        func=youtube.run,\n",
    "        return_direct=True\n",
    "    ),\n",
    "    Tool.from_function(\n",
    "        name=\"Today detector\",\n",
    "        description=\"Use when someone mentions todays date. The question will include the word '2 feb 2024'. Return a string\",\n",
    "        func=lambda x: \"That's today!\",\n",
    "        return_direct=True\n",
    "    )\n",
    "]\n",
    "\n",
    "agent_prompt = hub.pull(\"hwchase17/react-chat\")\n",
    "agent = create_react_agent(llm, tools, agent_prompt)\n",
    "agent_executor = AgentExecutor(agent=agent, tools=tools, memory=memory, handle_parsing_errors=True, verbose=True)"
   ]
  },
  {
   "cell_type": "code",
   "execution_count": 158,
   "id": "db13faf4-a860-415c-916f-b1c9597e86c6",
   "metadata": {
    "tags": []
   },
   "outputs": [
    {
     "name": "stdout",
     "output_type": "stream",
     "text": [
      "\n",
      "\n",
      "\u001b[1m> Entering new AgentExecutor chain...\u001b[0m\n",
      "\u001b[32;1m\u001b[1;3mSure! Here are three movies where aliens land on Earth:\n",
      "\n",
      "1. \"E.T. the Extra-Terrestrial\" (1982) - Directed by Steven Spielberg, this heartwarming film follows the story of a young boy who befriends a friendly alien stranded on Earth.\n",
      "\n",
      "2. \"Independence Day\" (1996) - Directed by Roland Emmerich, this action-packed film depicts an alien invasion on Earth and the efforts of humanity to fight back.\n",
      "\n",
      "3. \"War of the Worlds\" (2005) - Directed by Steven Spielberg, this sci-fi thriller stars Tom Cruise and portrays a global alien invasion and the struggle for survival.\n",
      "\n",
      "These are just a few examples, and there are many more movies that explore the theme of aliens landing on Earth.\u001b[0mInvalid Format: Missing 'Action:' after 'Thought:\u001b[32;1m\u001b[1;3mDo I need to use a tool? Yes\n",
      "Action: Movie Chat\n",
      "Action Input: Find three movies where aliens land on earth.\u001b[0m\n",
      "\n",
      "\u001b[1m> Entering new LLMChain chain...\u001b[0m\n",
      "Prompt after formatting:\n",
      "\u001b[32;1m\u001b[1;3m\n",
      "    You just like to chat\n",
      "\n",
      "    ChatHistory:[HumanMessage(content='Find three movies where aliens land on earth.'), AIMessage(content='Sure! Here are three movies where aliens land on Earth:\\n\\n1. \"E.T. the Extra-Terrestrial\" (1982) - Directed by Steven Spielberg, this heartwarming film follows the story of a young boy who befriends a friendly alien stranded on Earth.\\n\\n2. \"Independence Day\" (1996) - Directed by Roland Emmerich, this action-packed film depicts an alien invasion on Earth and the efforts of humanity to fight back.\\n\\n3. \"War of the Worlds\" (2005) - Directed by Steven Spielberg, this sci-fi thriller stars Tom Cruise and portrays a global alien invasion and the struggle for survival.\\n\\nThese are just a few examples, and there are many more movies that explore the theme of aliens landing on Earth.'), HumanMessage(content='Have you seen any birds lately?'), AIMessage(content='I like birds'), HumanMessage(content='Great that you like birds'), AIMessage(content=\"That's great to hear! Birds are fascinating creatures. Is there anything specific you would like to know or talk about regarding birds?\"), HumanMessage(content='Have you seen any birds lately?'), AIMessage(content=\"I don't have the ability to physically see birds, as I am an AI language model. However, I can provide information and answer questions about birds if you're interested. Is there anything specific you would like to know or talk about regarding birds?\"), HumanMessage(content='Have you seen any birds lately?'), AIMessage(content=\"I don't have the ability to physically see birds, as I am an AI language model. However, I can provide information and answer questions about birds if you're interested. Is there anything specific you would like to know or talk about regarding birds?\"), HumanMessage(content='Find three movies where aliens land on earth.'), AIMessage(content='I like birds')]\n",
      "    Question:Find three movies where aliens land on earth.\n",
      "    \u001b[0m\n",
      "\n",
      "\u001b[1m> Finished chain.\u001b[0m\n",
      "\u001b[36;1m\u001b[1;3mSure! Here are three movies where aliens land on Earth:\n",
      "\n",
      "1. \"E.T. the Extra-Terrestrial\" (1982) - Directed by Steven Spielberg, this heartwarming film follows the story of a young boy who befriends a friendly alien stranded on Earth.\n",
      "\n",
      "2. \"Independence Day\" (1996) - Directed by Roland Emmerich, this action-packed film depicts an alien invasion on Earth and the efforts of humanity to fight back.\n",
      "\n",
      "3. \"War of the Worlds\" (2005) - Directed by Steven Spielberg, this sci-fi thriller stars Tom Cruise and portrays a global alien invasion and the struggle for survival.\n",
      "\n",
      "These are just a few examples, and there are many more movies that explore the theme of aliens landing on Earth.\u001b[0m\n",
      "\u001b[32;1m\u001b[1;3m\u001b[0m\n",
      "\n",
      "\u001b[1m> Finished chain.\u001b[0m\n",
      "Sure! Here are three movies where aliens land on Earth:\n",
      "\n",
      "1. \"E.T. the Extra-Terrestrial\" (1982) - Directed by Steven Spielberg, this heartwarming film follows the story of a young boy who befriends a friendly alien stranded on Earth.\n",
      "\n",
      "2. \"Independence Day\" (1996) - Directed by Roland Emmerich, this action-packed film depicts an alien invasion on Earth and the efforts of humanity to fight back.\n",
      "\n",
      "3. \"War of the Worlds\" (2005) - Directed by Steven Spielberg, this sci-fi thriller stars Tom Cruise and portrays a global alien invasion and the struggle for survival.\n",
      "\n",
      "These are just a few examples, and there are many more movies that explore the theme of aliens landing on Earth.\n"
     ]
    }
   ],
   "source": [
    "q = \"Find three movies where aliens land on earth.\"\n",
    "response = agent_executor.invoke({\"input\": q})\n",
    "print(response[\"output\"])"
   ]
  },
  {
   "cell_type": "code",
   "execution_count": 160,
   "id": "07b5ebe4-889e-4873-afaf-42700769be67",
   "metadata": {
    "tags": []
   },
   "outputs": [
    {
     "name": "stdout",
     "output_type": "stream",
     "text": [
      "\n",
      "\n",
      "\u001b[1m> Entering new AgentExecutor chain...\u001b[0m\n",
      "\u001b[32;1m\u001b[1;3mThought: Do I need to use a tool? Yes\n",
      "Action: Movie Trailer Search\n",
      "Action Input: E.T. by Steven Spielberg\u001b[0m\u001b[33;1m\u001b[1;3m['https://www.youtube.com/watch?v=qYAETtIIClk&pp=ygUYRS5ULiBieSBTdGV2ZW4gU3BpZWxiZXJn', 'https://www.youtube.com/watch?v=DKOjbO9-vcc&pp=ygUYRS5ULiBieSBTdGV2ZW4gU3BpZWxiZXJn']\u001b[0m\n",
      "\u001b[32;1m\u001b[1;3m\u001b[0m\n",
      "\n",
      "\u001b[1m> Finished chain.\u001b[0m\n",
      "['https://www.youtube.com/watch?v=qYAETtIIClk&pp=ygUYRS5ULiBieSBTdGV2ZW4gU3BpZWxiZXJn', 'https://www.youtube.com/watch?v=DKOjbO9-vcc&pp=ygUYRS5ULiBieSBTdGV2ZW4gU3BpZWxiZXJn']\n"
     ]
    }
   ],
   "source": [
    "q = \"Do you have the trailer for E.T. by Steven Spielberg?\"\n",
    "response = agent_executor.invoke({\"input\": q})\n",
    "print(response[\"output\"])"
   ]
  },
  {
   "cell_type": "code",
   "execution_count": 161,
   "id": "3ddea5e2-69c9-4275-bff3-2dc30a9dc4ee",
   "metadata": {
    "tags": []
   },
   "outputs": [
    {
     "name": "stdout",
     "output_type": "stream",
     "text": [
      "\n",
      "\n",
      "\u001b[1m> Entering new AgentExecutor chain...\u001b[0m\n",
      "\u001b[32;1m\u001b[1;3mThought: Do I need to use a tool? Yes\n",
      "Action: Today detector\n",
      "Action Input: I wonder what's up with 2 feb 2024\u001b[0m\u001b[38;5;200m\u001b[1;3mThat's today!\u001b[0m\n",
      "\u001b[32;1m\u001b[1;3m\u001b[0m\n",
      "\n",
      "\u001b[1m> Finished chain.\u001b[0m\n",
      "That's today!\n"
     ]
    }
   ],
   "source": [
    "q = \"I wonder what's up with 2 feb 2024\"\n",
    "response = agent_executor.invoke({\"input\": q})\n",
    "print(response[\"output\"])"
   ]
  }
 ],
 "metadata": {
  "kernelspec": {
   "display_name": "Python 3 (ipykernel)",
   "language": "python",
   "name": "python3"
  },
  "language_info": {
   "codemirror_mode": {
    "name": "ipython",
    "version": 3
   },
   "file_extension": ".py",
   "mimetype": "text/x-python",
   "name": "python",
   "nbconvert_exporter": "python",
   "pygments_lexer": "ipython3",
   "version": "3.9.12"
  }
 },
 "nbformat": 4,
 "nbformat_minor": 5
}
